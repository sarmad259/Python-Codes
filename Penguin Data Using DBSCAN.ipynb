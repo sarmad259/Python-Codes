{
 "cells": [
  {
   "cell_type": "code",
   "execution_count": 15,
   "metadata": {},
   "outputs": [
    {
     "name": "stdout",
     "output_type": "stream",
     "text": [
      "Accuracy: 100.0\n",
      "Precision: 100.0\n",
      "Recall: 100.0\n",
      "F1 Score: 100.0\n"
     ]
    }
   ],
   "source": [
    "import pandas as pd\n",
    "from sklearn.preprocessing import StandardScaler, LabelEncoder\n",
    "from sklearn.impute import SimpleImputer\n",
    "from sklearn.cluster import DBSCAN\n",
    "from sklearn.model_selection import train_test_split\n",
    "from sklearn.neural_network import MLPClassifier\n",
    "from sklearn.metrics import accuracy_score, precision_score, recall_score, f1_score, silhouette_score\n",
    "\n",
    "# Load the dataset\n",
    "penguin_df = pd.read_csv(\"penguins.csv\")  # Update the path to your file\n",
    "\n",
    "# Handle missing values\n",
    "imputer = SimpleImputer(strategy='mean')\n",
    "penguin_df[['culmen_length_mm', 'culmen_depth_mm', 'flipper_length_mm', 'body_mass_g']] = imputer.fit_transform(\n",
    "    penguin_df[['culmen_length_mm', 'culmen_depth_mm', 'flipper_length_mm', 'body_mass_g']]\n",
    ")\n",
    "\n",
    "# Encode the 'sex' column\n",
    "label_encoder = LabelEncoder()\n",
    "penguin_df['sex'] = label_encoder.fit_transform(penguin_df['sex'])\n",
    "\n",
    "# Prepare the feature matrix\n",
    "X = penguin_df[['culmen_length_mm', 'culmen_depth_mm', 'flipper_length_mm', 'body_mass_g', 'sex']]\n",
    "\n",
    "# Standardize the features\n",
    "scaler = StandardScaler()\n",
    "X_scaled = scaler.fit_transform(X)\n",
    "\n",
    "# Apply DBSCAN clustering\n",
    "dbscan = DBSCAN(eps=1, min_samples=5)  # Adjust eps and min_samples as needed\n",
    "labels = dbscan.fit_predict(X_scaled)\n",
    "\n",
    "\n",
    "# Add the cluster labels to the dataframe\n",
    "penguin_df['cluster'] = labels\n",
    "\n",
    "# Prepare for classification\n",
    "# Use cluster labels as pseudo-labels\n",
    "Y = penguin_df['cluster']\n",
    "\n",
    "# Train-test split\n",
    "X_train, X_test, Y_train, Y_test = train_test_split(X_scaled, Y, test_size=0.2, random_state=42)\n",
    "\n",
    "# Model implementation\n",
    "model = MLPClassifier(hidden_layer_sizes=(10,), activation='relu', solver='adam', max_iter=5000, random_state=42)\n",
    "\n",
    "# Training\n",
    "model.fit(X_train, Y_train)\n",
    "\n",
    "# Prediction\n",
    "Y_pred = model.predict(X_test)\n",
    "\n",
    "# Metrics\n",
    "accuracy = accuracy_score(Y_test, Y_pred)\n",
    "precision = precision_score(Y_test, Y_pred, average='macro', zero_division=0)\n",
    "recall = recall_score(Y_test, Y_pred, average='macro', zero_division=0)\n",
    "f1 = f1_score(Y_test, Y_pred, average='macro', zero_division=0)\n",
    "\n",
    "# Print results\n",
    "print(\"Accuracy:\", accuracy * 100)\n",
    "print(\"Precision:\", precision * 100)\n",
    "print(\"Recall:\", recall * 100)\n",
    "print(\"F1 Score:\", f1 * 100)\n"
   ]
  }
 ],
 "metadata": {
  "kernelspec": {
   "display_name": "Python 3",
   "language": "python",
   "name": "python3"
  },
  "language_info": {
   "codemirror_mode": {
    "name": "ipython",
    "version": 3
   },
   "file_extension": ".py",
   "mimetype": "text/x-python",
   "name": "python",
   "nbconvert_exporter": "python",
   "pygments_lexer": "ipython3",
   "version": "3.12.0"
  }
 },
 "nbformat": 4,
 "nbformat_minor": 2
}
