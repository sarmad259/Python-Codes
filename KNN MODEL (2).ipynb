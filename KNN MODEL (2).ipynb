{
 "cells": [
  {
   "cell_type": "code",
   "execution_count": null,
   "metadata": {},
   "outputs": [],
   "source": [
    "import numpy as np\n",
    "import pandas as pd\n",
    "import queue\n",
    "import matplotlib.pyplot as plt"
   ]
  },
  {
   "cell_type": "code",
   "execution_count": 4,
   "metadata": {},
   "outputs": [
    {
     "name": "stdout",
     "output_type": "stream",
     "text": [
      "    Smoke  Lungs Capacity Cancer\n",
      "0       0              10     No\n",
      "1       0              11     No\n",
      "2       1              10     No\n",
      "3       2               9     No\n",
      "4       0               9     No\n",
      "5       1               9    Yes\n",
      "6       3              10     No\n",
      "7       3               8    Yes\n",
      "8       3               8    Yes\n",
      "9       3               9     No\n",
      "10      5               6    Yes\n",
      "11      5               6    Yes\n",
      "12      7               6    Yes\n",
      "13      7               8    Yes\n",
      "14      8               5    Yes\n"
     ]
    },
    {
     "data": {
      "image/png": "[encoded data removed]",
      "text/plain": [
       "<Figure size 640x480 with 1 Axes>"
      ]
     },
     "metadata": {},
     "output_type": "display_data"
    },
    {
     "name": "stdout",
     "output_type": "stream",
     "text": [
      "Distances to each point in the dataset: [5, 5, 4, 3, 5, 4, 2, 2, 2, 2, 4, 4, 4, 2, 5]\n"
     ]
    },
    {
     "data": {
      "text/plain": [
       "[5, 5, 4, 3, 5, 4, 2, 2, 2, 2, 4, 4, 4, 2, 5]"
      ]
     },
     "execution_count": 4,
     "metadata": {},
     "output_type": "execute_result"
    }
   ],
   "source": [
    "file = pd.read_csv(\"file1.csv\")\n",
    "print(file)\n",
    "X_Axis = file[['Smoke', 'Lungs Capacity']].values\n",
    "def euclidean_distance(point1, point2):\n",
    "    return np.sqrt(np.sum((point1 - point2) ** 2))\n",
    "plt.scatter(X_Axis[:, 0], X_Axis[:, 1])\n",
    "plt.xlabel('Smoke')\n",
    "plt.ylabel('Lungs Capacity')\n",
    "plt.show()\n",
    "smoke_value = int(input(\"Please enter how many hours you smoke per day: \"))\n",
    "lung_capacity = int(input(\"Please input your lung capacity level: \"))\n",
    "user_point = np.array([smoke_value, lung_capacity])\n",
    "distances = [int(euclidean_distance(user_point, point)) for point in X_Axis]\n",
    "print(\"Distances to each point in the dataset:\", distances)\n",
    "k = 3#Taking 3 smallest value for good results\n",
    "nearest_indices = np.argsort(distances)[:k]#Doing some random function idk credit to ChatGpt\n",
    "print(f\"Points Are With Labeles {nearest_indices}\")\n",
    "Y_Axis = file['Cancer'].values\n",
    "nearest_labels = Y_Axis[nearest_indices]\n",
    "unique_labels, label_counts = np.unique(nearest_labels, return_counts=True)\n",
    "max_count_indices = np.where(label_counts == np.max(label_counts))[0]\n",
    "# If there is a tie, select all tied labels\n",
    "predicted_labels = unique_labels[max_count_indices]#There won't be any tie because we getting 3 values \n",
    "print(\"Predicted label(s):\", predicted_labels)"
   ]
  },
  {
   "cell_type": "code",
   "execution_count": null,
   "metadata": {},
   "outputs": [],
   "source": [
    "from sklearn.model_selection import train_test_split#for training and testing\n",
    "from sklearn.model_selection import train_test_split\n",
    "from sklearn.neighbors import KNeighborsClassifier\n",
    "from sklearn.metrics import accuracy_score"
   ]
  },
  {
   "cell_type": "code",
   "execution_count": null,
   "metadata": {},
   "outputs": [],
   "source": [
    "file = pd.read_csv(\"file2.csv\")\n",
    "mean_height = file[\"height\"].mean()\n",
    "mean_mass = file[\"mass\"].mean()\n",
    "print(\"Mean height:\", mean_height)\n",
    "print(\"Mean mass:\", mean_mass)\n",
    "file[\"height\"].fillna(mean_height, inplace=True)\n",
    "file[\"mass\"].fillna(mean_mass, inplace=True)\n",
    "file[\"fruit_subtype\"].replace(\"unknown\", pd.NA, inplace=True)#First Replace With Nan Value\n",
    "file.dropna(subset=[\"fruit_subtype\"], inplace=True)#Then remove it\n",
    "file[\"mass\"]=file[\"mass\"].astype(int)\n",
    "file[\"height\"]=file[\"height\"].astype(int)\n",
    "print(file)\n",
    "X = file.drop(columns=['fruit_label', 'fruit_name', 'fruit_subtype'])#All values except fruit Label,fruit Name,fruit label\n",
    "y = file['fruit_label']#Target Column which is fruit label\n",
    "X_train, X_test, y_train, y_test = train_test_split(X, y, test_size=0.3, random_state=42)#42 seed value for random value\n",
    "#X_train: This contains the features for the training set.   X corresponds to the features.\n",
    "#X_test: This contains the features for the testing set.       y corresponds to the target variable.\n",
    "#y_train: This contains the target values for the training set.   X_train and y_train contain the training data.  \n",
    "#y_test: This contains the target values for the testing set     X_test and y_test contain the testing data.\n",
    "knn=KNeighborsClassifier(n_neighbors=3)#Taking  3 nearest value as prediction \n",
    "knn.fit(X_train,y_train)#training phase\n",
    "y_predict=knn.predict(X_test)\n",
    "y_predict\n",
    "accuracy = accuracy_score(y_test, y_predict)\n",
    "print(\"Accuracy:\", accuracy)"
   ]
  }
 ],
 "metadata": {
  "kernelspec": {
   "display_name": "Python 3",
   "language": "python",
   "name": "python3"
  },
  "language_info": {
   "codemirror_mode": {
    "name": "ipython",
    "version": 3
   },
   "file_extension": ".py",
   "mimetype": "text/x-python",
   "name": "python",
   "nbconvert_exporter": "python",
   "pygments_lexer": "ipython3",
   "version": "3.12.0"
  }
 },
 "nbformat": 4,
 "nbformat_minor": 2
}
