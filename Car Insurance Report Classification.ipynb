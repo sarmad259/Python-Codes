{
 "cells": [
  {
   "cell_type": "code",
   "execution_count": 71,
   "metadata": {},
   "outputs": [
    {
     "name": "stdout",
     "output_type": "stream",
     "text": [
      "Accuracy: 82.8\n",
      "\n",
      "Classification Report:\n",
      "               precision    recall  f1-score   support\n",
      "\n",
      "         0.0       0.85      0.90      0.88      1345\n",
      "         1.0       0.76      0.69      0.72       655\n",
      "\n",
      "    accuracy                           0.83      2000\n",
      "   macro avg       0.81      0.79      0.80      2000\n",
      "weighted avg       0.82      0.83      0.83      2000\n",
      "\n",
      "\n",
      "Test set with True and Predicted Outcomes:\n",
      "       True Outcome  Predicted Outcome\n",
      "9394           1.0                1.0\n",
      "898            0.0                0.0\n",
      "2398           0.0                0.0\n",
      "5906           0.0                0.0\n",
      "2343           1.0                1.0\n"
     ]
    }
   ],
   "source": [
    "import pandas as pd\n",
    "from sklearn.model_selection import train_test_split\n",
    "from sklearn.neighbors import KNeighborsClassifier\n",
    "from sklearn.metrics import accuracy_score\n",
    "import matplotlib.pyplot as plt\n",
    "import seaborn as sns\n",
    "from sklearn.metrics import accuracy_score, classification_report, confusion_matrix\n",
    "\n",
    "# Load data\n",
    "file = pd.read_csv(\"car_insurance.csv\")\n",
    "\n",
    "# Fill missing values with mean\n",
    "file['credit_score'].fillna(file['credit_score'].mean(), inplace=True)\n",
    "file['annual_mileage'].fillna(file['annual_mileage'].mean(), inplace=True)\n",
    "\n",
    "# Convert categorical variables to codes\n",
    "file['driving_experience'] = file['driving_experience'].astype('category').cat.codes\n",
    "file['education'] = file['education'].astype('category').cat.codes\n",
    "file['income'] = file['income'].astype('category').cat.codes\n",
    "file['vehicle_year'] = file['vehicle_year'].astype('category').cat.codes\n",
    "file['vehicle_type'] = file['vehicle_type'].astype('category').cat.codes\n",
    "\n",
    "# Selecting features and target variable\n",
    "features = ['age', 'gender', 'driving_experience',  'income', \n",
    "            'vehicle_ownership', 'vehicle_year',  \n",
    "            'speeding_violations']\n",
    "X = file[features]  # Features\n",
    "y = file[\"outcome\"]  # Target variable\n",
    "\n",
    "# Train-test split\n",
    "X_train, X_test, y_train, y_test = train_test_split(X, y, test_size=0.2, random_state=0)\n",
    "\n",
    "# Initialize and fit KNN classifier\n",
    "knn = KNeighborsClassifier(n_neighbors=13)\n",
    "knn.fit(X_train, y_train)\n",
    "\n",
    "# Predict on test set\n",
    "y_predict = knn.predict(X_test)\n",
    "\n",
    "# Calculate accuracy\n",
    "accuracy = accuracy_score(y_test, y_predict)\n",
    "print(\"Accuracy:\", accuracy*100)\n",
    "\n",
    "# Show classification report\n",
    "print(\"\\nClassification Report:\\n\", classification_report(y_test, y_predict))\n",
    "\n",
    "\n",
    "# Create a DataFrame to show actual and predicted values\n",
    "results = pd.DataFrame({'True Outcome': y_test, 'Predicted Outcome': y_predict})\n",
    "\n",
    "# Display the DataFrame\n",
    "print(\"\\nTest set with True and Predicted Outcomes:\\n\", results.head())"
   ]
  }
 ],
 "metadata": {
  "kernelspec": {
   "display_name": "Python 3",
   "language": "python",
   "name": "python3"
  },
  "language_info": {
   "codemirror_mode": {
    "name": "ipython",
    "version": 3
   },
   "file_extension": ".py",
   "mimetype": "text/x-python",
   "name": "python",
   "nbconvert_exporter": "python",
   "pygments_lexer": "ipython3",
   "version": "3.12.0"
  }
 },
 "nbformat": 4,
 "nbformat_minor": 2
}
