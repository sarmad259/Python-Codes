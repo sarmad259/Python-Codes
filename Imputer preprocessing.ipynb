{
 "cells": [
  {
   "cell_type": "code",
   "execution_count": null,
   "metadata": {
    "colab": {
     "base_uri": "https://localhost:8080/"
    },
    "id": "No6WxzMdY_Cy",
    "outputId": "282a151f-5a9f-4062-d9c7-5f0d7f41a3cb"
   },
   "outputs": [
    {
     "name": "stdout",
     "output_type": "stream",
     "text": [
      "Drive already mounted at /content/drive; to attempt to forcibly remount, call drive.mount(\"/content/drive\", force_remount=True).\n"
     ]
    }
   ],
   "source": [
    "from google.colab import drive\n",
    "drive.mount('/content/drive')"
   ]
  },
  {
   "cell_type": "code",
   "execution_count": null,
   "metadata": {
    "id": "WyrfGpZDsklD"
   },
   "outputs": [],
   "source": [
    "import pandas as pd"
   ]
  },
  {
   "cell_type": "code",
   "execution_count": null,
   "metadata": {
    "id": "eLZHobJ8snp7"
   },
   "outputs": [],
   "source": [
    "csv_file='/content/drive/MyDrive/Colab Notebooks/housing.csv'\n",
    "df = pd.read_csv(csv_file)"
   ]
  },
  {
   "cell_type": "code",
   "execution_count": null,
   "metadata": {
    "colab": {
     "base_uri": "https://localhost:8080/"
    },
    "id": "-a5nc_MKtRLT",
    "outputId": "66605185-9d0f-407d-c006-614a2133449e"
   },
   "outputs": [
    {
     "name": "stdout",
     "output_type": "stream",
     "text": [
      "207\n"
     ]
    }
   ],
   "source": [
    "null_values=df['total_bedrooms'].isnull().sum()\n",
    "print(null_values)"
   ]
  },
  {
   "cell_type": "code",
   "execution_count": null,
   "metadata": {
    "id": "6zKeeMPo1yee"
   },
   "outputs": [],
   "source": [
    "#df.dropna(subset=[\"total_bedrooms\"], inplace=True) Option 1\n",
    "\n",
    "#df.drop(\"total_bedrooms\", axis=1) Option 2\n",
    "\n",
    "median = df[\"total_bedrooms\"].median() # option 3\n",
    "df[\"total_bedrooms\"].fillna(median, inplace=True)\n"
   ]
  },
  {
   "cell_type": "code",
   "execution_count": null,
   "metadata": {
    "id": "j382LuhwupuD"
   },
   "outputs": [],
   "source": [
    "import numpy as np\n",
    "from sklearn.impute import SimpleImputer\n",
    "imputer = SimpleImputer(strategy='median')\n"
   ]
  },
  {
   "cell_type": "code",
   "execution_count": null,
   "metadata": {
    "id": "fihWYwkVBteP"
   },
   "outputs": [],
   "source": [
    "housing_data=df.select_dtypes(include=[np.number])\n"
   ]
  },
  {
   "cell_type": "code",
   "execution_count": null,
   "metadata": {
    "colab": {
     "base_uri": "https://localhost:8080/",
     "height": 75
    },
    "id": "BGIBcQKfDXL5",
    "outputId": "7938286a-928a-452f-fc06-a7936988094b"
   },
   "outputs": [
    {
     "data": {
      "text/html": [
       "<style>#sk-container-id-1 {color: black;}#sk-container-id-1 pre{padding: 0;}#sk-container-id-1 div.sk-toggleable {background-color: white;}#sk-container-id-1 label.sk-toggleable__label {cursor: pointer;display: block;width: 100%;margin-bottom: 0;padding: 0.3em;box-sizing: border-box;text-align: center;}#sk-container-id-1 label.sk-toggleable__label-arrow:before {content: \"▸\";float: left;margin-right: 0.25em;color: #696969;}#sk-container-id-1 label.sk-toggleable__label-arrow:hover:before {color: black;}#sk-container-id-1 div.sk-estimator:hover label.sk-toggleable__label-arrow:before {color: black;}#sk-container-id-1 div.sk-toggleable__content {max-height: 0;max-width: 0;overflow: hidden;text-align: left;background-color: #f0f8ff;}#sk-container-id-1 div.sk-toggleable__content pre {margin: 0.2em;color: black;border-radius: 0.25em;background-color: #f0f8ff;}#sk-container-id-1 input.sk-toggleable__control:checked~div.sk-toggleable__content {max-height: 200px;max-width: 100%;overflow: auto;}#sk-container-id-1 input.sk-toggleable__control:checked~label.sk-toggleable__label-arrow:before {content: \"▾\";}#sk-container-id-1 div.sk-estimator input.sk-toggleable__control:checked~label.sk-toggleable__label {background-color: #d4ebff;}#sk-container-id-1 div.sk-label input.sk-toggleable__control:checked~label.sk-toggleable__label {background-color: #d4ebff;}#sk-container-id-1 input.sk-hidden--visually {border: 0;clip: rect(1px 1px 1px 1px);clip: rect(1px, 1px, 1px, 1px);height: 1px;margin: -1px;overflow: hidden;padding: 0;position: absolute;width: 1px;}#sk-container-id-1 div.sk-estimator {font-family: monospace;background-color: #f0f8ff;border: 1px dotted black;border-radius: 0.25em;box-sizing: border-box;margin-bottom: 0.5em;}#sk-container-id-1 div.sk-estimator:hover {background-color: #d4ebff;}#sk-container-id-1 div.sk-parallel-item::after {content: \"\";width: 100%;border-bottom: 1px solid gray;flex-grow: 1;}#sk-container-id-1 div.sk-label:hover label.sk-toggleable__label {background-color: #d4ebff;}#sk-container-id-1 div.sk-serial::before {content: \"\";position: absolute;border-left: 1px solid gray;box-sizing: border-box;top: 0;bottom: 0;left: 50%;z-index: 0;}#sk-container-id-1 div.sk-serial {display: flex;flex-direction: column;align-items: center;background-color: white;padding-right: 0.2em;padding-left: 0.2em;position: relative;}#sk-container-id-1 div.sk-item {position: relative;z-index: 1;}#sk-container-id-1 div.sk-parallel {display: flex;align-items: stretch;justify-content: center;background-color: white;position: relative;}#sk-container-id-1 div.sk-item::before, #sk-container-id-1 div.sk-parallel-item::before {content: \"\";position: absolute;border-left: 1px solid gray;box-sizing: border-box;top: 0;bottom: 0;left: 50%;z-index: -1;}#sk-container-id-1 div.sk-parallel-item {display: flex;flex-direction: column;z-index: 1;position: relative;background-color: white;}#sk-container-id-1 div.sk-parallel-item:first-child::after {align-self: flex-end;width: 50%;}#sk-container-id-1 div.sk-parallel-item:last-child::after {align-self: flex-start;width: 50%;}#sk-container-id-1 div.sk-parallel-item:only-child::after {width: 0;}#sk-container-id-1 div.sk-dashed-wrapped {border: 1px dashed gray;margin: 0 0.4em 0.5em 0.4em;box-sizing: border-box;padding-bottom: 0.4em;background-color: white;}#sk-container-id-1 div.sk-label label {font-family: monospace;font-weight: bold;display: inline-block;line-height: 1.2em;}#sk-container-id-1 div.sk-label-container {text-align: center;}#sk-container-id-1 div.sk-container {/* jupyter's `normalize.less` sets `[hidden] { display: none; }` but bootstrap.min.css set `[hidden] { display: none !important; }` so we also need the `!important` here to be able to override the default hidden behavior on the sphinx rendered scikit-learn.org. See: https://github.com/scikit-learn/scikit-learn/issues/21755 */display: inline-block !important;position: relative;}#sk-container-id-1 div.sk-text-repr-fallback {display: none;}</style><div id=\"sk-container-id-1\" class=\"sk-top-container\"><div class=\"sk-text-repr-fallback\"><pre>SimpleImputer(strategy=&#x27;median&#x27;)</pre><b>In a Jupyter environment, please rerun this cell to show the HTML representation or trust the notebook. <br />On GitHub, the HTML representation is unable to render, please try loading this page with nbviewer.org.</b></div><div class=\"sk-container\" hidden><div class=\"sk-item\"><div class=\"sk-estimator sk-toggleable\"><input class=\"sk-toggleable__control sk-hidden--visually\" id=\"sk-estimator-id-1\" type=\"checkbox\" checked><label for=\"sk-estimator-id-1\" class=\"sk-toggleable__label sk-toggleable__label-arrow\">SimpleImputer</label><div class=\"sk-toggleable__content\"><pre>SimpleImputer(strategy=&#x27;median&#x27;)</pre></div></div></div></div></div>"
      ],
      "text/plain": [
       "SimpleImputer(strategy='median')"
      ]
     },
     "execution_count": 8,
     "metadata": {},
     "output_type": "execute_result"
    }
   ],
   "source": [
    "imputer.fit(housing_data)\n"
   ]
  },
  {
   "cell_type": "code",
   "execution_count": null,
   "metadata": {
    "colab": {
     "base_uri": "https://localhost:8080/"
    },
    "id": "TrJJ09bKGM-c",
    "outputId": "75f2316e-f386-4a4b-b590-56576be64a5d"
   },
   "outputs": [
    {
     "data": {
      "text/plain": [
       "array([-1.1849e+02,  3.4260e+01,  2.9000e+01,  2.1270e+03,  4.3500e+02,\n",
       "        1.1660e+03,  4.0900e+02,  3.5348e+00,  1.7970e+05])"
      ]
     },
     "execution_count": 9,
     "metadata": {},
     "output_type": "execute_result"
    }
   ],
   "source": [
    "imputer.statistics_\n",
    "housing_data.median().values"
   ]
  },
  {
   "cell_type": "code",
   "execution_count": null,
   "metadata": {
    "colab": {
     "base_uri": "https://localhost:8080/"
    },
    "id": "Sy8gLxgcy9PD",
    "outputId": "eefb6b58-00a2-410f-ffe8-52a391c7dbb1"
   },
   "outputs": [
    {
     "name": "stdout",
     "output_type": "stream",
     "text": [
      "[[-1.2223e+02  3.7880e+01  4.1000e+01 ...  1.2600e+02  8.3252e+00\n",
      "   4.5260e+05]\n",
      " [-1.2222e+02  3.7860e+01  2.1000e+01 ...  1.1380e+03  8.3014e+00\n",
      "   3.5850e+05]\n",
      " [-1.2224e+02  3.7850e+01  5.2000e+01 ...  1.7700e+02  7.2574e+00\n",
      "   3.5210e+05]\n",
      " ...\n",
      " [-1.2122e+02  3.9430e+01  1.7000e+01 ...  4.3300e+02  1.7000e+00\n",
      "   9.2300e+04]\n",
      " [-1.2132e+02  3.9430e+01  1.8000e+01 ...  3.4900e+02  1.8672e+00\n",
      "   8.4700e+04]\n",
      " [-1.2124e+02  3.9370e+01  1.6000e+01 ...  5.3000e+02  2.3886e+00\n",
      "   8.9400e+04]]\n"
     ]
    }
   ],
   "source": [
    "X=imputer.transform(housing_data)\n",
    "print(X)"
   ]
  },
  {
   "cell_type": "code",
   "execution_count": null,
   "metadata": {
    "colab": {
     "base_uri": "https://localhost:8080/"
    },
    "id": "GUE5cDvQUS4Z",
    "outputId": "abef8d69-d27c-4cfe-ed6b-4f04e0f63d99"
   },
   "outputs": [
    {
     "name": "stdout",
     "output_type": "stream",
     "text": [
      "       longitude  latitude  housing_median_age  total_rooms  total_bedrooms  \\\n",
      "0        -122.23     37.88                41.0        880.0           129.0   \n",
      "1        -122.22     37.86                21.0       7099.0          1106.0   \n",
      "2        -122.24     37.85                52.0       1467.0           190.0   \n",
      "3        -122.25     37.85                52.0       1274.0           235.0   \n",
      "4        -122.25     37.85                52.0       1627.0           280.0   \n",
      "...          ...       ...                 ...          ...             ...   \n",
      "20635    -121.09     39.48                25.0       1665.0           374.0   \n",
      "20636    -121.21     39.49                18.0        697.0           150.0   \n",
      "20637    -121.22     39.43                17.0       2254.0           485.0   \n",
      "20638    -121.32     39.43                18.0       1860.0           409.0   \n",
      "20639    -121.24     39.37                16.0       2785.0           616.0   \n",
      "\n",
      "       population  households  median_income  median_house_value  \n",
      "0           322.0       126.0         8.3252            452600.0  \n",
      "1          2401.0      1138.0         8.3014            358500.0  \n",
      "2           496.0       177.0         7.2574            352100.0  \n",
      "3           558.0       219.0         5.6431            341300.0  \n",
      "4           565.0       259.0         3.8462            342200.0  \n",
      "...           ...         ...            ...                 ...  \n",
      "20635       845.0       330.0         1.5603             78100.0  \n",
      "20636       356.0       114.0         2.5568             77100.0  \n",
      "20637      1007.0       433.0         1.7000             92300.0  \n",
      "20638       741.0       349.0         1.8672             84700.0  \n",
      "20639      1387.0       530.0         2.3886             89400.0  \n",
      "\n",
      "[20640 rows x 9 columns]\n"
     ]
    }
   ],
   "source": [
    "housing_tr = pd.DataFrame(X, columns=housing_data.columns,\n",
    "index=housing_data.index)\n",
    "\n",
    "print(housing_tr)"
   ]
  },
  {
   "cell_type": "code",
   "execution_count": null,
   "metadata": {
    "colab": {
     "base_uri": "https://localhost:8080/",
     "height": 424
    },
    "id": "6ejHQz1eWVVK",
    "outputId": "006f08bc-8333-45dd-ec72-0e8189ef4121"
   },
   "outputs": [
    {
     "data": {
      "application/vnd.google.colaboratory.intrinsic+json": {
       "summary": "{\n  \"name\": \"housing_categorical\",\n  \"rows\": 20640,\n  \"fields\": [\n    {\n      \"column\": \"ocean_proximity\",\n      \"properties\": {\n        \"dtype\": \"category\",\n        \"num_unique_values\": 5,\n        \"samples\": [\n          \"<1H OCEAN\",\n          \"ISLAND\",\n          \"INLAND\"\n        ],\n        \"semantic_type\": \"\",\n        \"description\": \"\"\n      }\n    }\n  ]\n}",
       "type": "dataframe",
       "variable_name": "housing_categorical"
      },
      "text/html": [
       "\n",
       "  <div id=\"df-3371a4ab-05cd-45dd-9995-f3997bf29fec\" class=\"colab-df-container\">\n",
       "    <div>\n",
       "<style scoped>\n",
       "    .dataframe tbody tr th:only-of-type {\n",
       "        vertical-align: middle;\n",
       "    }\n",
       "\n",
       "    .dataframe tbody tr th {\n",
       "        vertical-align: top;\n",
       "    }\n",
       "\n",
       "    .dataframe thead th {\n",
       "        text-align: right;\n",
       "    }\n",
       "</style>\n",
       "<table border=\"1\" class=\"dataframe\">\n",
       "  <thead>\n",
       "    <tr style=\"text-align: right;\">\n",
       "      <th></th>\n",
       "      <th>ocean_proximity</th>\n",
       "    </tr>\n",
       "  </thead>\n",
       "  <tbody>\n",
       "    <tr>\n",
       "      <th>0</th>\n",
       "      <td>NEAR BAY</td>\n",
       "    </tr>\n",
       "    <tr>\n",
       "      <th>1</th>\n",
       "      <td>NEAR BAY</td>\n",
       "    </tr>\n",
       "    <tr>\n",
       "      <th>2</th>\n",
       "      <td>NEAR BAY</td>\n",
       "    </tr>\n",
       "    <tr>\n",
       "      <th>3</th>\n",
       "      <td>NEAR BAY</td>\n",
       "    </tr>\n",
       "    <tr>\n",
       "      <th>4</th>\n",
       "      <td>NEAR BAY</td>\n",
       "    </tr>\n",
       "    <tr>\n",
       "      <th>...</th>\n",
       "      <td>...</td>\n",
       "    </tr>\n",
       "    <tr>\n",
       "      <th>495</th>\n",
       "      <td>INLAND</td>\n",
       "    </tr>\n",
       "    <tr>\n",
       "      <th>496</th>\n",
       "      <td>&lt;1H OCEAN</td>\n",
       "    </tr>\n",
       "    <tr>\n",
       "      <th>497</th>\n",
       "      <td>&lt;1H OCEAN</td>\n",
       "    </tr>\n",
       "    <tr>\n",
       "      <th>498</th>\n",
       "      <td>&lt;1H OCEAN</td>\n",
       "    </tr>\n",
       "    <tr>\n",
       "      <th>499</th>\n",
       "      <td>NEAR OCEAN</td>\n",
       "    </tr>\n",
       "  </tbody>\n",
       "</table>\n",
       "<p>500 rows × 1 columns</p>\n",
       "</div>\n",
       "    <div class=\"colab-df-buttons\">\n",
       "\n",
       "  <div class=\"colab-df-container\">\n",
       "    <button class=\"colab-df-convert\" onclick=\"convertToInteractive('df-3371a4ab-05cd-45dd-9995-f3997bf29fec')\"\n",
       "            title=\"Convert this dataframe to an interactive table.\"\n",
       "            style=\"display:none;\">\n",
       "\n",
       "  <svg xmlns=\"http://www.w3.org/2000/svg\" height=\"24px\" viewBox=\"0 -960 960 960\">\n",
       "    <path d=\"M120-120v-720h720v720H120Zm60-500h600v-160H180v160Zm220 220h160v-160H400v160Zm0 220h160v-160H400v160ZM180-400h160v-160H180v160Zm440 0h160v-160H620v160ZM180-180h160v-160H180v160Zm440 0h160v-160H620v160Z\"/>\n",
       "  </svg>\n",
       "    </button>\n",
       "\n",
       "  <style>\n",
       "    .colab-df-container {\n",
       "      display:flex;\n",
       "      gap: 12px;\n",
       "    }\n",
       "\n",
       "    .colab-df-convert {\n",
       "      background-color: #E8F0FE;\n",
       "      border: none;\n",
       "      border-radius: 50%;\n",
       "      cursor: pointer;\n",
       "      display: none;\n",
       "      fill: #1967D2;\n",
       "      height: 32px;\n",
       "      padding: 0 0 0 0;\n",
       "      width: 32px;\n",
       "    }\n",
       "\n",
       "    .colab-df-convert:hover {\n",
       "      background-color: #E2EBFA;\n",
       "      box-shadow: 0px 1px 2px rgba(60, 64, 67, 0.3), 0px 1px 3px 1px rgba(60, 64, 67, 0.15);\n",
       "      fill: #174EA6;\n",
       "    }\n",
       "\n",
       "    .colab-df-buttons div {\n",
       "      margin-bottom: 4px;\n",
       "    }\n",
       "\n",
       "    [theme=dark] .colab-df-convert {\n",
       "      background-color: #3B4455;\n",
       "      fill: #D2E3FC;\n",
       "    }\n",
       "\n",
       "    [theme=dark] .colab-df-convert:hover {\n",
       "      background-color: #434B5C;\n",
       "      box-shadow: 0px 1px 3px 1px rgba(0, 0, 0, 0.15);\n",
       "      filter: drop-shadow(0px 1px 2px rgba(0, 0, 0, 0.3));\n",
       "      fill: #FFFFFF;\n",
       "    }\n",
       "  </style>\n",
       "\n",
       "    <script>\n",
       "      const buttonEl =\n",
       "        document.querySelector('#df-3371a4ab-05cd-45dd-9995-f3997bf29fec button.colab-df-convert');\n",
       "      buttonEl.style.display =\n",
       "        google.colab.kernel.accessAllowed ? 'block' : 'none';\n",
       "\n",
       "      async function convertToInteractive(key) {\n",
       "        const element = document.querySelector('#df-3371a4ab-05cd-45dd-9995-f3997bf29fec');\n",
       "        const dataTable =\n",
       "          await google.colab.kernel.invokeFunction('convertToInteractive',\n",
       "                                                    [key], {});\n",
       "        if (!dataTable) return;\n",
       "\n",
       "        const docLinkHtml = 'Like what you see? Visit the ' +\n",
       "          '<a target=\"_blank\" href=https://colab.research.google.com/notebooks/data_table.ipynb>data table notebook</a>'\n",
       "          + ' to learn more about interactive tables.';\n",
       "        element.innerHTML = '';\n",
       "        dataTable['output_type'] = 'display_data';\n",
       "        await google.colab.output.renderOutput(dataTable, element);\n",
       "        const docLink = document.createElement('div');\n",
       "        docLink.innerHTML = docLinkHtml;\n",
       "        element.appendChild(docLink);\n",
       "      }\n",
       "    </script>\n",
       "  </div>\n",
       "\n",
       "\n",
       "<div id=\"df-55b5ee26-778d-435c-ab19-2b0d99392e6b\">\n",
       "  <button class=\"colab-df-quickchart\" onclick=\"quickchart('df-55b5ee26-778d-435c-ab19-2b0d99392e6b')\"\n",
       "            title=\"Suggest charts\"\n",
       "            style=\"display:none;\">\n",
       "\n",
       "<svg xmlns=\"http://www.w3.org/2000/svg\" height=\"24px\"viewBox=\"0 0 24 24\"\n",
       "     width=\"24px\">\n",
       "    <g>\n",
       "        <path d=\"M19 3H5c-1.1 0-2 .9-2 2v14c0 1.1.9 2 2 2h14c1.1 0 2-.9 2-2V5c0-1.1-.9-2-2-2zM9 17H7v-7h2v7zm4 0h-2V7h2v10zm4 0h-2v-4h2v4z\"/>\n",
       "    </g>\n",
       "</svg>\n",
       "  </button>\n",
       "\n",
       "<style>\n",
       "  .colab-df-quickchart {\n",
       "      --bg-color: #E8F0FE;\n",
       "      --fill-color: #1967D2;\n",
       "      --hover-bg-color: #E2EBFA;\n",
       "      --hover-fill-color: #174EA6;\n",
       "      --disabled-fill-color: #AAA;\n",
       "      --disabled-bg-color: #DDD;\n",
       "  }\n",
       "\n",
       "  [theme=dark] .colab-df-quickchart {\n",
       "      --bg-color: #3B4455;\n",
       "      --fill-color: #D2E3FC;\n",
       "      --hover-bg-color: #434B5C;\n",
       "      --hover-fill-color: #FFFFFF;\n",
       "      --disabled-bg-color: #3B4455;\n",
       "      --disabled-fill-color: #666;\n",
       "  }\n",
       "\n",
       "  .colab-df-quickchart {\n",
       "    background-color: var(--bg-color);\n",
       "    border: none;\n",
       "    border-radius: 50%;\n",
       "    cursor: pointer;\n",
       "    display: none;\n",
       "    fill: var(--fill-color);\n",
       "    height: 32px;\n",
       "    padding: 0;\n",
       "    width: 32px;\n",
       "  }\n",
       "\n",
       "  .colab-df-quickchart:hover {\n",
       "    background-color: var(--hover-bg-color);\n",
       "    box-shadow: 0 1px 2px rgba(60, 64, 67, 0.3), 0 1px 3px 1px rgba(60, 64, 67, 0.15);\n",
       "    fill: var(--button-hover-fill-color);\n",
       "  }\n",
       "\n",
       "  .colab-df-quickchart-complete:disabled,\n",
       "  .colab-df-quickchart-complete:disabled:hover {\n",
       "    background-color: var(--disabled-bg-color);\n",
       "    fill: var(--disabled-fill-color);\n",
       "    box-shadow: none;\n",
       "  }\n",
       "\n",
       "  .colab-df-spinner {\n",
       "    border: 2px solid var(--fill-color);\n",
       "    border-color: transparent;\n",
       "    border-bottom-color: var(--fill-color);\n",
       "    animation:\n",
       "      spin 1s steps(1) infinite;\n",
       "  }\n",
       "\n",
       "  @keyframes spin {\n",
       "    0% {\n",
       "      border-color: transparent;\n",
       "      border-bottom-color: var(--fill-color);\n",
       "      border-left-color: var(--fill-color);\n",
       "    }\n",
       "    20% {\n",
       "      border-color: transparent;\n",
       "      border-left-color: var(--fill-color);\n",
       "      border-top-color: var(--fill-color);\n",
       "    }\n",
       "    30% {\n",
       "      border-color: transparent;\n",
       "      border-left-color: var(--fill-color);\n",
       "      border-top-color: var(--fill-color);\n",
       "      border-right-color: var(--fill-color);\n",
       "    }\n",
       "    40% {\n",
       "      border-color: transparent;\n",
       "      border-right-color: var(--fill-color);\n",
       "      border-top-color: var(--fill-color);\n",
       "    }\n",
       "    60% {\n",
       "      border-color: transparent;\n",
       "      border-right-color: var(--fill-color);\n",
       "    }\n",
       "    80% {\n",
       "      border-color: transparent;\n",
       "      border-right-color: var(--fill-color);\n",
       "      border-bottom-color: var(--fill-color);\n",
       "    }\n",
       "    90% {\n",
       "      border-color: transparent;\n",
       "      border-bottom-color: var(--fill-color);\n",
       "    }\n",
       "  }\n",
       "</style>\n",
       "\n",
       "  <script>\n",
       "    async function quickchart(key) {\n",
       "      const quickchartButtonEl =\n",
       "        document.querySelector('#' + key + ' button');\n",
       "      quickchartButtonEl.disabled = true;  // To prevent multiple clicks.\n",
       "      quickchartButtonEl.classList.add('colab-df-spinner');\n",
       "      try {\n",
       "        const charts = await google.colab.kernel.invokeFunction(\n",
       "            'suggestCharts', [key], {});\n",
       "      } catch (error) {\n",
       "        console.error('Error during call to suggestCharts:', error);\n",
       "      }\n",
       "      quickchartButtonEl.classList.remove('colab-df-spinner');\n",
       "      quickchartButtonEl.classList.add('colab-df-quickchart-complete');\n",
       "    }\n",
       "    (() => {\n",
       "      let quickchartButtonEl =\n",
       "        document.querySelector('#df-55b5ee26-778d-435c-ab19-2b0d99392e6b button');\n",
       "      quickchartButtonEl.style.display =\n",
       "        google.colab.kernel.accessAllowed ? 'block' : 'none';\n",
       "    })();\n",
       "  </script>\n",
       "</div>\n",
       "\n",
       "    </div>\n",
       "  </div>\n"
      ],
      "text/plain": [
       "    ocean_proximity\n",
       "0          NEAR BAY\n",
       "1          NEAR BAY\n",
       "2          NEAR BAY\n",
       "3          NEAR BAY\n",
       "4          NEAR BAY\n",
       "..              ...\n",
       "495          INLAND\n",
       "496       <1H OCEAN\n",
       "497       <1H OCEAN\n",
       "498       <1H OCEAN\n",
       "499      NEAR OCEAN\n",
       "\n",
       "[500 rows x 1 columns]"
      ]
     },
     "execution_count": 13,
     "metadata": {},
     "output_type": "execute_result"
    }
   ],
   "source": [
    "housing_categorical=df[[\"ocean_proximity\"]]\n",
    "housing_categorical.head(500)"
   ]
  },
  {
   "cell_type": "code",
   "execution_count": null,
   "metadata": {
    "id": "Mmvt_3DFXujQ"
   },
   "outputs": [],
   "source": [
    "from sklearn.preprocessing import OrdinalEncoder\n",
    "ordinal_encoder = OrdinalEncoder()\n",
    "housing_cat_encoded = ordinal_encoder.fit_transform(housing_categorical)"
   ]
  },
  {
   "cell_type": "code",
   "execution_count": null,
   "metadata": {
    "colab": {
     "base_uri": "https://localhost:8080/"
    },
    "id": "Ta4SNtFKYNrD",
    "outputId": "bd30043b-e847-4537-c47b-7e71e813e364"
   },
   "outputs": [
    {
     "data": {
      "text/plain": [
       "array([[3.],\n",
       "       [3.],\n",
       "       [3.],\n",
       "       [3.],\n",
       "       [3.],\n",
       "       [3.],\n",
       "       [3.],\n",
       "       [3.],\n",
       "       [3.],\n",
       "       [3.],\n",
       "       [3.],\n",
       "       [3.],\n",
       "       [3.],\n",
       "       [3.],\n",
       "       [3.],\n",
       "       [3.],\n",
       "       [3.],\n",
       "       [3.],\n",
       "       [3.],\n",
       "       [3.],\n",
       "       [3.],\n",
       "       [3.],\n",
       "       [3.],\n",
       "       [3.],\n",
       "       [3.],\n",
       "       [3.],\n",
       "       [3.],\n",
       "       [3.],\n",
       "       [3.],\n",
       "       [3.],\n",
       "       [3.],\n",
       "       [3.],\n",
       "       [3.],\n",
       "       [3.],\n",
       "       [3.],\n",
       "       [3.],\n",
       "       [3.],\n",
       "       [3.],\n",
       "       [3.],\n",
       "       [3.],\n",
       "       [3.],\n",
       "       [3.],\n",
       "       [3.],\n",
       "       [3.],\n",
       "       [3.],\n",
       "       [3.],\n",
       "       [3.],\n",
       "       [3.],\n",
       "       [3.],\n",
       "       [3.],\n",
       "       [3.],\n",
       "       [3.],\n",
       "       [3.],\n",
       "       [3.],\n",
       "       [3.],\n",
       "       [3.],\n",
       "       [3.],\n",
       "       [3.],\n",
       "       [3.],\n",
       "       [3.],\n",
       "       [3.],\n",
       "       [3.],\n",
       "       [3.],\n",
       "       [3.],\n",
       "       [3.],\n",
       "       [3.],\n",
       "       [3.],\n",
       "       [3.],\n",
       "       [3.],\n",
       "       [3.],\n",
       "       [3.],\n",
       "       [3.],\n",
       "       [3.],\n",
       "       [3.],\n",
       "       [3.],\n",
       "       [3.],\n",
       "       [3.],\n",
       "       [3.],\n",
       "       [3.],\n",
       "       [3.],\n",
       "       [3.],\n",
       "       [3.],\n",
       "       [3.],\n",
       "       [3.],\n",
       "       [3.],\n",
       "       [3.],\n",
       "       [3.],\n",
       "       [3.],\n",
       "       [3.],\n",
       "       [3.],\n",
       "       [3.],\n",
       "       [3.],\n",
       "       [3.],\n",
       "       [3.],\n",
       "       [3.],\n",
       "       [3.],\n",
       "       [3.],\n",
       "       [3.],\n",
       "       [3.],\n",
       "       [3.],\n",
       "       [0.],\n",
       "       [1.],\n",
       "       [4.],\n",
       "       [0.],\n",
       "       [0.],\n",
       "       [0.],\n",
       "       [4.],\n",
       "       [0.],\n",
       "       [0.],\n",
       "       [0.],\n",
       "       [1.],\n",
       "       [4.],\n",
       "       [0.],\n",
       "       [0.],\n",
       "       [4.],\n",
       "       [0.],\n",
       "       [3.],\n",
       "       [1.],\n",
       "       [1.],\n",
       "       [4.],\n",
       "       [0.],\n",
       "       [4.],\n",
       "       [3.],\n",
       "       [4.],\n",
       "       [0.],\n",
       "       [4.],\n",
       "       [0.],\n",
       "       [1.],\n",
       "       [0.],\n",
       "       [3.],\n",
       "       [0.],\n",
       "       [1.],\n",
       "       [4.],\n",
       "       [0.],\n",
       "       [3.],\n",
       "       [0.],\n",
       "       [1.],\n",
       "       [4.],\n",
       "       [0.],\n",
       "       [1.],\n",
       "       [1.],\n",
       "       [0.],\n",
       "       [1.],\n",
       "       [1.],\n",
       "       [0.],\n",
       "       [0.],\n",
       "       [3.],\n",
       "       [0.],\n",
       "       [0.],\n",
       "       [0.],\n",
       "       [1.],\n",
       "       [0.],\n",
       "       [0.],\n",
       "       [0.],\n",
       "       [0.],\n",
       "       [4.],\n",
       "       [4.],\n",
       "       [0.],\n",
       "       [1.],\n",
       "       [4.],\n",
       "       [1.],\n",
       "       [0.],\n",
       "       [1.],\n",
       "       [3.],\n",
       "       [0.],\n",
       "       [1.],\n",
       "       [1.],\n",
       "       [4.],\n",
       "       [1.],\n",
       "       [1.],\n",
       "       [0.],\n",
       "       [4.],\n",
       "       [0.],\n",
       "       [4.],\n",
       "       [1.],\n",
       "       [0.],\n",
       "       [0.],\n",
       "       [4.],\n",
       "       [4.],\n",
       "       [1.],\n",
       "       [0.],\n",
       "       [0.],\n",
       "       [0.],\n",
       "       [4.],\n",
       "       [0.],\n",
       "       [0.],\n",
       "       [0.],\n",
       "       [0.],\n",
       "       [1.],\n",
       "       [0.],\n",
       "       [3.],\n",
       "       [1.],\n",
       "       [0.],\n",
       "       [4.],\n",
       "       [1.],\n",
       "       [3.],\n",
       "       [3.],\n",
       "       [0.],\n",
       "       [1.],\n",
       "       [0.]])"
      ]
     },
     "execution_count": 14,
     "metadata": {},
     "output_type": "execute_result"
    }
   ],
   "source": [
    "housing_cat_encoded[:200]"
   ]
  },
  {
   "cell_type": "code",
   "execution_count": null,
   "metadata": {
    "colab": {
     "base_uri": "https://localhost:8080/"
    },
    "id": "8PoNRicNylBf",
    "outputId": "4d917141-3601-4c0a-c78c-d34a6298200c"
   },
   "outputs": [
    {
     "data": {
      "text/plain": [
       "[array(['<1H OCEAN', 'INLAND', 'ISLAND', 'NEAR BAY', 'NEAR OCEAN'],\n",
       "       dtype=object)]"
      ]
     },
     "execution_count": 36,
     "metadata": {},
     "output_type": "execute_result"
    }
   ],
   "source": [
    "ordinal_encoder.categories_"
   ]
  },
  {
   "cell_type": "markdown",
   "metadata": {
    "id": "7j3WeEoZzU_h"
   },
   "source": [
    "#**OneHot Encoder**"
   ]
  },
  {
   "cell_type": "code",
   "execution_count": null,
   "metadata": {
    "id": "QBitWb-7zdtE"
   },
   "outputs": [],
   "source": [
    "from sklearn.preprocessing import OneHotEncoder"
   ]
  },
  {
   "cell_type": "code",
   "execution_count": null,
   "metadata": {
    "colab": {
     "base_uri": "https://localhost:8080/"
    },
    "id": "mWsxkihMz8DH",
    "outputId": "724ed4b8-d07e-4399-e9eb-a03023457bd9"
   },
   "outputs": [
    {
     "name": "stdout",
     "output_type": "stream",
     "text": [
      "  (0, 3)\t1.0\n",
      "  (1, 3)\t1.0\n",
      "  (2, 3)\t1.0\n",
      "  (3, 3)\t1.0\n",
      "  (4, 3)\t1.0\n",
      "  (5, 3)\t1.0\n",
      "  (6, 3)\t1.0\n",
      "  (7, 3)\t1.0\n",
      "  (8, 3)\t1.0\n",
      "  (9, 3)\t1.0\n",
      "  (10, 3)\t1.0\n",
      "  (11, 3)\t1.0\n",
      "  (12, 3)\t1.0\n",
      "  (13, 3)\t1.0\n",
      "  (14, 3)\t1.0\n",
      "  (15, 3)\t1.0\n",
      "  (16, 3)\t1.0\n",
      "  (17, 3)\t1.0\n",
      "  (18, 3)\t1.0\n",
      "  (19, 3)\t1.0\n",
      "  (20, 3)\t1.0\n",
      "  (21, 3)\t1.0\n",
      "  (22, 3)\t1.0\n",
      "  (23, 3)\t1.0\n",
      "  (24, 3)\t1.0\n",
      "  :\t:\n",
      "  (20615, 1)\t1.0\n",
      "  (20616, 1)\t1.0\n",
      "  (20617, 1)\t1.0\n",
      "  (20618, 1)\t1.0\n",
      "  (20619, 1)\t1.0\n",
      "  (20620, 1)\t1.0\n",
      "  (20621, 1)\t1.0\n",
      "  (20622, 1)\t1.0\n",
      "  (20623, 1)\t1.0\n",
      "  (20624, 1)\t1.0\n",
      "  (20625, 1)\t1.0\n",
      "  (20626, 1)\t1.0\n",
      "  (20627, 1)\t1.0\n",
      "  (20628, 1)\t1.0\n",
      "  (20629, 1)\t1.0\n",
      "  (20630, 1)\t1.0\n",
      "  (20631, 1)\t1.0\n",
      "  (20632, 1)\t1.0\n",
      "  (20633, 1)\t1.0\n",
      "  (20634, 1)\t1.0\n",
      "  (20635, 1)\t1.0\n",
      "  (20636, 1)\t1.0\n",
      "  (20637, 1)\t1.0\n",
      "  (20638, 1)\t1.0\n",
      "  (20639, 1)\t1.0\n"
     ]
    }
   ],
   "source": [
    "cat_encoder=OneHotEncoder()\n",
    "housing_cat_1hot=cat_encoder.fit_transform(housing_categorical)\n",
    "housing_cat_1hot\n",
    "print(housing_cat_1hot)\n",
    "#sparse matrix representation (i, j) 1.0:\n",
    "#This notation means that the element at the i-th row and j-th column of the matrix has a value of 1.0.\n",
    "#All other elements in that row are 0.\n",
    "#You can imagine it like (0,3)=[0,0,0,1]"
   ]
  },
  {
   "cell_type": "code",
   "execution_count": null,
   "metadata": {
    "colab": {
     "base_uri": "https://localhost:8080/"
    },
    "id": "klQcSysv0ptA",
    "outputId": "fdd50cfb-1c67-46c7-b38c-16a8759bcf67"
   },
   "outputs": [
    {
     "data": {
      "text/plain": [
       "array([[0., 0., 0., 1., 0.],\n",
       "       [0., 0., 0., 1., 0.],\n",
       "       [0., 0., 0., 1., 0.],\n",
       "       ...,\n",
       "       [0., 1., 0., 0., 0.],\n",
       "       [0., 1., 0., 0., 0.],\n",
       "       [0., 1., 0., 0., 0.]])"
      ]
     },
     "execution_count": 16,
     "metadata": {},
     "output_type": "execute_result"
    }
   ],
   "source": [
    "housing_cat_1hot.toarray()"
   ]
  },
  {
   "cell_type": "code",
   "execution_count": null,
   "metadata": {
    "colab": {
     "base_uri": "https://localhost:8080/"
    },
    "id": "yoKYyf2M1JzM",
    "outputId": "88e93dd0-5a7f-42d8-d490-ec9fa740525b"
   },
   "outputs": [
    {
     "data": {
      "text/plain": [
       "[array(['<1H OCEAN', 'INLAND', 'ISLAND', 'NEAR BAY', 'NEAR OCEAN'],\n",
       "       dtype=object)]"
      ]
     },
     "execution_count": 17,
     "metadata": {},
     "output_type": "execute_result"
    }
   ],
   "source": [
    "cat_encoder.categories_"
   ]
  },
  {
   "cell_type": "code",
   "execution_count": null,
   "metadata": {
    "colab": {
     "base_uri": "https://localhost:8080/",
     "height": 112
    },
    "id": "NxOXq82C1TUa",
    "outputId": "4e31018f-0ef2-42b5-df51-4b5d5afe8eb4"
   },
   "outputs": [
    {
     "data": {
      "application/vnd.google.colaboratory.intrinsic+json": {
       "summary": "{\n  \"name\": \"pd\",\n  \"rows\": 2,\n  \"fields\": [\n    {\n      \"column\": \"ocean_proximity_INLAND\",\n      \"properties\": {\n        \"dtype\": \"boolean\",\n        \"num_unique_values\": 2,\n        \"samples\": [\n          false,\n          true\n        ],\n        \"semantic_type\": \"\",\n        \"description\": \"\"\n      }\n    },\n    {\n      \"column\": \"ocean_proximity_NEAR BAY\",\n      \"properties\": {\n        \"dtype\": \"boolean\",\n        \"num_unique_values\": 2,\n        \"samples\": [\n          true,\n          false\n        ],\n        \"semantic_type\": \"\",\n        \"description\": \"\"\n      }\n    }\n  ]\n}",
       "type": "dataframe"
      },
      "text/html": [
       "\n",
       "  <div id=\"df-a321a597-4404-4b04-ac0f-9562420ab1bf\" class=\"colab-df-container\">\n",
       "    <div>\n",
       "<style scoped>\n",
       "    .dataframe tbody tr th:only-of-type {\n",
       "        vertical-align: middle;\n",
       "    }\n",
       "\n",
       "    .dataframe tbody tr th {\n",
       "        vertical-align: top;\n",
       "    }\n",
       "\n",
       "    .dataframe thead th {\n",
       "        text-align: right;\n",
       "    }\n",
       "</style>\n",
       "<table border=\"1\" class=\"dataframe\">\n",
       "  <thead>\n",
       "    <tr style=\"text-align: right;\">\n",
       "      <th></th>\n",
       "      <th>ocean_proximity_INLAND</th>\n",
       "      <th>ocean_proximity_NEAR BAY</th>\n",
       "    </tr>\n",
       "  </thead>\n",
       "  <tbody>\n",
       "    <tr>\n",
       "      <th>0</th>\n",
       "      <td>True</td>\n",
       "      <td>False</td>\n",
       "    </tr>\n",
       "    <tr>\n",
       "      <th>1</th>\n",
       "      <td>False</td>\n",
       "      <td>True</td>\n",
       "    </tr>\n",
       "  </tbody>\n",
       "</table>\n",
       "</div>\n",
       "    <div class=\"colab-df-buttons\">\n",
       "\n",
       "  <div class=\"colab-df-container\">\n",
       "    <button class=\"colab-df-convert\" onclick=\"convertToInteractive('df-a321a597-4404-4b04-ac0f-9562420ab1bf')\"\n",
       "            title=\"Convert this dataframe to an interactive table.\"\n",
       "            style=\"display:none;\">\n",
       "\n",
       "  <svg xmlns=\"http://www.w3.org/2000/svg\" height=\"24px\" viewBox=\"0 -960 960 960\">\n",
       "    <path d=\"M120-120v-720h720v720H120Zm60-500h600v-160H180v160Zm220 220h160v-160H400v160Zm0 220h160v-160H400v160ZM180-400h160v-160H180v160Zm440 0h160v-160H620v160ZM180-180h160v-160H180v160Zm440 0h160v-160H620v160Z\"/>\n",
       "  </svg>\n",
       "    </button>\n",
       "\n",
       "  <style>\n",
       "    .colab-df-container {\n",
       "      display:flex;\n",
       "      gap: 12px;\n",
       "    }\n",
       "\n",
       "    .colab-df-convert {\n",
       "      background-color: #E8F0FE;\n",
       "      border: none;\n",
       "      border-radius: 50%;\n",
       "      cursor: pointer;\n",
       "      display: none;\n",
       "      fill: #1967D2;\n",
       "      height: 32px;\n",
       "      padding: 0 0 0 0;\n",
       "      width: 32px;\n",
       "    }\n",
       "\n",
       "    .colab-df-convert:hover {\n",
       "      background-color: #E2EBFA;\n",
       "      box-shadow: 0px 1px 2px rgba(60, 64, 67, 0.3), 0px 1px 3px 1px rgba(60, 64, 67, 0.15);\n",
       "      fill: #174EA6;\n",
       "    }\n",
       "\n",
       "    .colab-df-buttons div {\n",
       "      margin-bottom: 4px;\n",
       "    }\n",
       "\n",
       "    [theme=dark] .colab-df-convert {\n",
       "      background-color: #3B4455;\n",
       "      fill: #D2E3FC;\n",
       "    }\n",
       "\n",
       "    [theme=dark] .colab-df-convert:hover {\n",
       "      background-color: #434B5C;\n",
       "      box-shadow: 0px 1px 3px 1px rgba(0, 0, 0, 0.15);\n",
       "      filter: drop-shadow(0px 1px 2px rgba(0, 0, 0, 0.3));\n",
       "      fill: #FFFFFF;\n",
       "    }\n",
       "  </style>\n",
       "\n",
       "    <script>\n",
       "      const buttonEl =\n",
       "        document.querySelector('#df-a321a597-4404-4b04-ac0f-9562420ab1bf button.colab-df-convert');\n",
       "      buttonEl.style.display =\n",
       "        google.colab.kernel.accessAllowed ? 'block' : 'none';\n",
       "\n",
       "      async function convertToInteractive(key) {\n",
       "        const element = document.querySelector('#df-a321a597-4404-4b04-ac0f-9562420ab1bf');\n",
       "        const dataTable =\n",
       "          await google.colab.kernel.invokeFunction('convertToInteractive',\n",
       "                                                    [key], {});\n",
       "        if (!dataTable) return;\n",
       "\n",
       "        const docLinkHtml = 'Like what you see? Visit the ' +\n",
       "          '<a target=\"_blank\" href=https://colab.research.google.com/notebooks/data_table.ipynb>data table notebook</a>'\n",
       "          + ' to learn more about interactive tables.';\n",
       "        element.innerHTML = '';\n",
       "        dataTable['output_type'] = 'display_data';\n",
       "        await google.colab.output.renderOutput(dataTable, element);\n",
       "        const docLink = document.createElement('div');\n",
       "        docLink.innerHTML = docLinkHtml;\n",
       "        element.appendChild(docLink);\n",
       "      }\n",
       "    </script>\n",
       "  </div>\n",
       "\n",
       "\n",
       "<div id=\"df-0d61e75c-8823-45dc-8a16-db72b45a0cc8\">\n",
       "  <button class=\"colab-df-quickchart\" onclick=\"quickchart('df-0d61e75c-8823-45dc-8a16-db72b45a0cc8')\"\n",
       "            title=\"Suggest charts\"\n",
       "            style=\"display:none;\">\n",
       "\n",
       "<svg xmlns=\"http://www.w3.org/2000/svg\" height=\"24px\"viewBox=\"0 0 24 24\"\n",
       "     width=\"24px\">\n",
       "    <g>\n",
       "        <path d=\"M19 3H5c-1.1 0-2 .9-2 2v14c0 1.1.9 2 2 2h14c1.1 0 2-.9 2-2V5c0-1.1-.9-2-2-2zM9 17H7v-7h2v7zm4 0h-2V7h2v10zm4 0h-2v-4h2v4z\"/>\n",
       "    </g>\n",
       "</svg>\n",
       "  </button>\n",
       "\n",
       "<style>\n",
       "  .colab-df-quickchart {\n",
       "      --bg-color: #E8F0FE;\n",
       "      --fill-color: #1967D2;\n",
       "      --hover-bg-color: #E2EBFA;\n",
       "      --hover-fill-color: #174EA6;\n",
       "      --disabled-fill-color: #AAA;\n",
       "      --disabled-bg-color: #DDD;\n",
       "  }\n",
       "\n",
       "  [theme=dark] .colab-df-quickchart {\n",
       "      --bg-color: #3B4455;\n",
       "      --fill-color: #D2E3FC;\n",
       "      --hover-bg-color: #434B5C;\n",
       "      --hover-fill-color: #FFFFFF;\n",
       "      --disabled-bg-color: #3B4455;\n",
       "      --disabled-fill-color: #666;\n",
       "  }\n",
       "\n",
       "  .colab-df-quickchart {\n",
       "    background-color: var(--bg-color);\n",
       "    border: none;\n",
       "    border-radius: 50%;\n",
       "    cursor: pointer;\n",
       "    display: none;\n",
       "    fill: var(--fill-color);\n",
       "    height: 32px;\n",
       "    padding: 0;\n",
       "    width: 32px;\n",
       "  }\n",
       "\n",
       "  .colab-df-quickchart:hover {\n",
       "    background-color: var(--hover-bg-color);\n",
       "    box-shadow: 0 1px 2px rgba(60, 64, 67, 0.3), 0 1px 3px 1px rgba(60, 64, 67, 0.15);\n",
       "    fill: var(--button-hover-fill-color);\n",
       "  }\n",
       "\n",
       "  .colab-df-quickchart-complete:disabled,\n",
       "  .colab-df-quickchart-complete:disabled:hover {\n",
       "    background-color: var(--disabled-bg-color);\n",
       "    fill: var(--disabled-fill-color);\n",
       "    box-shadow: none;\n",
       "  }\n",
       "\n",
       "  .colab-df-spinner {\n",
       "    border: 2px solid var(--fill-color);\n",
       "    border-color: transparent;\n",
       "    border-bottom-color: var(--fill-color);\n",
       "    animation:\n",
       "      spin 1s steps(1) infinite;\n",
       "  }\n",
       "\n",
       "  @keyframes spin {\n",
       "    0% {\n",
       "      border-color: transparent;\n",
       "      border-bottom-color: var(--fill-color);\n",
       "      border-left-color: var(--fill-color);\n",
       "    }\n",
       "    20% {\n",
       "      border-color: transparent;\n",
       "      border-left-color: var(--fill-color);\n",
       "      border-top-color: var(--fill-color);\n",
       "    }\n",
       "    30% {\n",
       "      border-color: transparent;\n",
       "      border-left-color: var(--fill-color);\n",
       "      border-top-color: var(--fill-color);\n",
       "      border-right-color: var(--fill-color);\n",
       "    }\n",
       "    40% {\n",
       "      border-color: transparent;\n",
       "      border-right-color: var(--fill-color);\n",
       "      border-top-color: var(--fill-color);\n",
       "    }\n",
       "    60% {\n",
       "      border-color: transparent;\n",
       "      border-right-color: var(--fill-color);\n",
       "    }\n",
       "    80% {\n",
       "      border-color: transparent;\n",
       "      border-right-color: var(--fill-color);\n",
       "      border-bottom-color: var(--fill-color);\n",
       "    }\n",
       "    90% {\n",
       "      border-color: transparent;\n",
       "      border-bottom-color: var(--fill-color);\n",
       "    }\n",
       "  }\n",
       "</style>\n",
       "\n",
       "  <script>\n",
       "    async function quickchart(key) {\n",
       "      const quickchartButtonEl =\n",
       "        document.querySelector('#' + key + ' button');\n",
       "      quickchartButtonEl.disabled = true;  // To prevent multiple clicks.\n",
       "      quickchartButtonEl.classList.add('colab-df-spinner');\n",
       "      try {\n",
       "        const charts = await google.colab.kernel.invokeFunction(\n",
       "            'suggestCharts', [key], {});\n",
       "      } catch (error) {\n",
       "        console.error('Error during call to suggestCharts:', error);\n",
       "      }\n",
       "      quickchartButtonEl.classList.remove('colab-df-spinner');\n",
       "      quickchartButtonEl.classList.add('colab-df-quickchart-complete');\n",
       "    }\n",
       "    (() => {\n",
       "      let quickchartButtonEl =\n",
       "        document.querySelector('#df-0d61e75c-8823-45dc-8a16-db72b45a0cc8 button');\n",
       "      quickchartButtonEl.style.display =\n",
       "        google.colab.kernel.accessAllowed ? 'block' : 'none';\n",
       "    })();\n",
       "  </script>\n",
       "</div>\n",
       "\n",
       "    </div>\n",
       "  </div>\n"
      ],
      "text/plain": [
       "   ocean_proximity_INLAND  ocean_proximity_NEAR BAY\n",
       "0                    True                     False\n",
       "1                   False                      True"
      ]
     },
     "execution_count": 18,
     "metadata": {},
     "output_type": "execute_result"
    }
   ],
   "source": [
    "df_test = pd.DataFrame({\"ocean_proximity\": [\"INLAND\", \"NEAR BAY\"]})\n",
    "pd.get_dummies(df_test)"
   ]
  },
  {
   "cell_type": "code",
   "execution_count": null,
   "metadata": {
    "colab": {
     "base_uri": "https://localhost:8080/"
    },
    "id": "TsvnZKyQkdKQ",
    "outputId": "3356c085-dead-4f9c-c16b-8514718213be"
   },
   "outputs": [
    {
     "data": {
      "text/plain": [
       "array([[0., 1., 0., 0., 0.],\n",
       "       [0., 0., 0., 1., 0.]])"
      ]
     },
     "execution_count": 60,
     "metadata": {},
     "output_type": "execute_result"
    }
   ],
   "source": [
    "cat_encoder.transform(df_test).toarray()"
   ]
  },
  {
   "cell_type": "code",
   "execution_count": null,
   "metadata": {
    "colab": {
     "base_uri": "https://localhost:8080/"
    },
    "id": "e-MX8fl9lY_o",
    "outputId": "45051299-9747-4d60-88bf-de7cc602bfd3"
   },
   "outputs": [
    {
     "data": {
      "text/plain": [
       "array([[0., 0., 0., 0., 0.],\n",
       "       [0., 0., 1., 0., 0.]])"
      ]
     },
     "execution_count": 62,
     "metadata": {},
     "output_type": "execute_result"
    }
   ],
   "source": [
    "df_test_unknown = pd.DataFrame({\"ocean_proximity\": [\"<2H OCEAN\",\"ISLAND\"]})\n",
    "pd.get_dummies(df_test_unknown)\n",
    "cat_encoder.handle_unknown = \"ignore\"\n",
    "cat_encoder.transform(df_test_unknown).toarray()"
   ]
  },
  {
   "cell_type": "markdown",
   "metadata": {
    "id": "kD8Xo-561SZv"
   },
   "source": [
    "#**Label Encoding**#\n"
   ]
  },
  {
   "cell_type": "code",
   "execution_count": null,
   "metadata": {
    "colab": {
     "base_uri": "https://localhost:8080/"
    },
    "id": "RCXMcueq1aN0",
    "outputId": "663e3e2b-dc2e-4078-c5f9-f0beca863eba"
   },
   "outputs": [
    {
     "name": "stdout",
     "output_type": "stream",
     "text": [
      "[3 3 3 ... 1 1 1]\n"
     ]
    },
    {
     "name": "stderr",
     "output_type": "stream",
     "text": [
      "/usr/local/lib/python3.10/dist-packages/sklearn/preprocessing/_label.py:114: DataConversionWarning: A column-vector y was passed when a 1d array was expected. Please change the shape of y to (n_samples, ), for example using ravel().\n",
      "  y = column_or_1d(y, warn=True)\n"
     ]
    }
   ],
   "source": [
    "from sklearn.preprocessing import LabelEncoder\n",
    "label_encode=LabelEncoder()\n",
    "housing_cat_label=label_encode.fit_transform(housing_categorical)\n",
    "print(housing_cat_label)\n"
   ]
  },
  {
   "cell_type": "code",
   "execution_count": null,
   "metadata": {
    "colab": {
     "base_uri": "https://localhost:8080/"
    },
    "id": "OB6IWboG4DcO",
    "outputId": "ebb0d1bc-3018-4ed2-cdc5-e74d86932efd"
   },
   "outputs": [
    {
     "name": "stdout",
     "output_type": "stream",
     "text": [
      "[3, 3, 3, 3, 3, 3, 3, 3, 3, 3, 3, 3, 3, 3, 3, 3, 3, 3, 3, 3, 3, 3, 3, 3, 3, 3, 3, 3, 3, 3, 3, 3, 3, 3, 3, 3, 3, 3, 3, 3, 3, 3, 3, 3, 3, 3, 3, 3, 3, 3, 3, 3, 3, 3, 3, 3, 3, 3, 3, 3, 3, 3, 3, 3, 3, 3, 3, 3, 3, 3, 3, 3, 3, 3, 3, 3, 3, 3, 3, 3, 3, 3, 3, 3, 3, 3, 3, 3, 3, 3, 3, 3, 3, 3, 3, 3, 3, 3, 3, 3, 0, 1, 4, 0, 0, 0, 4, 0, 0, 0, 1, 4, 0, 0, 4, 0, 3, 1, 1, 4, 0, 4, 3, 4, 0, 4, 0, 1, 0, 3, 0, 1, 4, 0, 3, 0, 1, 4, 0, 1, 1, 0, 1, 1, 0, 0, 3, 0, 0, 0, 1, 0, 0, 0, 0, 4, 4, 0, 1, 4, 1, 0, 1, 3, 0, 1, 1, 4, 1, 1, 0, 4, 0, 4, 1, 0, 0, 4, 4, 1, 0, 0, 0, 4, 0, 0, 0, 0, 1, 0, 3, 1, 0, 4, 1, 3, 3, 0, 1, 0, 0, 1, 0, 0, 1, 0, 3, 3, 0, 0, 0, 0, 0, 0, 0, 3, 0, 1, 3, 3, 1, 0, 1, 0, 0, 1, 1, 1, 0, 0, 3, 1, 3, 1, 0, 1, 0, 1, 0, 4, 0, 4, 1, 0, 0, 0, 0, 1, 1, 0, 4, 0, 0, 3, 1, 0, 0, 1, 0, 0, 4, 0, 4, 1, 0, 0, 0, 4, 1, 0, 0, 1, 1, 0, 3, 3, 4, 1, 3, 0, 1, 1, 0, 0, 0, 0, 4, 0, 1, 0, 1, 0, 0, 1, 4, 4, 0, 1, 0, 0, 1, 0, 1, 1, 1, 0, 0, 1, 1, 0, 1, 1, 1, 3, 1, 1, 1, 1, 4, 1, 0, 0, 0, 4, 0, 3, 0, 1, 0, 1, 1, 1, 3, 0, 3, 4, 1, 0, 0, 0, 1, 1, 1, 3, 4, 1, 0, 1, 3, 1, 0, 0, 3, 0, 3, 1, 0, 0, 0, 1, 1, 1, 0, 0, 1, 0, 4, 0, 1, 1, 1, 0, 1, 3, 3, 1, 1, 1, 0, 0, 0, 4, 4, 1, 0, 0, 0, 1, 3, 3, 4, 4, 1, 0, 0, 1, 0, 4, 1, 0, 1, 0, 1, 1, 0, 0, 0, 3, 0, 0, 1, 1, 1, 0, 3, 1, 0, 0, 0, 1, 0, 0, 1, 3, 0, 0, 3, 0, 4, 1, 1, 1, 0, 0, 0, 0, 1, 1, 1, 0, 0, 1, 3, 3, 0, 1, 0, 3, 4, 0, 4, 1, 4, 4, 0, 0, 0, 1, 4, 4, 1, 1, 1, 4, 1, 0, 4, 0, 0, 0, 1, 0, 4, 1, 0, 1, 3, 1, 0, 0, 0, 0, 1, 3, 3, 3, 0, 0, 1, 0, 0, 3, 1, 3, 1, 1, 0, 0, 0, 4, 0, 0, 1, 4, 0, 1, 0, 0, 0, 4, 1, 0, 1, 4, 1, 0, 4, 0, 4, 0, 1, 4, 0, 1, 4, 1, 3, 4, 4, 4, 3, 0, 0, 4, 0, 1, 0, 0, 0, 0, 0, 1, 0, 1, 0, 1, 4, 0, 1, 0, 0, 4, 1, 1, 0, 0, 3, 1, 0, 3, 1, 1, 0, 1, 0, 0, 0, 0, 3, 1, 0, 4, 4, 0, 0, 1, 1, 1, 0, 3, 0, 3, 0, 0, 3, 0, 3, 1, 3, 3, 0, 1, 1, 1, 4, 0, 4, 1, 4, 0, 1, 4, 0, 1, 1, 0, 1, 3, 3, 0, 4, 1, 0, 0, 1, 0, 0, 0, 3, 0, 0, 0, 3, 4, 1, 4, 3, 3, 0, 3, 0, 0, 4, 0, 4, 0, 0, 3, 0, 0, 0, 1, 0, 0, 1, 0, 4, 1, 0, 1, 3, 0, 4, 0, 0, 4, 1, 4, 4, 0, 4, 0, 1, 0, 1, 4, 3, 4, 4, 4, 0, 3, 3, 0, 0, 0, 4, 0, 0, 1, 4, 1, 4, 0, 1, 1, 1, 0, 3, 4, 0, 0, 1, 3, 3, 0, 1, 0, 0, 0, 0, 3, 0, 1, 3, 1, 0, 0, 0, 1, 0, 0, 4, 1, 0, 1, 3, 1, 0, 0, 1, 0, 0, 0, 0, 0, 1, 1, 0, 0, 0, 1, 4, 0, 0, 1, 1, 1, 3, 1, 4, 1, 0, 1, 1, 0, 1, 0, 4, 1, 0, 1, 1, 1, 1, 0, 0, 1, 1, 0, 4, 0, 4, 1, 1, 0, 1, 1, 4, 0, 4, 0, 0, 0, 4, 3, 0, 3, 1, 3, 4, 0, 4, 0, 4, 0, 0, 0, 0, 3, 3, 0, 0, 3, 0, 0, 0, 0, 1, 1, 4, 0, 1, 0, 1, 1, 4, 4, 0, 0, 0, 1, 1, 1, 4, 0, 0, 0, 0, 1, 1, 1, 0, 4, 3, 4, 1, 3, 1, 0, 3, 1, 0, 4, 4, 3, 0, 1, 1, 0, 0, 0, 0, 1, 0, 4, 4, 0, 1, 0, 1, 0, 0, 0, 4, 3, 3, 1, 1, 1, 1, 0, 4, 0, 3, 3, 0, 3, 0, 1, 0, 1, 0, 1, 1, 0, 3, 0, 3, 3, 3, 0, 3, 0, 1, 4, 3, 3, 0, 0, 4, 1, 1, 1, 4, 0, 1, 0, 1, 0, 4, 0, 0, 1, 3, 1, 4, 4, 3, 0, 1, 1, 0, 0, 0, 0, 0, 0, 1, 0, 1, 4, 0, 0, 1, 3, 0, 1, 1, 0, 1, 0, 1, 0, 1, 4, 1, 0, 0, 1, 3, 1, 1, 1, 0, 0, 0, 1, 1, 0, 0, 1, 0, 1, 0, 0, 1, 1, 0, 1, 1, 3, 1, 3, 1, 0, 4, 1, 1, 0, 0, 0, 4, 0, 0, 0, 0, 0, 3, 3, 1, 1, 0, 3, 0, 1, 1, 0, 1, 4, 1, 0, 4, 4, 0, 0, 0, 1, 4, 0, 3, 0, 0, 0, 1, 0, 4, 4, 0, 1, 4, 0, 0, 1, 4, 0, 0, 0, 0, 0, 3, 3, 1, 4, 0, 1, 0, 1, 0, 1, 3, 0, 0, 1, 0, 1, 0, 1, 0, 1, 0, 0, 1, 4, 1, 4, 0, 0, 0, 0, 3, 0, 0, 1, 1, 1, 0, 4, 4, 0, 4, 0, 4, 0, 1, 0, 4, 1, 0, 0, 1, 0, 0, 0, 1, 0, 0, 1, 0, 1, 4, 0, 1, 1, 0, 0, 0, 1, 0, 0, 0, 4, 1, 4, 0, 1, 1, 0, 0, 3, 3, 0, 1, 4, 0, 4, 1, 1, 0, 0, 1, 0, 1, 3, 0, 0, 1, 1, 0, 3, 1, 0, 3, 0, 1, 0, 1, 0, 1, 1, 1, 0, 0, 3, 0, 1, 1, 0, 4, 3, 0, 0, 0, 4, 4, 0, 4, 1, 3, 0, 0, 0, 1, 1, 0, 3, 1, 0, 0, 1, 0, 0, 0, 0, 0, 1, 1, 0, 0, 1, 1, 0, 0, 0, 1, 0, 0, 0, 0, 1, 3, 0, 0, 1, 1, 3, 1, 0, 0, 1, 4, 1, 0, 0, 4, 4, 0, 0, 1, 1, 1, 1, 0, 1, 0, 1, 1, 1, 0, 0, 4, 0, 1, 4, 0, 0, 0, 0, 0, 0, 0, 0, 4, 1, 0, 0, 0, 0, 0, 3, 3, 4, 0, 1, 0, 0, 0, 0, 1, 0, 0, 0, 0, 1, 4, 1, 0, 3, 0, 0, 4, 1, 0, 0, 1, 0, 0, 3, 4, 1, 0, 1, 3, 0, 0, 4, 3, 1, 3, 3, 4, 0, 4, 4, 0, 0, 4, 1, 1, 0, 1, 0, 1, 0, 4, 0, 1, 0, 0, 1, 0, 0, 4, 1, 1, 1, 4, 4, 0, 0, 0, 0, 0, 1, 1, 1, 0, 1, 0, 1, 0, 1, 1, 0, 4, 0, 0, 1, 1, 1, 1, 0, 1, 0, 1, 1, 0, 0, 0, 0, 0, 1, 4, 4, 4, 0, 3, 1, 4, 0, 0, 0, 1, 1, 1, 1, 0, 1, 3, 0, 3, 1, 0, 1, 0, 4, 4, 0, 3, 3, 1, 1, 0, 4, 1, 0, 0, 1, 1, 1, 1, 0, 1, 0, 0, 1, 1, 3, 1, 4, 1, 1, 3, 0, 1, 0, 3, 0, 0, 0, 3, 3, 0, 0, 4, 0, 1, 0, 0, 0, 1, 0, 0, 0, 3, 3, 0, 0, 1, 0, 0, 4, 1, 1, 0, 0, 0, 0, 1, 3, 1, 1, 0, 4, 0, 1, 0, 0, 1, 1, 0, 0, 0, 1, 1, 1, 4, 0, 0, 0, 1, 4, 4, 0, 0, 4, 0, 0, 4, 0, 1, 0, 1, 1, 0, 1, 1, 0, 1, 1, 3, 1, 0, 0, 3, 0, 3, 0, 3, 0, 1, 0, 0, 0, 0, 3, 0, 0, 0, 0, 1, 1, 0, 1, 0, 4, 4, 0, 1, 4, 0, 0, 0, 3, 1, 1, 1, 1, 0, 0, 1, 1, 4, 1, 0, 0, 3, 1, 1, 4, 0, 1, 4, 0, 0, 3, 1, 1, 0, 4, 0, 4, 0, 0, 0, 1, 0, 4, 1, 0, 0, 1, 3, 0, 1, 1, 0, 1, 0, 1, 1, 1, 1, 1, 0, 4, 0, 0, 4, 0, 0, 0, 1, 0, 0, 0, 0, 3, 0, 1, 4, 0, 1, 0, 0, 0, 4, 1, 1, 0, 0, 0, 3, 0, 3, 0, 1, 0, 0, 1, 0, 0, 4, 0, 0, 1, 4, 0, 0, 1, 0, 1, 0, 4, 0, 1, 4, 3, 1, 0, 0, 0, 1, 0, 0, 0, 1, 0, 0, 3, 1, 0, 0, 0, 1, 1, 4, 3, 1, 0, 1, 1, 0, 0, 0, 1, 3, 3, 0, 0, 0, 1, 0, 1, 1, 3, 0, 0, 4, 0, 4, 4, 0, 0, 1, 0, 0, 1, 1, 0, 0, 3, 3, 0, 0, 0, 3, 4, 1, 1, 4, 4, 0, 1, 1, 1, 0, 0, 4, 4, 4, 1, 1, 4, 1, 0, 0, 1, 0, 0, 1, 0, 0, 0, 0, 0, 0, 1, 1, 0, 0, 0, 0, 1, 0, 1, 0, 4, 0, 0, 1, 1, 1, 0, 3, 3, 0, 0, 0, 3, 3, 0, 3, 1, 0, 0, 4, 1, 1, 0, 1, 1, 1, 0, 1, 0, 4, 1, 4, 4, 0, 4, 0, 1, 3, 0, 0, 0, 1, 0, 4, 1, 0, 4, 0, 1, 0, 3, 0, 1, 0, 0, 3, 0, 3, 1, 0, 0, 0, 0, 1, 0, 0, 0, 3, 1, 0, 0, 3, 4, 0, 0, 0, 0, 1, 0, 1, 0, 4, 0, 0, 0, 1, 4, 1, 4, 1, 1, 1, 3, 1, 0, 0, 1, 3, 0, 1, 3, 0, 1, 0, 0, 1, 0, 1, 1, 0, 3, 0, 1, 0, 0, 0, 0, 1, 1, 4, 0, 0, 0, 0, 0, 4, 0, 1, 4, 0, 0, 0, 0, 0, 4, 0, 1, 0, 0, 0, 0, 3, 4, 4, 0, 0, 0, 1, 0, 0, 0, 1, 1, 0, 1, 1, 1, 0, 4, 1, 1, 0, 0, 0, 4, 0, 0, 0, 1, 4, 0, 3, 4, 1, 3, 4, 0, 0, 0, 1, 0, 1, 0, 0, 0, 4, 3, 1, 0, 0, 1, 1, 0, 3, 1, 3, 1, 0, 3, 3, 0, 0, 1, 1, 3, 3, 0, 0, 1, 4, 1, 4, 0, 1, 0, 0, 0, 0, 1, 0, 0, 4, 4, 1, 1, 3, 1, 0, 4, 0, 0, 0, 1, 0, 3, 1, 1, 1, 0, 0, 0, 3, 0, 0, 1, 3, 0, 0, 1, 3, 1, 1, 4, 1, 0, 0, 0, 0, 0, 1, 0, 4, 0, 0, 0, 0, 4, 0, 3, 0, 0, 1, 1, 4, 1, 1, 1, 1, 1, 1, 0, 1, 0, 0, 3, 0, 1, 1, 3, 0, 4, 1, 0, 0, 4, 0, 1, 0, 0, 0, 0, 0, 1, 1, 4, 4, 0, 1, 3, 1, 1, 0, 0, 1, 0, 1, 1, 0, 1, 0, 0, 0, 3, 3, 0, 0, 3, 0, 0, 1, 1, 0, 1, 3, 3, 1, 3, 0, 0, 0, 0, 0, 1, 0, 0, 0, 4, 0, 0, 0, 4, 0, 1, 1, 0, 0, 3, 3, 4, 3, 3, 4, 0, 0, 0, 0, 0, 1, 0, 4, 3, 0, 0, 0, 1, 0, 0, 4, 0, 1, 0, 0, 4, 0, 0, 4, 1, 1, 0, 0, 0, 0, 4, 1, 0, 4, 0, 3, 4, 1, 1, 3, 0, 1, 1, 3, 1, 0, 0, 0, 4, 0, 0, 4, 4, 0, 4, 1, 3, 3, 1, 0, 1, 1, 1, 0, 0, 1, 0, 0, 0, 3, 4, 0, 0, 0, 1, 0, 0, 1, 1, 0, 3, 0, 0, 1, 1, 0, 0, 0, 1, 1, 3, 1, 1, 0, 1, 4, 0, 0, 0, 1, 1, 0, 1, 4, 0, 3, 1, 1, 0, 0, 4, 1, 0, 0, 1, 0, 0, 3, 0, 1, 1, 3, 1, 0, 1, 1, 1, 0, 1, 4, 3, 0, 0, 1, 1, 0, 0, 1, 3, 0, 1, 0, 0, 1, 1, 0, 0, 0, 1, 0, 0, 1, 4, 0, 4, 4, 4, 4, 0, 0, 0, 3, 0, 0, 1, 1, 0, 1, 0, 4, 0, 0, 0, 4, 0, 1, 1, 0, 4, 0, 0, 1, 1, 4, 0, 3, 3, 1, 0, 1, 1, 1, 0, 1, 0, 0, 4, 3, 1, 0, 1, 0, 0, 0, 1, 4, 1, 0, 0, 0, 1, 4, 1, 0, 0, 1, 0, 0, 0, 1, 4, 1, 4, 4, 0, 0, 1, 0, 3, 0, 1, 0, 0, 0, 0, 0, 1, 1, 4, 1, 0, 3, 0, 1, 1, 0, 4, 1, 4, 4, 1, 1, 0, 4, 4, 3, 3, 1, 0, 0, 0, 1, 1, 4, 0, 3, 1, 0, 0, 1, 4, 0, 4, 0, 0, 0, 4, 0, 0, 0, 1, 1, 1, 4, 3, 0, 1, 0, 0, 0, 1, 0, 0, 0, 0, 0, 1, 4, 1, 0, 0, 3, 0, 4, 0, 1, 4, 0, 4, 0, 3, 3, 1, 0, 0, 3, 1, 4, 0, 0, 0, 1, 0, 3, 4, 1, 0, 0, 0, 1, 0, 0, 3, 3, 1, 4, 4, 0, 1, 3, 4, 1, 0, 3, 0, 0, 4, 0, 1, 3, 1, 0, 4, 4, 1, 0, 1, 0, 3, 0, 1, 0, 3, 0, 0, 4, 0, 4, 0, 4, 0, 3, 1, 0, 1, 0, 0, 1, 0, 0, 4, 1, 1, 0, 4, 0, 4, 0, 0, 0, 4, 1, 0, 0, 0, 0, 3, 1, 1, 1, 1, 4, 0, 3, 0, 4, 1, 0, 0, 1, 1, 0, 1, 0, 1, 0, 0, 1, 0, 1, 1, 0, 0, 4, 1, 0, 4, 1, 1, 0, 3, 1, 0, 0, 0, 1, 0, 0, 1, 0, 4, 1, 1, 3, 3, 0, 0, 0, 1, 1, 3, 0, 0, 3, 1, 3, 1, 4, 3, 0, 1, 4, 1, 0, 0, 0, 1, 4, 4, 1, 1, 0, 4, 0, 3, 0, 1, 0, 0, 0, 0, 0, 4, 0, 1, 0, 4, 0, 0, 1, 1, 0, 0, 0, 4, 3, 3, 0, 3, 3, 0, 1, 0, 0, 4, 0, 1, 1, 1, 0, 4, 3, 0, 4, 0, 0, 0, 3, 3, 1, 4, 0, 0, 1, 1, 1, 4, 4, 0, 1, 1, 1, 0, 0, 3, 0, 0, 1, 0, 1, 1, 1, 0, 1, 1, 1, 1, 0, 1, 0, 4, 0, 3, 1, 4, 0, 4, 4, 0, 0, 1, 4, 4, 0, 4, 0, 0, 1, 0, 3, 0, 3, 0, 0, 1, 3, 0, 1, 4, 0, 3, 4, 3, 1, 0, 0, 0, 3, 0, 0, 1, 0, 4, 0, 0, 4, 0, 0, 0, 0, 0, 4, 0, 1, 0, 1, 1, 0, 4, 4, 1, 1, 1, 0, 1, 1, 1, 1, 1, 0, 0, 1, 1, 1, 4, 3, 1, 1, 4, 4, 0, 3, 0, 3, 4, 1, 1, 0, 0, 0, 3, 1, 1, 4, 1, 0, 0, 4, 3, 0, 1, 1, 0, 0, 1, 3, 1, 0, 0, 0, 1, 1, 3, 3, 0, 3, 1, 1, 4, 3, 0, 3, 1, 1, 0, 0, 4, 1, 0, 4, 0, 1, 0, 4, 1, 4, 0, 4, 1, 0, 0, 0, 1, 0, 3, 3, 1, 0, 0, 0, 3, 0, 4, 4, 1, 1, 1, 0, 4, 1, 1, 0, 0, 3, 0, 0, 0, 0, 1, 4, 1, 0, 4, 0, 1, 0, 0, 1, 0, 0, 1, 0, 3, 1, 1, 0, 0, 0, 3, 0, 0, 4, 4, 0, 0, 0, 0, 0, 4, 3, 1, 3, 0, 0, 3, 0, 0, 3, 0, 1, 0, 0, 3, 4, 1, 1, 1, 0, 0, 0, 1, 4, 1, 0, 0, 1, 0, 3, 3, 0, 1, 4, 1, 1, 1, 3, 1, 3, 0, 4, 1, 0, 0, 0, 1, 4, 4, 0, 1, 0, 0, 0, 1, 3, 1, 4, 1, 0, 4, 1, 0, 0, 1, 1, 0, 3, 3, 0, 1, 0, 0, 1, 0, 0, 1, 4, 1, 0, 4, 4, 4, 0, 1, 1, 3, 1, 1, 1, 3, 0, 4, 4, 0, 0, 1, 4, 0, 1, 0, 0, 1, 0, 0, 1, 1, 1, 0, 3, 0, 1, 0, 4, 4, 0, 0, 0, 3, 3, 1, 3, 1, 0, 1, 0, 0, 0, 1, 0, 0, 1, 4, 1, 1, 1, 3, 0, 1, 3, 3, 0, 1, 1, 0, 1, 1, 3, 0, 1, 0, 0, 0, 0, 3, 1, 0, 1, 4, 4, 0, 0, 0, 0, 4, 3, 0, 0, 0, 1, 0, 0, 1, 1, 4, 3, 4, 1, 1, 1, 1, 0, 0, 0, 3, 0, 4, 4, 4, 1, 4, 0, 0, 4, 3, 4, 0, 3, 1, 0, 1, 0, 1, 0, 0, 0, 0, 1, 0, 1, 0, 3, 1, 0, 3, 0, 1, 0, 0, 0, 0, 1, 0, 0, 1, 0, 1, 4, 1, 1, 1, 0, 1, 1, 1, 0, 1, 1, 4, 0, 0, 0, 1, 1, 0, 0, 0, 0, 4, 1, 3, 1, 0, 1, 0, 0, 4, 1, 0, 3, 1, 3, 1, 1, 1, 0, 1, 3, 0, 1, 0, 3, 0, 1, 4, 1, 1, 1, 1, 0, 3, 1, 0, 1, 1, 1, 1, 0, 0, 1, 1, 0, 0, 3, 1, 0, 4, 4, 3, 1, 0, 0, 0, 1, 4, 0, 0, 1, 0, 4, 1, 1, 0, 3, 1, 0, 0, 0, 3, 0, 3, 0, 0, 1, 0, 0, 0, 0, 1, 0, 3, 0, 0, 1, 3, 0, 1, 0, 3, 1, 1, 0, 4, 0, 4, 1, 0, 0, 1, 3, 4, 4, 0, 0, 3, 0, 4, 3, 0, 0, 1, 0, 0, 0, 1, 4, 0, 0, 1, 0, 0, 0, 0, 0, 0, 1, 0, 1, 1, 3, 3, 1, 0, 1, 0, 0, 0, 0, 4, 4, 0, 0, 0, 3, 1, 1, 1, 0, 1, 1, 4, 0, 0, 1, 1, 0, 0, 4, 0, 0, 0, 0, 1, 1, 0, 0, 1, 1, 1, 1, 3, 0, 3, 4, 1, 0, 3, 0, 0, 3, 1, 0, 4, 4, 0, 0, 0, 0, 1, 1, 1, 0, 0, 0, 0, 0, 0, 0, 1, 1, 3, 1, 0, 1, 0, 1, 1, 1, 1, 3, 0, 1, 1, 3, 1, 0, 3, 0, 0, 3, 4, 1, 0, 0, 0, 4, 1, 4, 1, 0, 0, 0, 4, 1, 4, 4, 1, 1, 4, 1, 0, 0, 1, 1, 1, 0, 0, 0, 3, 4, 0, 1, 4, 3, 1, 1, 0, 0, 0, 1, 0, 1, 0, 1, 0, 1, 0, 4, 0, 1, 1, 0, 1, 1, 0, 1, 1, 0, 0, 0, 1, 0, 3, 4, 1, 1, 1, 0, 1, 0, 0, 0, 1, 3, 0, 1, 0, 4, 3, 0, 1, 1, 1, 4, 1, 1, 1, 1, 1, 3, 1, 0, 4, 1, 0, 3, 3, 0, 0, 4, 1, 0, 0, 1, 4, 1, 1, 4, 1, 1, 0, 0, 3, 4, 0, 1, 1, 1, 1, 3, 3, 0, 1, 0, 1, 0, 3, 0, 3, 0, 1, 0, 4, 3, 1, 1, 1, 4, 0, 1, 0, 0, 0, 0, 0, 1, 3, 0, 1, 0, 1, 4, 4, 1, 0, 0, 1, 0, 0, 0, 0, 0, 0, 1, 0, 0, 1, 0, 0, 3, 1, 4, 1, 0, 4, 1, 1, 1, 4, 0, 1, 1, 3, 0, 1, 1, 0, 0, 3, 0, 0, 0, 0, 0, 4, 1, 1, 3, 0, 0, 0, 0, 4, 0, 0, 1, 0, 3, 1, 1, 4, 1, 1, 1, 0, 0, 4, 1, 0, 0, 0, 4, 4, 4, 1, 0, 0, 0, 3, 1, 4, 1, 0, 1, 3, 0, 0, 4, 1, 0, 1, 0, 0, 0, 3, 0, 0, 1, 1, 3, 1, 0, 3, 1, 3, 3, 0, 1, 0, 4, 1, 1, 0, 0, 4, 4, 0, 0, 1, 0, 1, 1, 1, 0, 0, 3, 0, 3, 0, 0, 1, 4, 0, 0, 3, 3, 0, 4, 0, 1, 1, 0, 1, 0, 0, 0, 0, 0, 4, 0, 3, 1, 0, 1, 0, 0, 0, 4, 3, 1, 1, 0, 1, 0, 0, 1, 0, 0, 1, 0, 4, 0, 3, 0, 0, 0, 3, 4, 1, 1, 0, 0, 0, 1, 3, 0, 0, 0, 4, 1, 4, 0, 4, 0, 4, 4, 1, 0, 1, 4, 0, 1, 4, 0, 3, 1, 1, 0, 1, 1, 0, 3, 1, 0, 0, 1, 0, 3, 0, 1, 1, 1, 4, 0, 3, 1, 1, 0, 0, 0, 0, 0, 1, 0, 0, 0, 1, 0, 0, 0, 0, 0, 0, 4, 0, 3, 0, 1, 3, 0, 1, 1, 1, 0, 0, 0, 4, 0, 3, 1, 4, 0, 3, 0, 1, 1, 1, 4, 1, 1, 4, 0, 0, 1, 0, 4, 0, 1, 0, 0, 1, 0, 0, 0, 3, 4, 0, 1, 0, 0, 0, 0, 1, 4, 0, 4, 0, 1, 1, 3, 0, 0, 0, 1, 1, 1, 1, 1, 0, 0, 0, 1, 0, 0, 0, 3, 1, 1, 4, 0, 1, 4, 3, 1, 3, 1, 0, 1, 1, 1, 0, 4, 3, 4, 1, 1, 3, 1, 0, 1, 0, 0, 0, 0, 1, 1, 0, 0, 0, 0, 0, 0, 0, 1, 1, 0, 1, 3, 1, 1, 0, 3, 0, 0, 4, 4, 1, 4, 1, 4, 1, 3, 0, 0, 0, 0, 0, 1, 0, 1, 3, 1, 1, 0, 1, 4, 1, 0, 1, 0, 3, 4, 0, 3, 0, 3, 0, 4, 1, 0, 1, 3, 0, 4, 1, 0, 1, 0, 4, 1, 1, 1, 1, 1, 1, 1, 1, 0, 3, 4, 0, 0, 0, 0, 0, 1, 0, 3, 0, 1, 1, 0, 4, 4, 1, 3, 0, 0, 0, 0, 1, 3, 0, 3, 0, 0, 4, 1, 1, 1, 0, 0, 3, 0, 0, 4, 1, 3, 0, 3, 0, 0, 1, 3, 3, 0, 1, 1, 3, 3, 0, 1, 1, 3, 4, 0, 1, 1, 0, 1, 1, 3, 0, 0, 1, 1, 3, 3, 3, 1, 0, 1, 0, 1, 1, 0, 1, 1, 0, 0, 0, 1, 1, 0, 1, 3, 1, 1, 3, 1, 1, 4, 0, 1, 1, 3, 1, 1, 1, 0, 1, 4, 3, 0, 4, 0, 0, 3, 3, 0, 0, 1, 4, 0, 0, 0, 1, 1, 1, 1, 1, 1, 4, 0, 1, 4, 1, 0, 0, 1, 0, 3, 0, 0, 0, 1, 0, 0, 0, 0, 0, 0, 0, 1, 1, 1, 3, 0, 0, 1, 3, 0, 0, 1, 0, 4, 0, 0, 1, 1, 4, 1, 0, 1, 1, 4, 0, 0, 1, 1, 1, 0, 4, 0, 0, 0, 0, 0, 0, 3, 1, 3, 0, 3, 3, 0, 0, 0, 0, 1, 3, 4, 0, 1, 1, 1, 0, 1, 0, 1, 0, 1, 1, 1, 0, 0, 1, 0, 4, 0, 1, 0, 0, 1, 1, 4, 1, 0, 0, 4, 1, 0, 4, 1, 1, 0, 0, 3, 3, 0, 0, 0, 0, 0, 1, 3, 0, 1, 0, 0, 3, 1, 1, 0, 3, 3, 0, 3, 0, 0, 1, 1, 3, 0, 1, 0, 1, 4, 0, 0, 3, 3, 0, 1, 0, 1, 0, 0, 1, 0, 1, 1, 0, 0, 1, 0, 0, 0, 1, 1, 0, 1, 0, 0, 0, 0, 0, 0, 1, 1, 1, 4, 4, 0, 4, 4, 4, 3, 1, 0, 1, 0, 0, 1, 1, 3, 1, 1, 1, 0, 1, 1, 0, 4, 3, 1, 3, 1, 3, 0, 1, 0, 1, 1, 1, 0, 1, 3, 0, 3, 1, 1, 3, 0, 4, 0, 3, 1, 0, 0, 0, 1, 0, 0, 3, 0, 0, 3, 3, 0, 0, 0, 0, 1, 0, 3, 4, 1, 0, 0, 1, 3, 3, 3, 0, 3, 0, 0, 1, 0, 0, 4, 3, 0, 0, 4, 0, 0, 0, 1, 1, 3, 0, 0, 0, 3, 1, 0, 4, 0, 3, 0, 1, 0, 0, 1, 0, 0, 4, 1, 4, 4, 1, 0, 4, 0, 1, 0, 3, 3, 3, 1, 4, 1, 4, 0, 0, 4, 1, 0, 0, 1, 1, 1, 3, 1, 0, 3, 0, 0, 4, 0, 1, 4, 3, 0, 1, 0, 3, 0, 0, 1, 0, 3, 4, 4, 1, 3, 1, 1, 4, 0, 0, 0, 3, 3, 0, 0, 0, 4, 0, 1, 1, 4, 1, 3, 1, 1, 1, 4, 1, 1, 0, 0, 0, 1, 1, 0, 0, 0, 4, 1, 1, 0, 0, 0, 0, 0, 0, 0, 0, 0, 1, 0, 0, 0, 1, 0, 1, 0, 0, 0, 0, 0, 3, 3, 3, 0, 4, 1, 0, 1, 1, 0, 0, 4, 3, 0, 0, 1, 0, 4, 1, 0, 1, 0, 0, 1, 1, 0, 1, 0, 1, 3, 4, 0, 4, 0, 4, 0, 4, 1, 0, 4, 1, 0, 1, 1, 0, 3, 0, 0, 4, 0, 0, 0, 4, 0, 1, 1, 1, 0, 1, 1, 0, 0, 1, 4, 3, 0, 4, 4, 3, 4, 1, 1, 0, 3, 1, 4, 1, 0, 0, 0, 0, 4, 1, 1, 1, 0, 0, 0, 1, 0, 0, 0, 0, 4, 1, 0, 0, 0, 0, 4, 1, 3, 0, 0, 4, 0, 1, 1, 0, 1, 0, 1, 0, 4, 1, 0, 3, 0, 4, 1, 1, 4, 3, 3, 1, 0, 4, 1, 0, 0, 1, 4, 0, 1, 1, 0, 1, 0, 1, 0, 0, 1, 0, 0, 1, 0, 1, 0, 1, 0, 1, 1, 0, 0, 1, 0, 3, 0, 0, 1, 4, 1, 3, 4, 1, 0, 0, 1, 0, 4, 0, 0, 0, 0, 0, 0, 0, 0, 0, 0, 1, 0, 0, 1, 0, 1, 1, 0, 0, 0, 4, 0, 0, 0, 4, 4, 3, 1, 0, 1, 1, 0, 0, 0, 1, 3, 1, 1, 0, 3, 0, 0, 1, 1, 1, 0, 0, 0, 1, 0, 4, 1, 0, 4, 1, 0, 0, 1, 0, 0, 1, 1, 1, 0, 1, 1, 0, 3, 1, 0, 0, 1, 0, 0, 1, 0, 3, 0, 4, 1, 0, 4, 0, 1, 1, 0, 0, 4, 0, 4, 0, 0, 0, 4, 1, 0, 3, 1, 0, 1, 3, 0, 4, 0, 3, 1, 4, 1, 0, 0, 0, 0, 1, 1, 0, 0, 0, 3, 1, 3, 0, 1, 1, 0, 3, 1, 3, 0, 4, 4, 0, 0, 1, 1, 3, 4, 0, 1, 0, 0, 4, 4, 4, 3, 0, 1, 0, 1, 0, 0, 1, 4, 0, 3, 4, 0, 0, 0, 1, 4, 1, 1, 1, 3, 0, 0, 0, 0, 4, 0, 0, 4, 3, 3, 4, 0, 1, 0, 4, 0, 4, 0, 1, 0, 1, 1, 0, 0, 0, 0, 1, 1, 1, 0, 1, 1, 1, 1, 0, 0, 4, 0, 4, 3, 1, 4, 1, 0, 0, 0, 1, 0, 0, 3, 0, 0, 0, 0, 0, 1, 0, 1, 0, 3, 0, 0, 1, 0, 0, 0, 0, 0, 3, 1, 1, 0, 0, 0, 0, 1, 1, 0, 4, 1, 1, 0, 1, 0, 0, 1, 0, 3, 1, 0, 3, 0, 0, 0, 1, 1, 1, 0, 1, 1, 1, 1, 3, 1, 0, 0, 0, 0, 1, 1, 0, 1, 0, 1, 1, 4, 0, 1, 0, 1, 0, 0, 3, 1, 3, 1, 0, 0, 1, 0, 1, 0, 4, 0, 0, 0, 0, 3, 4, 0, 3, 1, 1, 4, 1, 3, 0, 4, 0, 0, 1, 0, 4, 1, 1, 1, 1, 4, 0, 1, 0, 1, 1, 1, 1, 0, 1, 4, 0, 0, 1, 4, 1, 3, 0, 4, 4, 0, 3, 3, 0, 1, 3, 1, 3, 0, 4, 0, 0, 1, 3, 1, 1, 1, 3, 3, 0, 0, 0, 0, 0, 1, 1, 0, 0, 0, 0, 4, 1, 0, 1, 4, 1, 1, 4, 1, 1, 3, 1, 1, 1, 0, 4, 0, 1, 0, 0, 0, 0, 3, 0, 1, 0, 1, 1, 1, 1, 1, 0, 0, 1, 0, 0, 0, 1, 0, 0, 1, 0, 0, 4, 0, 1, 0, 4, 1, 1, 4, 1, 1, 0, 3, 0, 4, 1, 3, 1, 1, 1, 0, 0, 4, 4, 3, 3, 0, 0, 4, 1, 0, 4, 0, 1, 1, 0, 1, 0, 0, 0, 1, 1, 0, 1, 1, 0, 3, 1, 0, 3, 4, 1, 1, 1, 0, 0, 1, 0, 1, 1, 4, 4, 0, 1, 3, 0, 4, 1, 3, 0, 0, 0, 1, 0, 3, 0, 1, 1, 4, 1, 0, 3, 1, 0, 0, 0, 1, 1, 1, 4, 1, 1, 1, 0, 0, 0, 1, 3, 1, 0, 0, 3, 3, 4, 1, 3, 3, 4, 4, 4, 3, 1, 1, 0, 0, 0, 0, 1, 4, 1, 4, 1, 0, 0, 4, 0, 0, 1, 0, 0, 0, 0, 1, 1, 0, 1, 1, 3, 1, 0, 0, 0, 1, 4, 3, 1, 1, 0, 0, 0, 1, 1, 1, 0, 1, 0, 1, 4, 0, 4, 0, 1, 0, 0, 1, 0, 0, 0, 0, 0, 1, 1, 0, 0, 0, 3, 0, 0, 0, 3, 0, 1, 0, 4, 0, 0, 0, 4, 0, 1, 4, 1, 3, 1, 0, 1, 1, 1, 1, 3, 4, 4, 0, 0, 1, 1, 0, 1, 3, 0, 0, 0, 3, 0, 1, 0, 0, 0, 1, 1, 0, 0, 4, 3, 0, 0, 1, 1, 0, 0, 0, 0, 0, 3, 0, 3, 0, 1, 1, 1, 1, 0, 1, 0, 3, 0, 1, 4, 1, 4, 3, 0, 1, 0, 3, 4, 0, 4, 0, 4, 0, 4, 1, 1, 0, 1, 0, 0, 1, 0, 1, 0, 1, 0, 0, 3, 3, 3, 0, 4, 0, 1, 3, 0, 1, 1, 4, 0, 0, 0, 3, 3, 1, 0, 0, 4, 4, 1, 0, 4, 4, 0, 1, 0, 0, 3, 3, 4, 0, 0, 3, 0, 0, 0, 1, 1, 3, 3, 3, 1, 1, 4, 0, 1, 1, 0, 3, 1, 0, 0, 0, 0, 0, 4, 0, 4, 4, 0, 0, 4, 1, 0, 1, 1, 0, 1, 0, 0, 0, 0, 0, 4, 0, 0, 0, 0, 0, 0, 1, 4, 1, 0, 1, 3, 1, 0, 3, 3, 1, 0, 0, 0, 0, 0, 0, 1, 3, 1, 4, 1, 3, 1, 0, 0, 4, 0, 1, 3, 0, 0, 3, 1, 4, 0, 0, 3, 0, 0, 3, 0, 3, 0, 0, 1, 0, 0, 0, 4, 1, 3, 4, 1, 1, 3, 0, 4, 0, 1, 4, 0, 4, 0, 3, 0, 0, 1, 3, 0, 0, 0, 0, 0, 0, 0, 1, 3, 1, 1, 4, 3, 3, 3, 0, 0, 0, 3, 0, 0, 1, 0, 3, 4, 0, 0, 1, 0, 1, 1, 0, 4, 0, 1, 3, 0, 0, 3, 0, 0, 4, 3, 1, 1, 4, 4, 1, 0, 0, 4, 0, 0, 3, 1, 1, 0, 3, 0, 0, 0, 0, 0, 0, 0, 0, 3, 0, 0, 0, 4, 0, 0, 0, 1, 1, 0, 1, 0, 4, 0, 1, 1, 1, 4, 0, 3, 1, 4, 0, 1, 0, 4, 0, 4, 1, 0, 0, 4, 0, 4, 0, 0, 4, 4, 0, 3, 4, 3, 0, 4, 0, 0, 0, 0, 3, 0, 0, 0, 0, 4, 0, 1, 0, 1, 0, 0, 1, 3, 0, 0, 0, 0, 0, 1, 1, 4, 0, 1, 1, 4, 3, 1, 0, 0, 0, 0, 1, 0, 1, 0, 1, 1, 1, 0, 0, 1, 4, 0, 0, 1, 0, 0, 1, 0, 0, 0, 1, 0, 1, 0, 0, 3, 0, 0, 1, 3, 0, 4, 4, 3, 0, 3, 1, 1, 1, 1, 1, 0, 0, 0, 0, 0, 0, 0, 1, 0, 0, 0, 4, 4, 1, 4, 3, 0, 3, 1, 1, 0, 1, 0, 0, 1, 0, 0, 0, 0, 0, 1, 1, 1, 4, 3, 0, 1, 4, 0, 0, 0, 1, 3, 1, 0, 0, 0, 4, 0, 3, 1, 1, 4, 1, 1, 0, 1, 0, 3, 0, 0, 0, 0, 0, 1, 0, 1, 0, 0, 3, 4, 1, 0, 1, 0, 4, 0, 3, 0, 3, 0, 0, 0, 0, 4, 4, 0, 4, 0, 0, 0, 0, 0, 1, 0, 0, 0, 0, 4, 4, 1, 3, 0, 3, 0, 0, 3, 0, 4, 1, 0, 0, 0, 0, 0, 3, 3, 0, 1, 1, 3, 1, 0, 1, 0, 0, 4, 0, 1, 1, 0, 1, 1, 0, 0, 4, 0, 0, 0, 1, 0, 0, 0, 0, 1, 3, 0, 0, 0, 3, 0, 4, 4, 1, 0, 0, 1, 3, 3, 0, 1, 0, 0, 0, 1, 0, 1, 4, 1, 1, 0, 0, 0, 3, 0, 0, 0, 0, 4, 0, 0, 3, 1, 0, 3, 3, 1, 3, 1, 0, 1, 3, 4, 1, 4, 1, 0, 1, 0, 1, 0, 1, 1, 3, 1, 0, 0, 4, 0, 1, 0, 0, 1, 1, 0, 4, 4, 0, 1, 1, 0, 0, 4, 4, 0, 4, 1, 1, 4, 1, 0, 1, 0, 1, 1, 3, 1, 4, 4, 0, 4, 3, 4, 1, 1, 1, 1, 1, 1, 1, 1, 1, 3, 0, 0, 1, 1, 1, 3, 3, 1, 0, 1, 4, 1, 0, 1, 0, 1, 0, 1, 1, 1, 0, 3, 1, 0, 0, 1, 1, 0, 0, 1, 0, 0, 1, 1, 0, 0, 0, 4, 0, 0, 1, 1, 0, 0, 1, 1, 0, 1, 1, 1, 4, 0, 4, 0, 3, 1, 1, 3, 3, 0, 1, 1, 1, 1, 0, 1, 0, 0, 1, 0, 0, 3, 0, 3, 1, 0, 0, 1, 0, 0, 1, 0, 4, 4, 0, 0, 0, 1, 0, 1, 1, 0, 4, 0, 3, 1, 0, 0, 1, 1, 0, 1, 1, 1, 0, 0, 1, 0, 1, 1, 0, 3, 0, 0, 1, 1, 1, 4, 0, 0, 1, 3, 0, 4, 0, 0, 4, 4, 0, 1, 1, 4, 1, 0, 1, 1, 1, 3, 3, 0, 0, 1, 0, 1, 1, 4, 4, 1, 0, 0, 0, 1, 0, 3, 0, 1, 0, 3, 1, 3, 0, 1, 0, 1, 0, 4, 1, 1, 0, 0, 3, 0, 3, 4, 0, 0, 0, 0, 0, 1, 0, 0, 4, 4, 0, 0, 0, 0, 0, 0, 1, 3, 1, 1, 4, 0, 0, 0, 1, 0, 0, 1, 4, 0, 3, 0, 0, 1, 1, 0, 0, 0, 0, 0, 1, 0, 4, 1, 0, 1, 0, 0, 4, 1, 3, 4, 3, 0, 0, 0, 1, 0, 0, 0, 4, 0, 4, 0, 3, 4, 0, 1, 3, 0, 0, 1, 0, 1, 1, 4, 0, 0, 0, 1, 1, 0, 0, 1, 1, 0, 1, 1, 1, 1, 3, 1, 1, 1, 1, 0, 4, 0, 0, 0, 0, 1, 0, 0, 1, 4, 0, 4, 0, 0, 3, 0, 0, 3, 1, 1, 1, 4, 0, 1, 3, 0, 1, 3, 1, 0, 1, 0, 4, 3, 0, 0, 1, 0, 4, 0, 3, 1, 4, 1, 4, 3, 0, 3, 1, 0, 4, 0, 4, 1, 1, 0, 1, 1, 0, 3, 1, 0, 0, 0, 1, 1, 0, 0, 0, 0, 1, 1, 4, 0, 1, 0, 0, 4, 0, 1, 1, 0, 3, 1, 0, 0, 0, 4, 3, 0, 0, 4, 3, 0, 1, 1, 0, 0, 0, 0, 0, 4, 1, 3, 0, 0, 0, 0, 4, 0, 1, 3, 3, 4, 0, 1, 4, 1, 1, 1, 0, 0, 0, 4, 0, 3, 1, 3, 0, 1, 3, 1, 0, 3, 0, 1, 0, 0, 0, 0, 3, 0, 1, 3, 0, 1, 3, 0, 0, 0, 4, 4, 0, 1, 0, 0, 1, 1, 0, 0, 3, 1, 0, 4, 1, 0, 0, 4, 0, 1, 1, 1, 0, 1, 1, 0, 1, 1, 0, 1, 1, 1, 0, 0, 1, 1, 0, 3, 0, 4, 1, 4, 0, 4, 0, 4, 1, 0, 1, 0, 1, 3, 4, 4, 1, 0, 1, 0, 0, 1, 1, 3, 1, 0, 4, 1, 4, 0, 4, 1, 0, 4, 4, 3, 1, 3, 4, 0, 3, 0, 0, 0, 0, 1, 3, 4, 0, 1, 1, 0, 0, 1, 0, 0, 1, 0, 1, 0, 1, 4, 0, 0, 0, 0, 4, 4, 0, 0, 1, 1, 0, 0, 1, 1, 0, 4, 0, 1, 3, 1, 1, 1, 4, 0, 1, 4, 1, 0, 0, 3, 1, 0, 0, 0, 4, 0, 1, 0, 0, 1, 0, 0, 0, 3, 0, 0, 0, 1, 1, 0, 0, 1, 0, 1, 3, 0, 1, 1, 0, 0, 4, 0, 0, 0, 1, 1, 1, 0, 1, 3, 3, 1, 0, 0, 0, 0, 1, 4, 0, 0, 0, 0, 0, 0, 3, 4, 0, 0, 3, 4, 1, 1, 4, 0, 4, 0, 1, 1, 1, 0, 3, 0, 0, 3, 1, 0, 0, 3, 1, 4, 0, 0, 0, 0, 4, 4, 0, 4, 3, 1, 0, 3, 1, 3, 1, 3, 0, 0, 1, 0, 3, 0, 1, 0, 1, 0, 1, 1, 3, 0, 1, 3, 1, 1, 0, 3, 4, 0, 4, 3, 4, 0, 1, 0, 4, 1, 1, 3, 0, 0, 1, 3, 0, 3, 1, 3, 4, 3, 0, 4, 1, 1, 4, 1, 1, 3, 0, 0, 1, 1, 0, 1, 0, 4, 0, 1, 0, 0, 4, 0, 0, 0, 0, 1, 1, 3, 0, 1, 1, 0, 1, 0, 1, 1, 0, 4, 4, 0, 0, 0, 0, 0, 0, 0, 1, 0, 0, 1, 0, 3, 1, 3, 0, 0, 0, 0, 0, 0, 0, 1, 1, 0, 0, 4, 1, 1, 1, 0, 0, 0, 1, 0, 1, 0, 1, 1, 4, 0, 1, 0, 1, 3, 0, 0, 0, 1, 1, 4, 4, 3, 0, 1, 0, 1, 0, 0, 1, 0, 1, 3, 0, 1, 0, 4, 1, 0, 4, 0, 0, 1, 1, 0, 1, 3, 0, 4, 3, 0, 0, 4, 0, 0, 4, 0, 3, 1, 0, 3, 4, 3, 4, 0, 4, 1, 4, 4, 1, 3, 0, 4, 1, 1, 0, 0, 4, 1, 0, 0, 0, 1, 0, 0, 0, 1, 0, 4, 0, 3, 1, 4, 1, 1, 0, 1, 1, 4, 1, 1, 0, 0, 0, 4, 0, 4, 3, 4, 3, 1, 4, 0, 0, 1, 4, 4, 0, 1, 0, 4, 0, 1, 1, 0, 0, 0, 1, 0, 1, 1, 3, 1, 0, 0, 0, 1, 1, 1, 1, 1, 1, 0, 0, 0, 1, 0, 4, 0, 1, 0, 1, 0, 1, 0, 3, 3, 1, 1, 0, 1, 4, 1, 0, 3, 3, 3, 4, 0, 1, 1, 1, 0, 1, 0, 0, 0, 1, 0, 0, 0, 4, 0, 0, 1, 4, 1, 1, 1, 1, 0, 1, 0, 1, 0, 1, 1, 0, 0, 3, 0, 3, 4, 1, 0, 4, 1, 3, 0, 4, 3, 1, 3, 0, 0, 1, 3, 1, 0, 0, 3, 3, 1, 0, 0, 0, 1, 0, 0, 0, 0, 0, 0, 0, 0, 0, 1, 4, 0, 0, 0, 0, 3, 1, 0, 3, 4, 1, 1, 0, 1, 1, 1, 0, 0, 0, 1, 4, 4, 0, 0, 3, 1, 1, 4, 3, 1, 1, 4, 1, 0, 0, 0, 4, 0, 0, 0, 0, 3, 0, 3, 0, 4, 4, 0, 3, 0, 4, 0, 0, 0, 0, 1, 1, 4, 4, 1, 1, 0, 3, 4, 0, 3, 0, 0, 0, 1, 3, 1, 0, 1, 0, 1, 0, 4, 3, 4, 0, 3, 0, 4, 4, 1, 0, 0, 4, 1, 1, 3, 0, 0, 0, 1, 1, 3, 0, 1, 1, 1, 0, 1, 0, 1, 4, 3, 0, 3, 1, 4, 1, 4, 1, 1, 4, 0, 1, 0, 0, 0, 0, 1, 0, 3, 4, 0, 0, 4, 1, 0, 3, 1, 1, 4, 0, 0, 1, 3, 0, 0, 4, 1, 0, 0, 1, 1, 4, 3, 1, 1, 1, 0, 1, 0, 1, 0, 1, 1, 0, 3, 1, 4, 4, 1, 0, 0, 1, 1, 0, 1, 1, 1, 1, 4, 3, 0, 0, 1, 0, 1, 4, 4, 0, 0, 4, 0, 0, 1, 0, 1, 1, 4, 0, 0, 1, 0, 0, 1, 4, 1, 0, 1, 0, 0, 0, 1, 1, 3, 1, 3, 1, 1, 0, 0, 0, 3, 1, 1, 0, 0, 1, 4, 0, 4, 0, 0, 3, 1, 0, 1, 4, 1, 0, 0, 0, 0, 0, 1, 1, 0, 3, 0, 1, 1, 0, 0, 0, 1, 0, 1, 1, 0, 1, 0, 0, 0, 3, 0, 1, 0, 0, 0, 0, 0, 1, 1, 1, 4, 0, 1, 4, 0, 1, 1, 1, 1, 4, 0, 4, 0, 1, 0, 1, 3, 1, 1, 4, 4, 1, 0, 1, 1, 0, 0, 1, 0, 1, 1, 0, 3, 1, 0, 0, 3, 1, 4, 4, 4, 1, 1, 0, 1, 0, 3, 1, 0, 3, 1, 1, 0, 0, 0, 1, 1, 0, 0, 1, 1, 0, 1, 0, 1, 0, 1, 0, 0, 0, 0, 0, 0, 0, 0, 0, 1, 1, 0, 3, 1, 0, 0, 3, 0, 1, 0, 0, 0, 1, 1, 3, 0, 1, 4, 1, 0, 1, 0, 1, 4, 4, 1, 0, 0, 0, 1, 1, 0, 0, 4, 0, 0, 4, 0, 1, 3, 1, 1, 0, 0, 1, 1, 4, 0, 0, 0, 1, 4, 0, 0, 0, 4, 0, 3, 4, 0, 0, 1, 1, 0, 3, 4, 0, 3, 1, 1, 4, 4, 0, 1, 0, 1, 1, 0, 0, 1, 1, 3, 1, 1, 0, 0, 0, 0, 0, 0, 0, 0, 1, 0, 4, 4, 0, 1, 0, 1, 1, 0, 0, 4, 0, 0, 3, 1, 1, 1, 0, 3, 4, 1, 0, 0, 1, 0, 3, 0, 0, 0, 0, 1, 4, 1, 0, 4, 4, 3, 1, 1, 0, 0, 1, 4, 0, 1, 4, 0, 0, 0, 0, 1, 1, 3, 0, 0, 1, 1, 1, 0, 0, 1, 0, 0, 1, 0, 0, 0, 0, 1, 0, 0, 4, 0, 0, 0, 4, 0, 3, 0, 0, 0, 3, 4, 0, 4, 0, 4, 0, 0, 1, 0, 0, 0, 0, 1, 0, 4, 1, 0, 1, 0, 1, 0, 3, 1, 1, 0, 0, 0, 0, 0, 0, 4, 1, 0, 0, 1, 0, 0, 1, 1, 4, 0, 1, 0, 0, 1, 0, 3, 0, 0, 1, 4, 1, 0, 0, 3, 4, 0, 0, 1, 0, 3, 4, 1, 1, 3, 0, 1, 0, 4, 0, 3, 4, 1, 3, 0, 0, 1, 4, 3, 0, 0, 0, 0, 0, 1, 0, 0, 4, 0, 0, 1, 0, 0, 3, 0, 1, 0, 1, 0, 0, 1, 4, 0, 1, 0, 1, 0, 3, 1, 0, 0, 0, 0, 4, 0, 0, 0, 1, 1, 1, 3, 1, 4, 1, 4, 4, 0, 0, 1, 0, 4, 3, 0, 0, 4, 3, 3, 1, 1, 0, 0, 0, 1, 4, 1, 0, 3, 0, 1, 1, 4, 4, 4, 4, 1, 3, 0, 3, 1, 0, 1, 0, 0, 3, 4, 0, 1, 1, 3, 1, 0, 1, 0, 4, 0, 3, 0, 1, 4, 0, 1, 0, 0, 0, 0, 0, 1, 4, 3, 0, 0, 3, 0, 1, 0, 0, 0, 1, 0, 0, 3, 1, 3, 1, 0, 4, 0, 0, 4, 0, 0, 1, 1, 0, 4, 0, 4, 0, 1, 0, 1, 1, 0, 1, 4, 4, 0, 4, 0, 1, 0, 1, 1, 4, 1, 3, 0, 1, 1, 1, 0, 0, 1, 0, 0, 1, 0, 4, 4, 1, 0, 0, 0, 0, 0, 3, 0, 4, 0, 4, 0, 1, 0, 1, 3, 3, 0, 0, 0, 3, 1, 3, 1, 0, 4, 1, 0, 1, 0, 0, 1, 1, 3, 1, 0, 1, 1, 3, 3, 3, 0, 1, 1, 0, 0, 1, 1, 1, 1, 1, 0, 1, 0, 0, 1, 4, 3, 0, 0, 1, 0, 0, 4, 1, 1, 3, 1, 1, 0, 0, 1, 0, 1, 0, 0, 4, 1, 1, 0, 1, 0, 0, 4, 1, 0, 1, 1, 1, 1, 1, 1, 1, 4, 4, 1, 0, 1, 0, 0, 4, 0, 0, 3, 1, 0, 1, 0, 0, 4, 4, 4, 1, 1, 0, 1, 4, 1, 0, 3, 0, 4, 3, 3, 1, 4, 1, 4, 4, 1, 0, 3, 0, 0, 1, 0, 0, 1, 1, 0, 1, 1, 0, 4, 1, 4, 0, 0, 0, 1, 0, 0, 3, 1, 0, 0, 1, 4, 0, 0, 4, 0, 1, 3, 3, 1, 1, 0, 0, 0, 4, 1, 0, 1, 0, 0, 1, 4, 0, 0, 1, 3, 3, 1, 0, 0, 0, 4, 0, 0, 1, 0, 1, 4, 0, 0, 0, 0, 3, 1, 1, 0, 0, 1, 0, 0, 1, 0, 0, 0, 3, 4, 0, 0, 0, 4, 1, 0, 0, 0, 0, 1, 1, 1, 4, 4, 0, 4, 1, 0, 1, 0, 0, 0, 0, 0, 0, 1, 4, 4, 3, 3, 1, 0, 0, 1, 1, 0, 1, 3, 0, 1, 0, 3, 1, 3, 1, 1, 3, 1, 0, 0, 1, 0, 0, 0, 1, 1, 0, 0, 0, 1, 0, 0, 1, 0, 0, 4, 0, 3, 1, 1, 0, 0, 1, 3, 3, 0, 1, 0, 0, 0, 4, 0, 3, 1, 0, 3, 1, 0, 1, 3, 0, 4, 0, 0, 3, 1, 4, 4, 1, 1, 0, 0, 1, 0, 0, 1, 0, 0, 0, 1, 1, 0, 4, 0, 1, 0, 0, 4, 0, 0, 0, 1, 0, 1, 4, 0, 0, 1, 0, 0, 0, 1, 0, 0, 1, 0, 1, 0, 1, 0, 1, 4, 1, 0, 1, 1, 3, 1, 4, 1, 1, 0, 0, 0, 3, 3, 0, 1, 0, 1, 4, 1, 3, 4, 0, 3, 1, 0, 3, 0, 1, 4, 1, 0, 1, 0, 1, 0, 0, 1, 3, 0, 1, 1, 0, 0, 0, 0, 0, 0, 3, 1, 3, 0, 1, 1, 1, 1, 3, 1, 1, 1, 1, 3, 4, 1, 0, 1, 1, 0, 0, 1, 0, 3, 1, 1, 0, 3, 0, 0, 0, 1, 0, 1, 3, 4, 0, 4, 4, 0, 0, 1, 0, 0, 0, 0, 4, 3, 1, 0, 1, 0, 0, 3, 3, 1, 0, 0, 1, 4, 0, 3, 3, 3, 3, 0, 4, 0, 0, 0, 0, 0, 0, 1, 0, 1, 1, 1, 0, 3, 1, 4, 0, 0, 0, 3, 4, 4, 0, 1, 3, 1, 0, 1, 0, 1, 1, 0, 0, 0, 1, 3, 3, 1, 0, 0, 0, 1, 3, 0, 0, 0, 4, 0, 4, 0, 4, 0, 1, 0, 1, 3, 4, 0, 1, 0, 0, 1, 0, 1, 0, 1, 0, 1, 4, 4, 3, 0, 3, 0, 0, 1, 0, 1, 1, 1, 0, 3, 0, 3, 0, 0, 1, 4, 0, 1, 0, 0, 1, 1, 0, 0, 1, 0, 0, 1, 1, 0, 1, 1, 0, 4, 0, 3, 0, 1, 0, 0, 0, 0, 0, 4, 3, 1, 0, 4, 4, 1, 1, 1, 1, 4, 0, 1, 1, 4, 4, 3, 0, 1, 0, 4, 1, 1, 1, 0, 1, 1, 1, 1, 4, 4, 1, 0, 1, 0, 0, 0, 0, 0, 1, 0, 1, 1, 4, 0, 0, 4, 1, 0, 0, 0, 0, 0, 4, 0, 0, 1, 0, 0, 1, 1, 0, 0, 1, 1, 3, 4, 4, 1, 0, 0, 0, 0, 1, 1, 1, 0, 0, 1, 0, 0, 4, 1, 1, 0, 3, 0, 4, 1, 0, 3, 3, 4, 0, 0, 3, 0, 1, 1, 0, 0, 0, 0, 3, 0, 0, 1, 0, 0, 1, 3, 0, 3, 0, 0, 4, 0, 0, 4, 0, 0, 1, 0, 3, 0, 0, 0, 1, 4, 0, 0, 4, 0, 1, 0, 0, 1, 0, 0, 0, 1, 1, 1, 1, 0, 0, 1, 0, 3, 0, 4, 0, 4, 3, 3, 1, 0, 3, 1, 3, 1, 0, 0, 1, 4, 4, 1, 1, 1, 1, 0, 0, 0, 1, 0, 1, 1, 1, 1, 4, 0, 0, 0, 0, 0, 1, 0, 1, 0, 1, 4, 3, 3, 0, 0, 0, 0, 1, 1, 1, 1, 1, 3, 0, 3, 1, 3, 0, 0, 0, 1, 1, 3, 1, 0, 4, 0, 0, 0, 4, 4, 0, 3, 0, 0, 0, 3, 0, 1, 3, 0, 0, 1, 0, 0, 1, 0, 0, 0, 4, 3, 0, 1, 0, 0, 0, 0, 0, 1, 4, 0, 1, 1, 0, 3, 0, 4, 1, 1, 0, 1, 0, 3, 1, 0, 4, 1, 0, 1, 0, 4, 1, 0, 0, 0, 0, 1, 1, 1, 0, 4, 1, 4, 0, 4, 0, 1, 1, 4, 3, 0, 0, 4, 0, 1, 4, 0, 1, 1, 1, 0, 1, 1, 0, 1, 0, 1, 1, 0, 1, 0, 1, 1, 3, 0, 0, 0, 0, 1, 0, 1, 1, 0, 1, 3, 4, 4, 1, 0, 0, 0, 4, 3, 4, 0, 0, 1, 0, 1, 4, 4, 3, 4, 0, 0, 1, 3, 4, 0, 0, 1, 4, 4, 0, 1, 0, 3, 1, 3, 4, 0, 0, 0, 0, 1, 0, 4, 1, 0, 0, 1, 1, 0, 0, 3, 4, 3, 1, 3, 0, 1, 0, 1, 0, 4, 0, 1, 4, 1, 0, 1, 3, 1, 0, 0, 4, 3, 0, 1, 1, 1, 0, 0, 0, 3, 1, 0, 1, 1, 0, 0, 4, 0, 0, 4, 3, 1, 0, 3, 1, 0, 0, 0, 0, 4, 0, 3, 1, 0, 0, 0, 0, 0, 1, 3, 1, 1, 1, 1, 0, 0, 1, 4, 0, 4, 1, 0, 3, 1, 1, 1, 4, 1, 1, 1, 0, 1, 1, 4, 1, 0, 0, 0, 1, 0, 1, 4, 1, 0, 0, 0, 1, 0, 4, 0, 0, 1, 1, 0, 1, 1, 4, 1, 0, 0, 3, 1, 0, 1, 4, 4, 0, 1, 0, 0, 0, 3, 3, 0, 1, 0, 0, 4, 1, 0, 0, 3, 3, 0, 4, 0, 0, 1, 0, 0, 0, 4, 3, 1, 3, 1, 0, 3, 1, 4, 0, 0, 3, 3, 3, 1, 1, 0, 1, 1, 1, 0, 0, 0, 0, 0, 0, 0, 0, 0, 0, 1, 1, 3, 0, 0, 0, 0, 1, 1, 1, 0, 1, 1, 1, 1, 1, 0, 1, 0, 1, 3, 0, 1, 0, 0, 1, 0, 1, 0, 0, 0, 0, 1, 0, 1, 1, 0, 1, 0, 4, 0, 0, 0, 1, 3, 4, 4, 4, 4, 3, 0, 0, 0, 1, 0, 1, 4, 0, 1, 0, 1, 3, 3, 4, 0, 1, 1, 0, 1, 3, 1, 1, 1, 1, 4, 0, 0, 3, 3, 1, 1, 3, 3, 1, 4, 4, 0, 0, 0, 0, 4, 0, 0, 3, 0, 3, 0, 1, 0, 4, 1, 4, 4, 1, 3, 3, 0, 1, 3, 4, 0, 0, 1, 1, 0, 1, 1, 4, 0, 1, 0, 0, 1, 3, 0, 0, 4, 0, 0, 4, 3, 0, 1, 0, 0, 1, 4, 4, 3, 0, 0, 1, 1, 0, 1, 3, 0, 0, 0, 1, 1, 1, 1, 4, 0, 0, 1, 0, 0, 0, 4, 1, 4, 3, 3, 1, 1, 0, 4, 0, 3, 3, 0, 0, 1, 3, 1, 0, 3, 1, 0, 1, 0, 1, 0, 0, 1, 0, 0, 1, 0, 4, 0, 4, 1, 1, 3, 0, 0, 0, 0, 4, 4, 1, 4, 1, 3, 4, 1, 1, 0, 1, 4, 1, 0, 3, 1, 0, 4, 1, 0, 1, 4, 0, 0, 0, 0, 0, 3, 0, 1, 4, 1, 3, 1, 0, 3, 3, 0, 0, 0, 0, 3, 0, 3, 3, 0, 1, 4, 4, 1, 0, 3, 4, 3, 0, 4, 3, 1, 0, 0, 1, 0, 1, 0, 0, 1, 0, 1, 1, 1, 4, 0, 4, 0, 0, 4, 1, 1, 0, 1, 1, 0, 1, 0, 4, 0, 0, 4, 0, 1, 0, 0, 1, 0, 0, 1, 4, 0, 4, 4, 3, 0, 3, 0, 4, 0, 1, 4, 1, 0, 1, 1, 0, 1, 1, 0, 0, 4, 0, 3, 1, 1, 1, 1, 0, 1, 0, 1, 4, 0, 3, 4, 1, 0, 4, 1, 0, 0, 1, 3, 0, 1, 1, 1, 0, 1, 0, 0, 0, 3, 1, 3, 3, 0, 0, 0, 0, 4, 1, 1, 0, 3, 1, 0, 0, 0, 4, 3, 0, 0, 0, 1, 1, 1, 1, 1, 0, 3, 4, 1, 1, 0, 1, 0, 1, 0, 0, 4, 1, 0, 3, 4, 1, 4, 1, 0, 4, 1, 0, 1, 3, 0, 0, 0, 1, 1, 0, 4, 1, 0, 0, 4, 0, 0, 0, 1, 1, 0, 4, 0, 0, 1, 0, 1, 3, 3, 1, 0, 1, 0, 0, 1, 0, 0, 0, 4, 1, 1, 1, 1, 0, 0, 0, 1, 1, 0, 4, 4, 3, 0, 0, 3, 0, 0, 0, 1, 1, 4, 1, 3, 4, 0, 1, 1, 4, 0, 0, 1, 3, 0, 1, 1, 4, 1, 0, 0, 0, 0, 0, 1, 1, 3, 1, 0, 0, 0, 0, 0, 1, 1, 0, 0, 0, 1, 3, 0, 3, 1, 3, 1, 1, 1, 4, 1, 0, 4, 1, 1, 0, 1, 0, 0, 3, 0, 0, 0, 0, 1, 4, 1, 0, 4, 0, 0, 0, 0, 0, 1, 0, 1, 1, 3, 0, 0, 3, 1, 0, 3, 0, 1, 1, 1, 1, 1, 0, 0, 4, 1, 3, 4, 0, 0, 0, 1, 4, 1, 0, 1, 0, 3, 1, 4, 1, 1, 0, 1, 1, 1, 1, 4, 0, 0, 1, 1, 0, 0, 0, 0, 0, 0, 0, 4, 3, 4, 1, 0, 4, 0, 0, 0, 0, 0, 0, 1, 4, 1, 1, 0, 1, 1, 0, 1, 0, 4, 0, 3, 0, 0, 1, 1, 4, 0, 0, 0, 0, 1, 1, 4, 0, 4, 3, 3, 1, 1, 3, 0, 0, 0, 0, 1, 0, 1, 0, 0, 1, 0, 1, 1, 1, 1, 1, 3, 1, 0, 1, 1, 0, 0, 0, 1, 3, 1, 1, 0, 0, 1, 1, 0, 0, 1, 1, 0, 0, 4, 1, 4, 0, 3, 0, 1, 3, 0, 1, 0, 0, 0, 0, 1, 3, 0, 3, 1, 3, 1, 4, 1, 0, 0, 0, 0, 1, 0, 1, 0, 1, 1, 0, 1, 1, 0, 1, 1, 3, 1, 4, 3, 1, 0, 0, 0, 0, 0, 1, 1, 0, 1, 4, 1, 1, 1, 1, 1, 0, 3, 4, 1, 1, 0, 0, 4, 0, 0, 0, 0, 1, 4, 4, 1, 0, 0, 4, 0, 4, 0, 3, 1, 4, 0, 0, 0, 4, 1, 0, 1, 0, 1, 3, 1, 0, 0, 3, 1, 0, 0, 0, 4, 3, 1, 0, 1, 4, 0, 1, 1, 0, 3, 0, 3, 1, 0, 1, 1, 4, 0, 3, 0, 0, 1, 1, 0, 4, 3, 0, 0, 0, 0, 1, 4, 0, 1, 4, 1, 1, 1, 1, 4, 1, 0, 4, 0, 0, 0, 4, 4, 0, 3, 0, 1, 0, 0, 3, 0, 0, 0, 0, 3, 0, 3, 1, 1, 0, 1, 0, 0, 1, 1, 4, 0, 1, 1, 4, 0, 0, 1, 0, 0, 0, 0, 0, 1, 1, 0, 1, 1, 3, 3, 1, 0, 0, 0, 1, 1, 1, 0, 1, 1, 0, 0, 4, 3, 1, 1, 0, 0, 4, 4, 3, 0, 4, 3, 1, 0, 1, 1, 0, 0, 3, 4, 0, 0, 1, 1, 0, 0, 1, 4, 0, 4, 0, 4, 0, 0, 0, 1, 0, 1, 1, 1, 1, 0, 0, 0, 0, 3, 1, 3, 0, 0, 1, 0, 1, 0, 0, 1, 1, 3, 1, 3, 0, 0, 0, 0, 1, 3, 3, 1, 1, 0, 0, 0, 0, 1, 0, 1, 3, 0, 0, 0, 4, 0, 1, 4, 0, 3, 3, 0, 1, 0, 0, 1, 0, 0, 1, 1, 0, 1, 0, 4, 4, 1, 0, 1, 0, 1, 0, 1, 0, 0, 4, 3, 1, 0, 3, 1, 0, 0, 0, 4, 4, 0, 1, 1, 0, 0, 3, 0, 3, 0, 2, 1, 1, 4, 3, 0, 1, 0, 1, 0, 0, 0, 1, 1, 0, 4, 1, 4, 3, 0, 1, 3, 0, 4, 0, 4, 0, 0, 1, 0, 0, 0, 0, 1, 3, 1, 1, 0, 0, 0, 0, 1, 1, 0, 1, 1, 4, 0, 1, 1, 4, 4, 0, 0, 0, 1, 0, 0, 0, 0, 3, 1, 0, 0, 0, 3, 3, 1, 0, 0, 0, 4, 0, 4, 0, 0, 0, 0, 0, 3, 0, 1, 1, 4, 0, 3, 1, 0, 0, 3, 1, 1, 1, 4, 4, 1, 0, 0, 1, 0, 4, 0, 1, 1, 3, 4, 1, 0, 0, 1, 1, 4, 0, 1, 1, 1, 0, 3, 4, 1, 0, 1, 4, 0, 0, 0, 4, 0, 0, 0, 0, 0, 0, 0, 4, 1, 0, 0, 0, 0, 1, 0, 0, 0, 0, 0, 0, 0, 1, 1, 0, 3, 1, 1, 1, 0, 0, 1, 0, 1, 1, 0, 0, 4, 1, 0, 4, 0, 0, 0, 0, 1, 3, 1, 1, 0, 0, 3, 0, 0, 0, 4, 4, 4, 1, 4, 1, 0, 0, 0, 1, 0, 1, 0, 1, 0, 0, 0, 0, 0, 1, 0, 0, 0, 3, 0, 1, 0, 0, 4, 1, 0, 3, 1, 0, 3, 0, 0, 1, 1, 1, 1, 4, 0, 1, 0, 1, 1, 0, 3, 1, 0, 1, 0, 4, 1, 0, 0, 1, 0, 1, 3, 1, 0, 0, 1, 1, 0, 1, 4, 0, 1, 0, 0, 0, 0, 1, 4, 1, 0, 4, 0, 0, 0, 0, 0, 4, 4, 3, 0, 0, 4, 3, 1, 1, 0, 0, 1, 0, 0, 0, 1, 4, 0, 1, 1, 1, 0, 1, 0, 1, 0, 0, 1, 0, 0, 1, 0, 0, 3, 1, 0, 1, 3, 1, 1, 3, 0, 3, 3, 0, 4, 1, 3, 1, 0, 1, 1, 1, 0, 0, 1, 0, 1, 0, 1, 3, 0, 0, 3, 3, 0, 0, 1, 0, 0, 0, 0, 0, 1, 4, 0, 4, 0, 3, 0, 0, 0, 1, 4, 0, 0, 3, 3, 1, 1, 0, 1, 1, 1, 0, 0, 0, 1, 0, 4, 1, 1, 0, 3, 1, 1, 0, 1, 3, 4, 3, 4, 1, 0, 3, 0, 0, 4, 1, 1, 1, 4, 0, 4, 1, 0, 1, 0, 0, 1, 1, 0, 1, 1, 0, 0, 0, 0, 0, 4, 4, 3, 1, 1, 1, 1, 0, 1, 1, 0, 0, 0, 0, 0, 1, 0, 3, 1, 1, 1, 0, 1, 1, 4, 1, 1, 0, 0, 3, 1, 3, 1, 0, 1, 0, 3, 1, 1, 3, 0, 1, 0, 0, 1, 1, 3, 3, 0, 1, 0, 4, 0, 1, 0, 3, 1, 1, 0, 0, 1, 4, 0, 0, 0, 1, 4, 1, 3, 0, 0, 0, 0, 0, 1, 0, 0, 4, 1, 1, 0, 0, 4, 0, 1, 1, 0, 1, 0, 1, 1, 0, 3, 1, 0, 1, 0, 0, 0, 3, 3, 0, 1, 0, 1, 1, 1, 0, 0, 0, 3, 1, 1, 0, 0, 1, 0, 0, 4, 4, 1, 1, 4, 4, 1, 3, 3, 0, 3, 0, 2, 0, 0, 4, 1, 1, 4, 0, 1, 3, 0, 1, 1, 0, 0, 0, 0, 0, 1, 0, 3, 1, 0, 3, 1, 0, 1, 3, 4, 0, 1, 1, 0, 0, 0, 0, 4, 1, 0, 1, 1, 0, 4, 1, 1, 1, 1, 0, 0, 4, 1, 4, 1, 1, 4, 4, 4, 0, 0, 0, 0, 1, 1, 0, 0, 1, 1, 0, 0, 0, 0, 4, 1, 1, 3, 4, 0, 1, 1, 0, 1, 1, 1, 0, 0, 4, 4, 0, 0, 0, 0, 0, 0, 1, 1, 1, 0, 1, 4, 4, 4, 3, 3, 1, 0, 1, 1, 1, 0, 0, 1, 0, 1, 1, 1, 3, 1, 0, 0, 0, 0, 1, 3, 0, 0, 1, 0, 1, 0, 1, 0, 0, 0, 0, 4, 0, 0, 0, 0, 0, 1, 3, 1, 1, 3, 1, 0, 4, 1, 0, 1, 0, 0, 3, 3, 0, 1, 3, 1, 4, 4, 0, 0, 4, 0, 0, 3, 1, 0, 3, 0, 1, 1, 0, 1, 4, 4, 4, 0, 1, 1, 1, 4, 0, 0, 0, 1, 0, 0, 3, 0, 0, 0, 1, 1, 3, 1, 1, 1, 4, 4, 0, 1, 0, 0, 1, 0, 1, 1, 0, 0, 1, 0, 0, 0, 0, 1, 1, 1, 0, 0, 0, 1, 3, 0, 4, 1, 1, 0, 0, 3, 1, 0, 0, 0, 1, 1, 0, 0, 3, 1, 4, 1, 3, 0, 0, 1, 0, 0, 3, 1, 1, 0, 4, 1, 0, 0, 1, 0, 1, 0, 0, 1, 1, 1, 0, 1, 4, 3, 1, 1, 1, 1, 0, 3, 1, 1, 0, 0, 3, 4, 1, 1, 3, 0, 1, 0, 1, 0, 1, 1, 0, 1, 0, 0, 3, 3, 1, 0, 1, 3, 1, 0, 4, 0, 0, 3, 1, 1, 3, 4, 3, 1, 3, 0, 4, 0, 0, 0, 0, 1, 0, 0, 1, 0, 1, 0, 0, 1, 1, 1, 4, 0, 0, 0, 1, 1, 0, 0, 3, 0, 0, 0, 0, 0, 1, 3, 4, 0, 1, 3, 0, 0, 0, 4, 4, 0, 3, 0, 1, 1, 1, 1, 1, 1, 0, 1, 0, 1, 4, 1, 0, 0, 0, 0, 0, 4, 3, 0, 0, 1, 0, 1, 0, 0, 0, 4, 0, 0, 4, 1, 0, 0, 0, 1, 0, 4, 0, 1, 1, 0, 0, 3, 0, 0, 4, 0, 0, 0, 3, 1, 1, 1, 1, 1, 1, 1, 0, 1, 1, 0, 1, 0, 0, 0, 0, 0, 0, 1, 0, 1, 3, 4, 0, 1, 1, 3, 1, 3, 0, 3, 1, 1, 0, 1, 0, 1, 4, 0, 3, 4, 0, 3, 0, 1, 0, 0, 0, 1, 1, 1, 0, 1, 4, 3, 0, 0, 0, 1, 1, 0, 0, 0, 3, 4, 0, 1, 1, 0, 0, 1, 4, 0, 0, 4, 4, 0, 3, 0, 0, 1, 3, 1, 0, 4, 1, 0, 1, 3, 3, 3, 1, 3, 0, 4, 0, 3, 0, 1, 1, 3, 0, 4, 0, 0, 1, 0, 4, 4, 0, 0, 1, 0, 1, 1, 4, 4, 0, 4, 1, 0, 4, 0, 1, 1, 1, 0, 0, 4, 3, 1, 0, 4, 1, 3, 0, 0, 4, 0, 0, 4, 0, 1, 3, 0, 1, 1, 0, 0, 1, 0, 1, 0, 0, 1, 0, 0, 1, 0, 4, 1, 0, 1, 1, 1, 3, 3, 0, 3, 1, 1, 1, 1, 1, 4, 0, 0, 1, 0, 0, 0, 4, 1, 1, 0, 0, 0, 0, 3, 0, 1, 0, 0, 0, 1, 1, 1, 0, 0, 1, 0, 4, 0, 0, 0, 4, 1, 1, 0, 1, 0, 1, 1, 1, 0, 0, 0, 1, 1, 3, 4, 0, 1, 0, 0, 1, 1, 0, 1, 0, 1, 3, 1, 3, 0, 4, 1, 1, 4, 3, 1, 0, 0, 0, 4, 1, 1, 3, 1, 0, 1, 1, 0, 3, 0, 0, 0, 4, 0, 3, 4, 3, 4, 0, 0, 1, 0, 0, 0, 1, 3, 0, 0, 4, 1, 4, 1, 1, 0, 0, 4, 0, 4, 1, 0, 1, 3, 0, 0, 3, 3, 1, 0, 3, 3, 1, 1, 4, 3, 4, 1, 0, 0, 0, 0, 3, 1, 1, 1, 0, 3, 0, 0, 0, 3, 0, 4, 4, 1, 1, 3, 1, 4, 1, 4, 3, 0, 0, 0, 1, 0, 3, 0, 1, 1, 0, 0, 0, 0, 4, 3, 1, 0, 0, 0, 1, 1, 0, 0, 4, 0, 4, 0, 1, 0, 3, 0, 0, 1, 0, 4, 0, 0, 1, 0, 0, 0, 1, 0, 3, 1, 0, 0, 0, 0, 1, 0, 1, 1, 0, 1, 1, 1, 4, 1, 0, 0, 0, 4, 0, 3, 0, 0, 0, 1, 0, 4, 0, 1, 4, 0, 0, 0, 1, 1, 0, 0, 0, 0, 1, 0, 1, 0, 3, 1, 1, 0, 3, 0, 0, 0, 0, 0, 1, 0, 1, 1, 1, 1, 0, 1, 0, 1, 1, 0, 1, 0, 0, 3, 4, 1, 1, 4, 1, 0, 3, 4, 1, 0, 0, 0, 0, 0, 0, 4, 1, 1, 3, 1, 1, 4, 1, 0, 1, 0, 3, 0, 1, 4, 0, 0, 4, 1, 0, 1, 1, 0, 4, 3, 1, 0, 0, 0, 1, 1, 0, 0, 0, 0, 0, 4, 0, 0, 1, 1, 0, 1, 0, 4, 3, 1, 1, 0, 1, 0, 1, 1, 0, 0, 1, 0, 0, 0, 0, 1, 1, 3, 1, 4, 0, 0, 1, 3, 1, 0, 4, 4, 0, 0, 1, 1, 1, 0, 0, 1, 1, 0, 0, 0, 0, 1, 4, 3, 1, 1, 0, 0, 0, 0, 1, 4, 0, 4, 0, 4, 1, 1, 1, 0, 0, 0, 3, 1, 0, 1, 4, 1, 0, 1, 0, 4, 4, 3, 4, 4, 0, 0, 3, 1, 0, 0, 1, 1, 4, 4, 0, 3, 1, 1, 3, 4, 0, 0, 1, 4, 4, 0, 4, 1, 0, 0, 0, 0, 1, 1, 4, 1, 0, 1, 3, 0, 0, 1, 0, 3, 0, 0, 4, 0, 0, 0, 0, 4, 0, 1, 0, 1, 0, 0, 0, 0, 0, 4, 4, 1, 0, 4, 1, 0, 1, 3, 1, 0, 0, 1, 3, 1, 1, 1, 0, 3, 1, 1, 0, 0, 1, 0, 0, 0, 0, 1, 1, 0, 4, 4, 1, 1, 0, 1, 1, 1, 1, 4, 1, 0, 0, 4, 4, 0, 0, 0, 3, 0, 0, 4, 0, 0, 0, 0, 1, 1, 1, 0, 0, 1, 1, 0, 4, 3, 1, 0, 0, 0, 1, 1, 0, 0, 0, 0, 3, 1, 3, 3, 4, 1, 4, 1, 1, 1, 1, 1, 1, 3, 0, 1, 0, 1, 0, 0, 0, 3, 4, 1, 0, 0, 0, 1, 0, 1, 0, 0, 0, 4, 0, 0, 0, 0, 0, 4, 3, 3, 0, 1, 0, 4, 0, 1, 1, 0, 3, 4, 3, 1, 0, 4, 1, 0, 4, 0, 1, 4, 1, 1, 1, 0, 1, 0, 0, 0, 1, 4, 1, 0, 0, 4, 0, 1, 0, 0, 1, 0, 1, 0, 1, 4, 1, 0, 1, 4, 0, 0, 4, 0, 1, 0, 3, 1, 3, 3, 1, 0, 3, 0, 0, 1, 0, 3, 0, 1, 1, 1, 4, 1, 1, 1, 0, 0, 4, 3, 0, 0, 4, 0, 0, 1, 0, 1, 0, 1, 4, 1, 0, 0, 0, 0, 4, 0, 3, 4, 0, 3, 1, 0, 0, 1, 0, 1, 0, 1, 3, 0, 0, 4, 4, 0, 1, 4, 0, 0, 1, 0, 1, 0, 4, 0, 1, 1, 0, 0, 1, 0, 0, 1, 0, 0, 0, 4, 1, 1, 1, 1, 0, 0, 3, 0, 0, 3, 0, 1, 0, 0, 0, 1, 1, 1, 0, 0, 0, 1, 0, 0, 3, 3, 1, 1, 0, 4, 1, 1, 1, 3, 1, 4, 3, 0, 3, 1, 0, 4, 3, 4, 1, 4, 0, 4, 0, 1, 1, 0, 0, 0, 0, 0, 0, 3, 1, 3, 1, 4, 0, 1, 3, 4, 0, 1, 0, 4, 1, 0, 1, 0, 4, 1, 4, 4, 0, 0, 0, 0, 4, 0, 3, 4, 1, 1, 3, 0, 1, 0, 0, 1, 1, 0, 1, 4, 0, 1, 4, 3, 0, 0, 0, 3, 1, 0, 4, 0, 0, 4, 0, 1, 4, 1, 1, 0, 0, 1, 1, 0, 0, 1, 1, 1, 0, 0, 1, 0, 1, 0, 4, 4, 0, 1, 0, 4, 0, 3, 1, 0, 0, 3, 3, 0, 0, 4, 4, 1, 1, 4, 1, 0, 1, 1, 1, 0, 4, 0, 4, 0, 1, 1, 4, 0, 0, 1, 0, 1, 0, 4, 1, 0, 0, 4, 4, 1, 1, 1, 3, 0, 0, 4, 0, 1, 4, 0, 1, 1, 0, 0, 1, 0, 0, 1, 0, 0, 0, 1, 4, 0, 0, 0, 0, 1, 0, 0, 3, 4, 4, 1, 0, 0, 0, 0, 0, 1, 1, 0, 0, 1, 4, 4, 0, 1, 1, 1, 3, 0, 0, 0, 0, 4, 1, 1, 0, 0, 3, 1, 3, 3, 1, 0, 0, 4, 0, 0, 0, 0, 0, 1, 0, 4, 4, 0, 1, 1, 4, 0, 1, 3, 1, 0, 0, 0, 4, 4, 4, 1, 3, 0, 0, 0, 4, 0, 1, 0, 3, 0, 0, 4, 4, 0, 1, 3, 0, 1, 0, 0, 1, 0, 1, 1, 0, 0, 0, 1, 0, 1, 0, 1, 4, 0, 1, 0, 0, 1, 0, 1, 1, 1, 1, 0, 4, 4, 1, 4, 1, 0, 4, 1, 1, 0, 1, 3, 1, 0, 4, 0, 1, 0, 0, 1, 3, 1, 1, 3, 0, 1, 0, 1, 1, 0, 0, 0, 0, 0, 0, 1, 0, 0, 3, 0, 0, 1, 1, 3, 1, 1, 1, 0, 1, 0, 0, 0, 0, 1, 1, 0, 4, 3, 0, 0, 0, 0, 0, 3, 1, 1, 4, 0, 0, 1, 0, 1, 0, 1, 0, 0, 0, 0, 0, 1, 0, 0, 3, 1, 1, 0, 0, 0, 1, 4, 3, 4, 0, 0, 1, 4, 1, 0, 1, 0, 1, 0, 4, 3, 0, 1, 0, 0, 4, 0, 1, 4, 0, 3, 0, 4, 1, 1, 4, 1, 0, 1, 0, 3, 0, 0, 0, 0, 3, 3, 0, 1, 0, 4, 0, 1, 4, 3, 1, 0, 1, 3, 4, 1, 1, 4, 1, 3, 0, 1, 1, 4, 0, 4, 1, 1, 4, 3, 3, 3, 1, 1, 1, 0, 0, 0, 0, 3, 1, 0, 0, 1, 0, 1, 0, 0, 3, 1, 0, 1, 1, 1, 1, 1, 1, 4, 0, 4, 0, 0, 4, 0, 1, 0, 0, 0, 0, 1, 1, 0, 1, 0, 1, 0, 3, 0, 4, 1, 0, 1, 4, 3, 1, 0, 4, 4, 0, 1, 4, 3, 0, 0, 1, 0, 3, 4, 4, 1, 0, 4, 0, 0, 0, 0, 0, 0, 0, 0, 4, 0, 0, 1, 0, 4, 0, 0, 0, 1, 0, 0, 3, 3, 0, 3, 0, 1, 0, 4, 0, 1, 1, 1, 0, 1, 0, 0, 3, 1, 1, 3, 0, 0, 0, 0, 1, 1, 0, 3, 0, 0, 0, 1, 1, 0, 0, 4, 1, 0, 3, 0, 0, 1, 1, 0, 3, 1, 0, 1, 0, 0, 3, 0, 1, 3, 1, 1, 3, 1, 4, 0, 0, 0, 0, 4, 4, 1, 0, 0, 1, 0, 0, 0, 0, 0, 1, 1, 3, 4, 1, 3, 1, 0, 1, 1, 0, 1, 0, 0, 0, 0, 0, 0, 1, 3, 0, 1, 0, 0, 1, 1, 1, 3, 1, 1, 1, 0, 1, 1, 0, 1, 1, 1, 4, 0, 0, 4, 4, 0, 0, 4, 0, 0, 0, 0, 4, 0, 1, 1, 3, 1, 1, 1, 3, 0, 0, 0, 0, 4, 3, 1, 0, 0, 4, 1, 0, 0, 0, 1, 0, 4, 1, 0, 1, 0, 0, 1, 0, 3, 0, 0, 1, 4, 1, 1, 1, 1, 4, 3, 4, 0, 1, 1, 0, 0, 3, 0, 0, 0, 3, 1, 0, 1, 0, 1, 4, 1, 0, 1, 0, 1, 0, 0, 0, 0, 1, 0, 1, 4, 1, 0, 1, 1, 0, 4, 1, 0, 1, 0, 1, 0, 0, 0, 0, 1, 1, 3, 0, 4, 1, 1, 4, 0, 0, 1, 0, 0, 0, 0, 4, 0, 0, 0, 0, 0, 1, 4, 0, 0, 0, 1, 1, 1, 0, 1, 0, 1, 0, 4, 0, 1, 1, 0, 0, 1, 0, 1, 1, 3, 0, 1, 4, 0, 3, 0, 3, 1, 3, 0, 0, 0, 0, 3, 0, 3, 4, 0, 4, 1, 0, 4, 1, 1, 1, 1, 3, 0, 0, 0, 0, 0, 0, 0, 1, 0, 0, 0, 0, 4, 3, 4, 1, 1, 1, 3, 0, 1, 1, 0, 0, 4, 3, 1, 4, 0, 0, 3, 1, 3, 4, 0, 1, 1, 0, 0, 1, 1, 0, 4, 1, 1, 0, 4, 0, 0, 0, 1, 0, 1, 1, 0, 3, 1, 1, 1, 4, 4, 4, 0, 1, 4, 0, 3, 1, 0, 0, 3, 4, 0, 1, 1, 0, 0, 0, 0, 1, 1, 1, 4, 0, 0, 3, 1, 0, 3, 0, 1, 0, 0, 0, 0, 0, 0, 0, 1, 1, 0, 4, 3, 0, 1, 1, 1, 0, 1, 1, 0, 0, 1, 0, 0, 3, 1, 1, 0, 1, 1, 0, 0, 0, 0, 4, 0, 0, 1, 3, 4, 1, 0, 1, 1, 1, 0, 1, 1, 0, 0, 3, 3, 0, 1, 0, 0, 1, 4, 1, 1, 1, 0, 1, 0, 0, 0, 3, 1, 0, 0, 4, 4, 1, 1, 0, 0, 0, 0, 3, 1, 1, 0, 0, 0, 1, 1, 0, 0, 1, 0, 0, 3, 0, 1, 1, 0, 1, 0, 0, 0, 4, 3, 4, 4, 4, 1, 0, 0, 0, 3, 0, 4, 0, 0, 3, 1, 1, 1, 3, 0, 4, 1, 4, 3, 0, 4, 0, 0, 0, 0, 1, 1, 0, 0, 1, 1, 4, 4, 0, 0, 1, 4, 1, 3, 0, 0, 0, 1, 1, 1, 3, 0, 0, 0, 1, 1, 0, 0, 4, 0, 0, 0, 1, 3, 0, 1, 0, 4, 3, 1, 4, 4, 0, 0, 4, 4, 1, 0, 3, 0, 0, 0, 0, 0, 0, 4, 0, 0, 1, 3, 0, 0, 1, 0, 1, 0, 0, 0, 3, 1, 0, 4, 0, 1, 0, 4, 0, 0, 0, 0, 1, 4, 0, 1, 4, 1, 0, 4, 1, 0, 4, 3, 0, 1, 0, 4, 0, 0, 4, 1, 0, 3, 1, 0, 1, 0, 4, 0, 1, 0, 1, 0, 0, 4, 4, 0, 1, 4, 1, 0, 1, 1, 1, 4, 3, 0, 1, 0, 1, 0, 0, 1, 1, 3, 0, 0, 4, 1, 3, 1, 1, 0, 1, 0, 4, 1, 1, 1, 0, 4, 4, 1, 0, 0, 3, 1, 1, 0, 3, 0, 0, 0, 4, 0, 0, 1, 3, 1, 1, 4, 0, 1, 1, 3, 0, 3, 1, 0, 1, 0, 1, 1, 0, 4, 1, 1, 1, 4, 4, 0, 0, 1, 0, 0, 1, 0, 1, 1, 1, 0, 0, 0, 0, 0, 3, 0, 1, 0, 1, 1, 0, 1, 0, 4, 4, 0, 3, 0, 0, 0, 4, 3, 3, 0, 1, 1, 3, 4, 1, 1, 1, 4, 1, 0, 1, 0, 1, 1, 1, 1, 0, 0, 0, 0, 1, 1, 0, 0, 0, 0, 4, 1, 0, 1, 0, 1, 0, 0, 4, 4, 1, 0, 3, 1, 1, 4, 0, 4, 4, 1, 3, 0, 0, 0, 3, 0, 4, 4, 1, 0, 4, 0, 0, 1, 3, 1, 1, 0, 0, 1, 1, 0, 0, 4, 1, 1, 3, 1, 0, 1, 0, 1, 0, 1, 1, 0, 1, 0, 1, 0, 0, 1, 0, 0, 3, 1, 0, 0, 0, 1, 0, 0, 1, 0, 4, 3, 0, 0, 1, 0, 0, 0, 0, 1, 0, 0, 0, 0, 0, 1, 0, 0, 0, 0, 0, 1, 0, 0, 0, 0, 0, 4, 0, 0, 1, 0, 4, 0, 3, 0, 0, 0, 0, 0, 0, 0, 0, 0, 3, 1, 0, 1, 0, 1, 3, 4, 0, 0, 1, 3, 0, 1, 1, 1, 4, 0, 0, 0, 1, 1, 1, 0, 4, 4, 3, 3, 0, 1, 3, 3, 0, 1, 1, 0, 4, 0, 0, 4, 1, 0, 1, 0, 0, 0, 0, 1, 1, 0, 1, 4, 0, 0, 3, 1, 0, 0, 0, 4, 4, 4, 0, 0, 0, 3, 3, 0, 1, 4, 3, 1, 1, 0, 4, 0, 0, 0, 4, 0, 0, 3, 1, 0, 1, 1, 0, 3, 0, 1, 0, 0, 0, 1, 1, 0, 0, 0, 4, 0, 0, 0, 4, 0, 4, 0, 3, 1, 4, 1, 1, 0, 0, 4, 0, 0, 0, 4, 0, 1, 0, 1, 0, 0, 3, 1, 1, 0, 4, 3, 3, 0, 3, 3, 1, 0, 3, 0, 1, 1, 0, 1, 1, 1, 0, 4, 0, 1, 0, 0, 0, 3, 0, 0, 1, 0, 3, 0, 1, 1, 1, 0, 3, 1, 4, 1, 0, 1, 4, 4, 1, 0, 4, 0, 4, 0, 4, 0, 1, 1, 0, 0, 0, 4, 0, 0, 1, 4, 0, 4, 3, 1, 1, 0, 1, 1, 1, 0, 0, 0, 3, 1, 0, 0, 0, 0, 0, 4, 4, 1, 1, 0, 1, 3, 1, 0, 0, 4, 3, 4, 0, 0, 1, 1, 4, 1, 1, 0, 4, 1, 4, 0, 4, 1, 0, 0, 0, 0, 0, 1, 3, 1, 1, 3, 3, 1, 0, 1, 1, 1, 1, 0, 4, 3, 1, 4, 0, 0, 0, 4, 0, 3, 1, 0, 0, 0, 0, 0, 0, 3, 0, 1, 0, 0, 4, 0, 0, 3, 1, 0, 1, 0, 3, 1, 0, 0, 3, 0, 1, 3, 0, 0, 1, 0, 1, 0, 0, 0, 3, 0, 1, 0, 0, 0, 4, 0, 1, 4, 1, 0, 1, 0, 0, 4, 0, 4, 4, 1, 3, 3, 1, 4, 4, 0, 4, 1, 1, 1, 3, 0, 1, 1, 0, 4, 1, 4, 3, 1, 1, 0, 0, 4, 0, 0, 3, 1, 1, 0, 0, 0, 0, 4, 0, 0, 1, 0, 3, 0, 3, 0, 1, 1, 0, 4, 0, 0, 1, 3, 1, 4, 0, 1, 0, 1, 0, 1, 1, 3, 1, 1, 1, 3, 3, 1, 3, 1, 0, 1, 1, 0, 0, 4, 1, 0, 0, 1, 0, 0, 3, 0, 1, 0, 1, 0, 1, 1, 1, 0, 1, 1, 1, 4, 1, 3, 1, 1, 3, 4, 0, 0, 1, 4, 0, 1, 0, 4, 3, 1, 0, 3, 1, 0, 1, 3, 4, 0, 0, 4, 0, 0, 0, 3, 0, 0, 3, 1, 1, 3, 0, 0, 4, 0, 1, 0, 3, 3, 1, 3, 0, 1, 1, 0, 1, 0, 1, 4, 3, 1, 1, 0, 1, 1, 0, 1, 0, 4, 0, 0, 0, 4, 1, 0, 1, 1, 1, 4, 1, 1, 1, 0, 0, 0, 1, 1, 0, 3, 0, 0, 0, 0, 0, 1, 4, 3, 3, 0, 0, 0, 0, 0, 0, 0, 1, 0, 3, 0, 0, 4, 4, 0, 0, 0, 0, 0, 4, 0, 4, 0, 0, 0, 0, 3, 0, 3, 0, 3, 3, 0, 0, 0, 4, 0, 0, 0, 1, 3, 0, 0, 0, 0, 1, 0, 1, 0, 3, 4, 0, 0, 3, 0, 0, 1, 4, 1, 0, 1, 0, 0, 0, 0, 0, 0, 0, 0, 1, 1, 4, 0, 0, 3, 0, 3, 1, 0, 0, 3, 1, 0, 4, 1, 1, 0, 4, 0, 0, 0, 4, 0, 1, 3, 0, 0, 4, 4, 4, 0, 4, 0, 1, 3, 4, 0, 1, 0, 0, 1, 3, 0, 4, 0, 1, 0, 1, 1, 3, 1, 0, 1, 0, 1, 0, 3, 0, 1, 1, 4, 0, 0, 1, 4, 0, 0, 1, 1, 3, 0, 0, 3, 1, 0, 0, 4, 0, 0, 1, 1, 0, 0, 0, 0, 0, 1, 1, 4, 1, 1, 4, 4, 4, 1, 1, 0, 0, 0, 1, 0, 0, 1, 1, 0, 1, 0, 0, 4, 1, 0, 3, 3, 0, 0, 0, 0, 0, 1, 0, 1, 0, 1, 4, 1, 0, 3, 4, 4, 1, 1, 0, 0, 0, 1, 0, 0, 1, 0, 0, 0, 0, 0, 0, 1, 4, 0, 1, 0, 3, 0, 1, 0, 1, 0, 1, 0, 4, 1, 0, 1, 0, 3, 1, 4, 1, 1, 4, 4, 1, 0, 0, 0, 3, 0, 0, 0, 0, 3, 0, 0, 1, 1, 1, 4, 0, 0, 4, 1, 0, 0, 0, 1, 0, 0, 0, 4, 4, 1, 3, 1, 1, 1, 0, 0, 4, 1, 0, 0, 1, 1, 4, 0, 1, 0, 4, 0, 1, 1, 1, 0, 0, 0, 1, 3, 0, 4, 0, 3, 0, 3, 0, 1, 0, 4, 0, 0, 0, 3, 0, 0, 0, 1, 0, 0, 1, 1, 1, 1, 0, 0, 4, 0, 1, 4, 4, 1, 1, 0, 0, 0, 0, 0, 1, 1, 3, 0, 0, 1, 0, 4, 0, 0, 1, 0, 4, 1, 0, 1, 1, 3, 0, 0, 0, 4, 1, 4, 1, 4, 4, 0, 0, 1, 0, 0, 1, 1, 0, 1, 0, 1, 1, 0, 1, 4, 1, 0, 3, 1, 1, 1, 1, 0, 1, 1, 4, 3, 1, 0, 0, 0, 4, 1, 1, 3, 1, 0, 0, 0, 1, 0, 4, 0, 1, 1, 0, 3, 3, 1, 0, 3, 1, 1, 4, 0, 1, 0, 1, 1, 0, 3, 0, 1, 4, 0, 0, 0, 1, 4, 3, 4, 0, 0, 4, 0, 1, 0, 1, 0, 1, 0, 1, 0, 0, 1, 0, 0, 3, 3, 1, 0, 1, 4, 0, 3, 0, 3, 1, 0, 3, 0, 0, 1, 0, 1, 1, 4, 4, 0, 1, 0, 3, 3, 4, 0, 0, 1, 4, 0, 4, 0, 0, 1, 0, 1, 1, 0, 4, 0, 1, 0, 0, 0, 4, 1, 1, 3, 0, 0, 0, 0, 0, 4, 1, 4, 0, 1, 0, 1, 1, 3, 0, 0, 4, 1, 0, 1, 1, 1, 0, 3, 3, 1, 0, 0, 0, 1, 0, 0, 0, 1, 0, 0, 1, 4, 0, 1, 4, 0, 0, 0, 1, 3, 0, 1, 1, 1, 3, 0, 0, 1, 1, 3, 0, 4, 1, 4, 0, 1, 1, 0, 0, 3, 4, 1, 0, 0, 4, 0, 4, 1, 0, 0, 0, 3, 4, 1, 3, 4, 1, 1, 3, 4, 1, 0, 0, 0, 0, 1, 0, 1, 1, 0, 0, 0, 0, 0, 0, 4, 1, 1, 0, 0, 0, 1, 0, 1, 1, 0, 4, 3, 0, 0, 0, 0, 1, 1, 3, 0, 1, 0, 1, 0, 4, 1, 1, 4, 0, 1, 0, 3, 4, 3, 1, 0, 4, 0, 0, 3, 4, 1, 1, 0, 4, 1, 3, 4, 4, 0, 0, 0, 0, 0, 0, 0, 0, 0, 3, 0, 1, 4, 1, 0, 4, 0, 1, 1, 4, 3, 3, 3, 0, 0, 1, 1, 0, 1, 0, 3, 1, 0, 1, 4, 1, 1, 0, 4, 4, 1, 0, 0, 0, 4, 0, 4, 0, 0, 0, 0, 0, 1, 0, 1, 0, 0, 4, 0, 0, 0, 1, 1, 0, 0, 0, 0, 1, 1, 1, 3, 0, 1, 1, 0, 3, 0, 0, 1, 4, 1, 1, 0, 0, 0, 0, 1, 0, 0, 0, 0, 0, 0, 0, 0, 4, 4, 0, 0, 3, 1, 1, 0, 0, 4, 0, 1, 0, 0, 3, 0, 0, 4, 0, 0, 4, 1, 4, 0, 0, 1, 1, 1, 3, 0, 1, 1, 0, 0, 1, 0, 1, 0, 1, 1, 0, 1, 4, 1, 0, 0, 0, 1, 0, 0, 4, 1, 1, 0, 0, 4, 1, 1, 4, 4, 0, 1, 1, 0, 1, 0, 1, 4, 0, 0, 0, 0, 1, 4, 1, 1, 1, 0, 0, 0, 0, 0, 0, 0, 0, 0, 0, 0, 0, 0, 4, 4, 1, 0, 0, 3, 0, 1, 0, 0, 1, 4, 0, 0, 0, 0, 1, 1, 1, 3, 1, 0, 1, 0, 0, 0, 1, 0, 4, 1, 0, 0, 0, 0, 4, 1, 0, 1, 1, 0, 1, 0, 1, 0, 1, 0, 1, 0, 0, 4, 1, 3, 1, 4, 0, 0, 4, 4, 0, 0, 1, 1, 1, 3, 4, 1, 0, 1, 4, 1, 0, 3, 4, 0, 4, 0, 1, 0, 0, 0, 0, 0, 0, 1, 0, 4, 0, 1, 1, 4, 3, 0, 4, 1, 4, 1, 0, 0, 4, 0, 4, 1, 0, 0, 1, 0, 1, 0, 0, 4, 1, 0, 0, 4, 1, 0, 3, 0, 0, 0, 0, 1, 0, 1, 0, 1, 1, 4, 3, 0, 3, 1, 1, 0, 4, 0, 3, 0, 0, 4, 1, 0, 0, 0, 0, 0, 0, 3, 3, 0, 1, 0, 0, 3, 3, 1, 3, 0, 0, 1, 1, 0, 1, 1, 4, 0, 4, 0, 3, 4, 0, 1, 0, 1, 0, 0, 1, 0, 0, 1, 4, 1, 1, 1, 0, 4, 0, 0, 1, 0, 4, 4, 1, 1, 4, 3, 0, 0, 3, 0, 1, 3, 1, 0, 1, 0, 4, 1, 4, 3, 1, 3, 0, 1, 0, 4, 0, 0, 0, 1, 0, 4, 0, 1, 1, 0, 1, 1, 0, 4, 0, 3, 1, 0, 0, 0, 3, 0, 0, 1, 1, 0, 0, 3, 1, 1, 1, 0, 0, 1, 1, 3, 0, 1, 0, 4, 1, 0, 3, 1, 0, 0, 1, 0, 1, 4, 4, 0, 1, 4, 1, 0, 0, 0, 4, 3, 0, 1, 1, 0, 0, 0, 1, 1, 4, 1, 0, 4, 3, 1, 0, 4, 0, 1, 4, 0, 3, 1, 4, 1, 1, 1, 0, 1, 0, 0, 4, 0, 1, 0, 1, 1, 0, 3, 1, 1, 0, 4, 0, 0, 0, 0, 0, 1, 4, 1, 0, 0, 3, 0, 1, 0, 4, 0, 0, 0, 0, 0, 0, 0, 4, 0, 0, 4, 1, 0, 3, 1, 0, 1, 0, 4, 3, 1, 1, 1, 0, 1, 1, 0, 1, 1, 0, 1, 1, 3, 1, 1, 1, 1, 0, 0, 0, 0, 4, 1, 1, 1, 0, 3, 0, 1, 0, 0, 0, 0, 0, 1, 4, 1, 0, 1, 3, 0, 0, 0, 1, 4, 4, 1, 1, 0, 0, 4, 0, 0, 0, 0, 0, 0, 4, 0, 4, 0, 0, 0, 1, 0, 1, 0, 1, 0, 3, 0, 4, 0, 0, 4, 0, 0, 1, 1, 1, 0, 4, 0, 3, 0, 1, 0, 3, 3, 3, 0, 0, 1, 0, 1, 3, 0, 1, 1, 0, 1, 0, 3, 4, 1, 1, 0, 0, 1, 1, 0, 0, 4, 1, 4, 3, 0, 1, 3, 1, 1, 1, 0, 0, 0, 3, 3, 0, 1, 0, 0, 0, 0, 4, 0, 1, 1, 1, 3, 1, 1, 0, 3, 0, 0, 1, 0, 3, 1, 1, 0, 1, 4, 0, 0, 4, 0, 0, 3, 1, 0, 3, 1, 1, 0, 1, 0, 1, 4, 0, 3, 0, 1, 0, 0, 3, 0, 3, 4, 4, 0, 1, 0, 0, 0, 0, 0, 0, 0, 1, 3, 0, 0, 1, 4, 0, 4, 4, 0, 0, 4, 0, 0, 1, 3, 0, 0, 0, 1, 0, 3, 0, 4, 0, 4, 1, 4, 3, 3, 0, 0, 0, 1, 1, 1, 0, 0, 0, 0, 4, 1, 4, 1, 0, 0, 0, 0, 0, 4, 0, 1, 1, 0, 4, 1, 0, 0, 0, 0, 0, 4, 4, 0, 0, 0, 0, 1, 0, 3, 1, 0, 0, 3, 0, 0, 0, 0, 3, 1, 4, 0, 1, 1, 0, 1, 3, 4, 3, 1, 0, 4, 1, 0, 0, 0, 0, 1, 4, 1, 1, 1, 3, 1, 0, 4, 0, 3, 1, 0, 1, 3, 0, 4, 3, 1, 4, 0, 0, 0, 1, 4, 3, 4, 3, 1, 0, 0, 4, 0, 4, 0, 0, 1, 0, 0, 0, 3, 0, 1, 0, 1, 3, 1, 0, 0, 4, 0, 1, 1, 4, 1, 0, 1, 4, 0, 0, 0, 0, 1, 0, 1, 1, 0, 0, 0, 1, 4, 4, 0, 0, 1, 0, 1, 0, 0, 0, 3, 1, 1, 4, 3, 1, 1, 3, 1, 0, 1, 0, 1, 0, 0, 0, 3, 1, 4, 1, 1, 4, 0, 3, 0, 1, 1, 0, 3, 3, 0, 0, 1, 0, 0, 0, 1, 1, 4, 0, 0, 0, 4, 3, 0, 4, 4, 1, 0, 1, 3, 0, 0, 0, 0, 0, 0, 1, 0, 1, 4, 0, 0, 0, 3, 4, 1, 1, 0, 0, 0, 1, 1, 0, 4, 0, 4, 0, 0, 1, 0, 0, 0, 1, 0, 1, 1, 1, 4, 0, 3, 1, 0, 0, 4, 0, 1, 1, 0, 3, 1, 1, 1, 4, 1, 1, 0, 1, 0, 0, 1, 0, 0, 0, 4, 0, 4, 0, 1, 0, 1, 0, 0, 0, 0, 0, 3, 4, 3, 3, 0, 0, 0, 0, 1, 3, 0, 0, 0, 1, 0, 0, 1, 0, 3, 4, 0, 0, 4, 0, 0, 1, 0, 0, 4, 4, 3, 4, 0, 4, 0, 0, 0, 0, 0, 4, 4, 0, 0, 3, 0, 0, 0, 0, 1, 3, 0, 0, 0, 0, 0, 0, 4, 1, 3, 0, 0, 1, 0, 0, 1, 0, 3, 0, 0, 0, 3, 0, 1, 0, 3, 3, 0, 4, 0, 1, 0, 4, 1, 3, 0, 1, 4, 0, 0, 0, 1, 1, 0, 3, 0, 1, 1, 3, 1, 0, 1, 3, 1, 0, 0, 0, 0, 0, 4, 0, 0, 1, 3, 0, 1, 4, 1, 4, 4, 3, 1, 4, 0, 0, 1, 0, 1, 0, 1, 3, 0, 1, 1, 0, 0, 0, 0, 0, 1, 0, 1, 1, 1, 3, 1, 1, 0, 0, 0, 4, 0, 3, 0, 3, 0, 1, 0, 4, 0, 1, 1, 0, 0, 0, 0, 0, 4, 1, 0, 0, 1, 1, 0, 1, 1, 1, 0, 0, 1, 1, 0, 0, 0, 1, 1, 1, 0, 4, 0, 0, 1, 1, 0, 0, 1, 0, 0, 0, 0, 4, 3, 0, 0, 0, 0, 1, 0, 0, 1, 4, 4, 0, 0, 0, 1, 1, 1, 0, 0, 4, 1, 0, 1, 1, 1, 0, 0, 1, 0, 1, 1, 1, 3, 1, 0, 0, 3, 0, 0, 3, 1, 1, 0, 0, 0, 3, 0, 0, 4, 0, 0, 4, 1, 1, 1, 0, 0, 1, 1, 2, 1, 0, 0, 3, 0, 0, 0, 4, 0, 0, 0, 4, 4, 1, 3, 0, 1, 0, 1, 4, 1, 1, 1, 3, 0, 3, 1, 4, 0, 1, 1, 0, 3, 0, 4, 1, 0, 4, 1, 1, 0, 1, 0, 0, 0, 4, 3, 3, 1, 0, 3, 1, 0, 3, 1, 4, 0, 0, 0, 0, 0, 0, 1, 4, 1, 1, 0, 0, 3, 1, 0, 0, 1, 4, 1, 0, 0, 0, 3, 1, 1, 0, 1, 1, 1, 1, 1, 0, 1, 3, 0, 1, 1, 0, 3, 3, 0, 1, 0, 0, 4, 1, 1, 0, 4, 0, 4, 0, 1, 3, 0, 0, 4, 1, 4, 1, 4, 0, 0, 4, 1, 0, 0, 0, 1, 1, 4, 1, 4, 3, 0, 0, 0, 0, 0, 3, 0, 1, 4, 4, 0, 0, 3, 0, 4, 4, 4, 3, 1, 0, 1, 1, 0, 0, 1, 1, 1, 4, 1, 0, 0, 3, 3, 3, 1, 0, 1, 4, 0, 0, 0, 1, 4, 4, 1, 3, 1, 0, 1, 1, 1, 0, 0, 1, 1, 1, 0, 3, 1, 0, 0, 4, 3, 1, 1, 0, 4, 0, 1, 0, 4, 1, 0, 1, 1, 4, 0, 0, 4, 1, 1, 4, 0, 0, 0, 1, 4, 0, 4, 0, 3, 3, 1, 0, 0, 1, 3, 3, 0, 4, 1, 1, 4, 1, 0, 1, 0, 4, 4, 0, 0, 3, 1, 0, 4, 4, 3, 3, 0, 1, 0, 0, 0, 1, 3, 0, 4, 0, 1, 1, 1, 1, 0, 4, 1, 0, 1, 0, 1, 3, 3, 0, 4, 3, 3, 1, 0, 1, 0, 0, 0, 4, 0, 0, 1, 1, 0, 0, 1, 0, 0, 1, 1, 3, 0, 0, 0, 0, 3, 0, 1, 0, 0, 1, 0, 0, 0, 0, 1, 0, 0, 0, 0, 0, 4, 1, 1, 0, 1, 0, 4, 1, 0, 0, 1, 0, 0, 0, 0, 4, 4, 0, 3, 1, 0, 0, 0, 0, 0, 3, 0, 0, 1, 4, 0, 1, 0, 3, 0, 0, 0, 1, 3, 1, 0, 3, 0, 0, 0, 0, 0, 1, 1, 3, 1, 3, 4, 1, 3, 3, 0, 1, 1, 0, 4, 1, 0, 1, 0, 0, 0, 0, 0, 1, 0, 3, 3, 0, 0, 4, 0, 1, 0, 1, 1, 1, 4, 1, 1, 0, 1, 0, 1, 0, 4, 4, 1, 1, 1, 0, 3, 0, 0, 0, 4, 1, 0, 0, 1, 1, 1, 0, 1, 0, 0, 0, 3, 0, 3, 0, 1, 0, 0, 0, 3, 4, 0, 0, 3, 1, 4, 1, 1, 0, 0, 0, 0, 0, 1, 4, 0, 0, 4, 0, 4, 4, 0, 3, 0, 0, 0, 0, 3, 0, 3, 0, 0, 3, 3, 0, 1, 0, 3, 0, 0, 0, 0, 0, 1, 0, 0, 1, 0, 3, 0, 1, 0, 0, 4, 1, 0, 1, 3, 1, 0, 1, 4, 0, 1, 0, 1, 0, 0, 3, 0, 3, 3, 1, 1, 3, 3, 1, 1, 0, 0, 0, 0, 0, 0, 3, 4, 4, 0, 4, 4, 1, 3, 1, 1, 4, 0, 0, 1, 1, 0, 0, 1, 4, 1, 1, 3, 0, 1, 0, 1, 3, 0, 1, 4, 0, 1, 0, 1, 0, 0, 0, 0, 1, 1, 0, 1, 0, 0, 1, 1, 0, 1, 4, 0, 1, 0, 1, 0, 1, 0, 0, 0, 0, 1, 1, 0, 0, 1, 0, 0, 0, 0, 0, 4, 0, 1, 0, 1, 0, 0, 0, 3, 1, 0, 3, 0, 1, 0, 0, 1, 0, 1, 1, 0, 1, 3, 0, 4, 1, 0, 0, 4, 4, 0, 1, 1, 1, 1, 0, 0, 3, 3, 4, 4, 1, 0, 0, 0, 1, 0, 4, 1, 3, 0, 4, 1, 1, 3, 4, 1, 0, 0, 1, 0, 0, 1, 4, 3, 1, 3, 0, 1, 4, 1, 4, 4, 3, 1, 0, 4, 0, 4, 0, 0, 1, 4, 0, 3, 0, 0, 1, 4, 1, 0, 0, 1, 1, 3, 0, 1, 0, 3, 3, 0, 1, 4, 0, 3, 0, 4, 0, 0, 1, 0, 4, 1, 0, 1, 1, 1, 0, 1, 0, 0, 3, 1, 0, 0, 0, 0, 0, 0, 1, 1, 4, 4, 4, 4, 1, 3, 1, 0, 0, 3, 1, 1, 1, 1, 1, 4, 1, 3, 1, 1, 1, 1, 1, 0, 0, 1, 3, 1, 0, 1, 1, 1, 1, 4, 0, 0, 0, 1, 0, 1, 0, 0, 1, 1, 0, 4, 0, 0, 0, 0, 0, 1, 0, 0, 4, 0, 3, 0, 3, 4, 1, 1, 1, 0, 0, 1, 4, 0, 0, 0, 1, 1, 0, 3, 3, 1, 0, 0, 3, 0, 0, 0, 1, 0, 1, 0, 1, 4, 4, 1, 1, 1, 0, 4, 4, 4, 0, 4, 1, 0, 3, 1, 0, 0, 0, 1, 0, 0, 3, 1, 0, 0, 3, 1, 1, 0, 0, 4, 3, 3, 3, 3, 0, 4, 1, 0, 4, 0, 0, 0, 0, 4, 0, 1, 1, 0, 0, 1, 4, 4, 3, 0, 1, 0, 1, 4, 1, 3, 1, 0, 1, 1, 0, 1, 0, 1, 4, 0, 0, 0, 0, 4, 4, 1, 4, 0, 3, 0, 0, 1, 4, 0, 1, 4, 0, 1, 1, 1, 0, 0, 0, 0, 0, 4, 1, 0, 0, 0, 4, 1, 4, 4, 4, 1, 0, 1, 0, 0, 1, 1, 0, 1, 0, 0, 0, 4, 0, 4, 4, 3, 1, 0, 1, 0, 3, 4, 3, 0, 3, 0, 1, 0, 4, 0, 4, 0, 0, 1, 1, 0, 0, 3, 0, 0, 3, 1, 0, 4, 0, 0, 0, 0, 0, 3, 1, 1, 0, 3, 0, 0, 1, 0, 0, 0, 1, 1, 1, 1, 0, 0, 0, 1, 0, 1, 4, 1, 0, 0, 3, 1, 1, 1, 0, 0, 0, 1, 1, 3, 1, 4, 0, 4, 0, 0, 3, 1, 0, 0, 0, 0, 4, 1, 1, 1, 0, 1, 1, 3, 0, 0, 1, 0, 0, 0, 1, 0, 0, 0, 4, 1, 0, 3, 0, 0, 4, 1, 1, 1, 0, 1, 1, 4, 0, 3, 0, 1, 1, 0, 1, 1, 4, 0, 3, 1, 1, 1, 3, 0, 0, 0, 4, 0, 3, 0, 1, 0, 3, 1, 4, 0, 0, 4, 0, 1, 1, 3, 1, 1, 0, 0, 1, 1, 0, 4, 1, 1, 0, 4, 0, 4, 4, 3, 1, 1, 0, 0, 0, 1, 1, 3, 3, 1, 0, 4, 0, 0, 0, 1, 0, 0, 1, 0, 1, 0, 3, 0, 1, 0, 0, 0, 0, 1, 4, 1, 3, 0, 4, 4, 0, 0, 4, 0, 0, 1, 1, 1, 0, 3, 4, 0, 0, 4, 0, 0, 3, 3, 4, 0, 0, 0, 1, 4, 4, 0, 3, 0, 0, 1, 4, 1, 3, 0, 0, 0, 0, 4, 0, 1, 3, 0, 1, 0, 1, 1, 0, 3, 1, 0, 3, 0, 4, 0, 1, 1, 1, 3, 1, 1, 1, 1, 1, 1, 0, 0, 1, 0, 4, 4, 0, 4, 1, 0, 0, 4, 0, 1, 1, 1, 3, 1, 0, 0, 1, 3, 1, 0, 0, 3, 0, 1, 4, 4, 4, 4, 1, 3, 4, 1, 0, 1, 1, 3, 1, 4, 0, 0, 0, 0, 1, 4, 0, 0, 1, 4, 0, 4, 1, 0, 0, 0, 1, 0, 1, 4, 4, 0, 0, 4, 1, 3, 0, 0, 0, 0, 1, 1, 0, 4, 4, 0, 0, 1, 1, 0, 0, 0, 0, 0, 0, 0, 0, 4, 0, 1, 0, 0, 0, 1, 1, 0, 4, 3, 0, 1, 1, 3, 3, 0, 0, 3, 0, 1, 4, 3, 1, 0, 0, 1, 0, 0, 1, 4, 1, 0, 0, 0, 0, 0, 4, 0, 0, 1, 1, 0, 0, 0, 0, 1, 4, 0, 1, 1, 3, 3, 1, 1, 0, 0, 1, 1, 0, 1, 0, 0, 1, 1, 3, 0, 1, 0, 3, 4, 1, 1, 1, 0, 3, 3, 0, 1, 1, 1, 1, 0, 1, 0, 1, 1, 0, 4, 0, 0, 1, 1, 4, 1, 0, 1, 1, 1, 1, 0, 0, 3, 1, 1, 0, 1, 0, 4, 3, 1, 4, 0, 3, 0, 0, 0, 1, 1, 0, 0, 1, 1, 0, 0, 1, 1, 1, 1, 0, 0, 1, 4, 0, 0, 3, 0, 4, 0, 4, 0, 4, 0, 3, 0, 4, 0, 1, 1, 4, 4, 0, 0, 0, 0, 0, 1, 1, 0, 1, 4, 1, 3, 0, 1, 3, 0, 1, 3, 1, 3, 1, 0, 1, 0, 0, 1, 3, 0, 0, 3, 3, 0, 0, 4, 0, 0, 0, 0, 0, 0, 1, 0, 0, 0, 1, 0, 4, 1, 0, 0, 4, 0, 4, 4, 0, 1, 1, 4, 4, 1, 3, 4, 0, 1, 1, 0, 1, 1, 0, 0, 1, 0, 0, 1, 4, 0, 0, 1, 3, 0, 0, 0, 1, 0, 3, 3, 0, 1, 4, 0, 1, 4, 4, 1, 1, 1, 4, 4, 1, 0, 0, 1, 1, 0, 0, 1, 4, 1, 0, 3, 1, 1, 0, 0, 4, 0, 4, 0, 3, 0, 4, 0, 1, 0, 1, 3, 1, 0, 3, 1, 0, 1, 1, 0, 3, 0, 0, 4, 4, 1, 1, 0, 1, 3, 0, 0, 0, 1, 4, 1, 0, 0, 0, 0, 0, 0, 0, 4, 1, 3, 3, 0, 3, 0, 1, 4, 0, 1, 1, 1, 0, 4, 1, 0, 0, 0, 1, 1, 1, 0, 3, 1, 0, 3, 0, 4, 3, 0, 0, 0, 0, 4, 0, 0, 1, 0, 0, 1, 1, 0, 0, 0, 4, 1, 0, 0, 4, 1, 0, 4, 0, 0, 1, 1, 0, 4, 4, 1, 0, 0, 0, 0, 4, 1, 1, 1, 0, 1, 1, 0, 1, 1, 1, 1, 1, 4, 1, 3, 0, 0, 1, 1, 1, 4, 0, 3, 0, 4, 1, 1, 1, 0, 1, 1, 1, 1, 1, 0, 0, 0, 1, 3, 1, 0, 0, 0, 0, 4, 3, 3, 3, 1, 1, 1, 1, 0, 4, 0, 0, 0, 1, 1, 1, 0, 0, 1, 0, 0, 0, 0, 0, 0, 0, 0, 0, 1, 0, 0, 1, 1, 4, 1, 1, 4, 1, 1, 0, 1, 0, 1, 0, 0, 1, 0, 1, 1, 1, 1, 3, 1, 4, 1, 1, 1, 1, 0, 0, 3, 3, 0, 1, 0, 1, 0, 4, 0, 0, 0, 1, 0, 0, 0, 1, 0, 0, 0, 1, 0, 0, 1, 0, 1, 1, 0, 4, 1, 0, 0, 0, 0, 0, 1, 1, 0, 0, 1, 1, 2, 3, 3, 0, 1, 1, 4, 1, 0, 1, 1, 0, 0, 1, 3, 0, 1, 0, 1, 0, 1, 1, 0, 1, 3, 3, 0, 0, 0, 0, 0, 4, 0, 0, 0, 3, 0, 0, 0, 0, 1, 0, 4, 0, 0, 1, 1, 0, 4, 0, 1, 0, 0, 0, 3, 0, 4, 0, 1, 3, 0, 1, 0, 0, 1, 1, 1, 1, 3, 0, 1, 0, 1, 0, 1, 3, 0, 1, 1, 0, 0, 0, 0, 1, 3, 0, 0, 4, 0, 0, 1, 4, 4, 4, 0, 0, 0, 0, 4, 0, 3, 0, 1, 1, 1, 0, 1, 0, 1, 1, 4, 0, 1, 3, 0, 4, 0, 1, 1, 0, 0, 3, 0, 0, 4, 0, 1, 1, 0, 4, 1, 3, 0, 1, 0, 1, 1, 3, 4, 4, 0, 0, 4, 1, 0, 1, 1, 0, 0, 1, 4, 0, 1, 4, 0, 0, 4, 0, 4, 0, 0, 0, 1, 1, 0, 0, 0, 0, 1, 1, 0, 0, 0, 0, 1, 0, 1, 4, 0, 0, 0, 4, 3, 1, 0, 4, 0, 0, 0, 4, 1, 1, 1, 1, 1, 1, 0, 0, 1, 4, 0, 0, 0, 1, 0, 0, 4, 0, 0, 0, 0, 3, 0, 0, 4, 0, 4, 0, 1, 4, 1, 1, 0, 3, 0, 0, 3, 0, 1, 4, 0, 3, 0, 1, 0, 4, 1, 0, 3, 1, 3, 4, 0, 4, 3, 0, 0, 0, 3, 0, 3, 0, 3, 1, 0, 0, 4, 4, 1, 0, 1, 0, 0, 1, 1, 0, 0, 0, 0, 0, 0, 3, 4, 0, 0, 0, 0, 1, 4, 4, 0, 0, 1, 3, 4, 1, 0, 1, 1, 0, 1, 4, 4, 4, 0, 1, 1, 0, 1, 3, 0, 0, 1, 0, 1, 1, 1, 0, 1, 1, 0, 0, 4, 0, 0, 0, 0, 0, 1, 0, 0, 0, 3, 1, 3, 0, 1, 4, 3, 0, 0, 1, 1, 4, 1, 0, 0, 1, 3, 0, 4, 0, 0, 0, 0, 1, 0, 4, 4, 1, 4, 0, 4, 4, 1, 0, 3, 0, 3, 0, 1, 1, 1, 3, 4, 0, 0, 1, 0, 0, 0, 0, 0, 3, 3, 1, 0, 3, 4, 4, 0, 1, 1, 1, 0, 0, 1, 3, 2, 0, 1, 0, 4, 3, 0, 0, 4, 0, 0, 3, 0, 1, 1, 1, 1, 1, 0, 4, 0, 0, 3, 0, 4, 4, 0, 1, 3, 1, 0, 4, 0, 0, 0, 1, 4, 4, 1, 4, 1, 1, 4, 4, 0, 1, 4, 1, 4, 1, 0, 1, 3, 4, 0, 1, 1, 0, 0, 0, 1, 3, 0, 1, 0, 4, 4, 0, 1, 3, 4, 1, 0, 0, 3, 1, 1, 0, 0, 0, 0, 0, 4, 4, 0, 1, 0, 0, 4, 0, 1, 0, 1, 0, 1, 1, 1, 0, 1, 1, 1, 0, 3, 0, 3, 1, 0, 0, 4, 3, 3, 3, 1, 1, 4, 1, 0, 1, 1, 3, 0, 0, 0, 0, 1, 1, 0, 1, 0, 0, 1, 1, 0, 1, 4, 0, 0, 1, 0, 1, 0, 1, 1, 1, 1, 4, 1, 0, 0, 0, 0, 0, 0, 0, 0, 0, 3, 1, 0, 0, 0, 0, 1, 1, 0, 0, 3, 0, 1, 0, 4, 1, 1, 0, 1, 0, 4, 0, 4, 1, 0, 3, 0, 1, 4, 0, 4, 0, 3, 0, 0, 1, 0, 0, 0, 0, 0, 4, 0, 1, 3, 4, 1, 0, 1, 0, 0, 3, 0, 0, 0, 3, 1, 0, 4, 1, 0, 4, 1, 0, 0, 0, 1, 1, 1, 1, 0, 1, 0, 3, 1, 0, 0, 1, 0, 1, 1, 1, 0, 0, 1, 4, 1, 4, 1, 3, 0, 0, 3, 0, 0, 0, 1, 3, 3, 3, 0, 1, 1, 0, 0, 1, 1, 1, 0, 0, 0, 0, 4, 0, 4, 1, 0, 0, 3, 0, 1, 0, 0, 1, 3, 0, 1, 4, 0, 0, 0, 3, 3, 0, 4, 1, 0, 3, 3, 1, 4, 3, 0, 0, 0, 1, 3, 1, 4, 1, 1, 1, 0, 0, 1, 1, 0, 0, 0, 1, 4, 1, 0, 0, 0, 1, 0, 0, 1, 0, 0, 3, 1, 1, 1, 0, 0, 0, 0, 0, 0, 1, 1, 1, 0, 1, 0, 4, 1, 4, 0, 3, 0, 3, 0, 4, 4, 1, 0, 4, 1, 0, 1, 1, 4, 4, 4, 1, 0, 0, 1, 0, 3, 1, 0, 1, 1, 4, 1, 1, 0, 0, 0, 4, 0, 3, 0, 0, 1, 3, 4, 0, 4, 4, 1, 0, 3, 0, 4, 4, 1, 1, 0, 1, 3, 0, 4, 4, 1, 0, 1, 1, 0, 1, 0, 3, 0, 3, 0, 0, 0, 0, 0, 4, 4, 1, 1, 0, 0, 0, 1, 0, 3, 1, 1, 0, 0, 3, 0, 0, 0, 3, 0, 4, 4, 0, 1, 1, 0, 0, 4, 1, 1, 0, 0, 4, 0, 0, 0, 0, 1, 1, 1, 4, 0, 0, 3, 0, 0, 0, 1, 0, 0, 1, 0, 0, 4, 4, 0, 3, 0, 0, 4, 1, 4, 0, 0, 0, 0, 0, 4, 1, 0, 0, 0, 0, 1, 1, 1, 1, 4, 0, 0, 0, 0, 3, 0, 4, 1, 4, 0, 1, 0, 1, 0, 3, 1, 0, 0, 1, 3, 3, 0, 1, 4, 0, 1, 0, 4, 0, 1, 4, 3, 3, 1, 3, 1, 3, 0, 1, 0, 4, 0, 0, 1, 1, 4, 4, 0, 1, 0, 1, 0, 0, 4, 0, 0, 1, 1, 0, 0, 0, 0, 0, 0, 1, 0, 1, 0, 0, 3, 1, 4, 1, 4, 4, 0, 1, 0, 1, 3, 0, 1, 4, 1, 1, 4, 1, 0, 0, 0, 0, 3, 0, 1, 4, 0, 3, 1, 0, 0, 0, 0, 0, 1, 1, 0, 0, 0, 1, 1, 4, 0, 1, 0, 4, 0, 0, 0, 1, 3, 4, 3, 4, 0, 0, 0, 1, 0, 0, 0, 1, 4, 1, 4, 0, 1, 1, 1, 4, 4, 0, 0, 0, 1, 1, 3, 0, 0, 1, 3, 0, 1, 0, 0, 1, 1, 1, 1, 0, 1, 0, 0, 1, 0, 0, 0, 1, 4, 1, 3, 1, 0, 4, 1, 0, 0, 0, 0, 0, 4, 1, 1, 1, 4, 1, 0, 0, 1, 0, 1, 0, 0, 0, 4, 0, 0, 0, 0, 4, 0, 0, 1, 1, 1, 0, 0, 1, 1, 0, 0, 0, 1, 0, 1, 0, 0, 4, 1, 0, 1, 3, 4, 1, 1, 4, 0, 1, 0, 0, 3, 0, 1, 0, 0, 1, 1, 0, 0, 1, 1, 0, 0, 0, 1, 4, 1, 4, 1, 1, 0, 1, 4, 3, 1, 1, 0, 0, 0, 0, 4, 4, 0, 0, 1, 1, 0, 0, 0, 0, 0, 0, 0, 0, 0, 4, 0, 0, 0, 1, 1, 1, 1, 3, 1, 3, 0, 4, 0, 1, 4, 1, 0, 1, 1, 4, 0, 1, 0, 0, 4, 4, 1, 4, 1, 1, 4, 1, 1, 4, 3, 3, 1, 0, 0, 1, 0, 1, 1, 4, 1, 1, 1, 0, 1, 3, 3, 0, 1, 0, 4, 1, 3, 0, 0, 1, 1, 0, 1, 0, 4, 0, 0, 4, 4, 0, 3, 4, 0, 0, 0, 0, 0, 0, 3, 0, 1, 0, 1, 3, 0, 0, 0, 1, 0, 0, 0, 0, 1, 3, 1, 0, 1, 4, 1, 4, 0, 0, 1, 0, 0, 1, 0, 1, 1, 3, 0, 0, 1, 1, 4, 1, 0, 0, 0, 1, 0, 1, 0, 0, 3, 0, 1, 1, 1, 1, 1, 3, 0, 1, 0, 1, 3, 3, 4, 0, 1, 4, 0, 0, 1, 1, 4, 3, 0, 0, 0, 0, 0, 0, 4, 3, 4, 0, 0, 0, 1, 3, 3, 0, 0, 1, 4, 0, 1, 0, 3, 0, 4, 3, 0, 1, 1, 0, 1, 3, 1, 0, 0, 4, 0, 0, 3, 0, 0, 0, 0, 3, 1, 1, 3, 0, 1, 1, 1, 0, 1, 1, 1, 0, 0, 0, 4, 1, 0, 0, 1, 0, 1, 3, 0, 1, 0, 0, 4, 0, 1, 1, 0, 1, 3, 1, 1, 1, 4, 1, 4, 1, 0, 0, 4, 1, 0, 1, 3, 0, 0, 3, 0, 0, 4, 1, 4, 0, 0, 4, 1, 3, 4, 0, 0, 1, 1, 4, 0, 4, 3, 0, 0, 1, 1, 3, 0, 1, 1, 1, 0, 0, 1, 1, 3, 4, 1, 0, 1, 0, 1, 0, 4, 0, 1, 0, 0, 1, 1, 0, 1, 0, 1, 0, 1, 0, 4, 0, 1, 1, 1, 1, 1, 1, 3, 1, 0, 0, 1, 0, 1, 1, 0, 0, 1, 0, 0, 0, 0, 1, 0, 1, 0, 0, 0, 0, 0, 0, 0, 0, 1, 1, 1, 1, 0, 0, 1, 3, 0, 1, 1, 1, 1, 4, 3, 1, 1, 0, 0, 3, 1, 4, 1, 4, 1, 0, 0, 1, 0, 4, 0, 1, 0, 0, 4, 1, 0, 0, 0, 1, 0, 0, 0, 1, 3, 0, 0, 1, 1, 3, 1, 3, 0, 1, 3, 0, 1, 1, 0, 0, 1, 1, 0, 0, 1, 0, 1, 3, 0, 4, 4, 0, 0, 0, 4, 0, 4, 0, 1, 1, 4, 0, 0, 4, 1, 1, 1, 1, 1, 1, 0, 0, 0, 4, 4, 4, 0, 0, 1, 3, 0, 1, 0, 1, 4, 0, 3, 3, 0, 0, 0, 0, 0, 1, 0, 0, 3, 4, 0, 0, 1, 3, 0, 3, 1, 1, 0, 4, 1, 0, 1, 0, 4, 1, 0, 0, 0, 1, 1, 0, 0, 3, 1, 1, 0, 0, 0, 0, 0, 1, 4, 0, 1, 1, 0, 1, 0, 1, 0, 4, 4, 1, 1, 4, 0, 0, 0, 3, 1, 0, 0, 1, 4, 3, 0, 1, 1, 4, 1, 1, 1, 0, 1, 0, 0, 0, 4, 1, 1, 0, 3, 0, 1, 0, 0, 0, 1, 0, 1, 1, 0, 1, 3, 1, 0, 0, 1, 0, 4, 0, 0, 0, 4, 3, 1, 3, 1, 3, 4, 3, 1, 3, 1, 3, 1, 0, 1, 0, 1, 4, 1, 0, 1, 1, 0, 3, 1, 1, 0, 0, 0, 0, 1, 3, 0, 0, 0, 4, 0, 4, 0, 0, 0, 1, 0, 1, 0, 1, 0, 0, 0, 0, 0, 3, 0, 4, 0, 1, 1, 1, 0, 1, 4, 0, 0, 0, 1, 0, 1, 1, 0, 0, 0, 0, 1, 4, 1, 1, 1, 4, 0, 1, 0, 0, 3, 0, 1, 4, 0, 0, 0, 4, 4, 1, 0, 1, 0, 1, 4, 0, 1, 3, 1, 0, 1, 0, 3, 0, 1, 1, 0, 0, 0, 1, 1, 4, 1, 1, 0, 4, 0, 1, 0, 0, 3, 0, 4, 0, 0, 1, 0, 0, 3, 0, 1, 0, 0, 0, 1, 0, 1, 0, 0, 0, 3, 3, 1, 1, 1, 0, 0, 0, 0, 1, 1, 0, 0, 0, 0, 4, 0, 1, 1, 0, 1, 1, 1, 0, 1, 0, 3, 3, 4, 1, 0, 0, 0, 0, 0, 0, 0, 3, 1, 0, 4, 1, 0, 4, 1, 4, 0, 1, 1, 3, 0, 1, 1, 4, 0, 4, 4, 0, 4, 0, 4, 0, 4, 1, 3, 0, 1, 1, 1, 0, 3, 3, 0, 1, 1, 0, 1, 0, 1, 1, 3, 3, 3, 3, 0, 4, 0, 0, 0, 0, 1, 1, 3, 1, 4, 4, 4, 3, 3, 1, 0, 3, 1, 0, 0, 0, 0, 0, 0, 1, 1, 1, 1, 1, 3, 4, 0, 0, 4, 1, 1, 0, 0, 1, 1, 4, 0, 1, 3, 0, 0, 1, 0, 4, 1, 0, 0, 3, 0, 1, 1, 0, 3, 1, 1, 1, 0, 0, 0, 0, 0, 0, 0, 1, 3, 0, 4, 0, 0, 1, 3, 1, 0, 1, 1, 1, 4, 3, 1, 0, 0, 0, 1, 0, 0, 1, 0, 1, 4, 1, 0, 0, 1, 3, 0, 1, 3, 4, 1, 0, 1, 1, 1, 0, 0, 4, 4, 0, 0, 4, 1, 1, 1, 0, 0, 4, 1, 0, 1, 0, 1, 4, 4, 0, 1, 1, 3, 1, 1, 1, 0, 4, 1, 0, 0, 0, 0, 1, 0, 0, 1, 1, 1, 1, 1, 1, 0, 4, 3, 4, 4, 1, 0, 1, 1, 0, 0, 0, 1, 0, 1, 0, 4, 0, 1, 1, 3, 0, 1, 0, 0, 0, 0, 0, 3, 3, 1, 0, 0, 4, 0, 1, 1, 0, 1, 1, 3, 3, 4, 1, 0, 1, 0, 3, 4, 0, 0, 0, 0, 0, 4, 1, 1, 0, 1, 0, 3, 0, 1, 0, 1, 3, 4, 0, 4, 0, 3, 0, 1, 3, 0, 4, 0, 1, 0, 1, 0, 1, 1, 0, 1, 0, 1, 1, 1, 3, 0, 0, 1, 3, 0, 0, 3, 0, 1, 1, 0, 0, 3, 3, 0, 0, 0, 1, 0, 0, 0, 1, 1, 1, 4, 0, 1, 3, 0, 0, 0, 0, 0, 0, 0, 0, 0, 4, 1, 4, 1, 3, 4, 0, 0, 1, 0, 0, 1, 1, 1, 4, 0, 3, 0, 4, 3, 0, 1, 4, 4, 1, 0, 0, 0, 0, 0, 3, 1, 0, 0, 1, 0, 3, 3, 0, 0, 0, 0, 0, 0, 0, 0, 1, 0, 1, 3, 3, 3, 0, 1, 1, 0, 4, 3, 1, 0, 0, 0, 0, 3, 4, 0, 1, 4, 0, 0, 0, 0, 0, 0, 4, 1, 3, 4, 0, 3, 1, 1, 0, 0, 1, 0, 0, 1, 4, 0, 0, 0, 4, 1, 0, 1, 0, 0, 0, 0, 0, 1, 0, 1, 0, 1, 1, 1, 3, 1, 0, 4, 1, 3, 0, 4, 4, 0, 4, 0, 1, 0, 4, 3, 4, 0, 1, 3, 0, 0, 1, 3, 1, 0, 0, 1, 1, 0, 0, 1, 3, 4, 0, 0, 4, 3, 1, 0, 0, 1, 1, 1, 4, 1, 4, 0, 4, 0, 0, 0, 1, 3, 1, 0, 0, 1, 1, 0, 0, 0, 3, 4, 1, 1, 0, 4, 3, 4, 1, 0, 0, 1, 3, 4, 0, 4, 0, 0, 0, 4, 1, 0, 0, 3, 3, 1, 4, 0, 1, 0, 0, 3, 0, 1, 1, 0, 1, 4, 0, 0, 4, 1, 4, 0, 0, 0, 0, 1, 0, 1, 1, 4, 1, 1, 3, 0, 0, 1, 4, 1, 1, 4, 0, 1, 0, 0, 0, 4, 3, 4, 4, 1, 1, 0, 1, 1, 0, 0, 4, 0, 0, 3, 4, 0, 0, 0, 3, 0, 0, 0, 3, 0, 0, 4, 0, 1, 0, 0, 0, 0, 0, 1, 4, 3, 1, 0, 1, 0, 3, 0, 4, 3, 0, 0, 1, 1, 4, 0, 0, 1, 1, 0, 1, 0, 0, 3, 3, 0, 1, 1, 0, 0, 0, 0, 0, 1, 0, 0, 0, 4, 1, 0, 0, 1, 1, 0, 0, 1, 3, 4, 0, 3, 3, 1, 1, 0, 0, 3, 0, 0, 0, 1, 0, 0, 4, 4, 4, 3, 1, 0, 4, 4, 1, 1, 4, 4, 0, 1, 0, 3, 1, 4, 0, 0, 0, 3, 0, 0, 0, 0, 3, 3, 0, 1, 0, 1, 1, 0, 3, 0, 4, 4, 3, 4, 1, 4, 1, 0, 4, 4, 0, 0, 1, 0, 0, 1, 0, 0, 0, 1, 1, 0, 0, 0, 1, 1, 3, 0, 1, 1, 0, 4, 1, 1, 0, 0, 4, 0, 1, 0, 1, 3, 1, 0, 0, 1, 3, 0, 1, 0, 1, 0, 1, 1, 1, 0, 0, 0, 3, 0, 0, 0, 0, 1, 1, 0, 0, 1, 4, 0, 4, 0, 1, 1, 0, 1, 3, 0, 1, 0, 0, 0, 0, 0, 1, 0, 1, 0, 0, 1, 4, 4, 1, 0, 0, 1, 1, 0, 0, 0, 1, 1, 3, 1, 4, 1, 4, 1, 1, 1, 1, 4, 1, 0, 1, 1, 3, 1, 3, 4, 0, 1, 0, 3, 3, 0, 4, 3, 0, 0, 1, 1, 0, 4, 4, 4, 0, 0, 4, 1, 1, 1, 1, 0, 3, 1, 1, 3, 0, 0, 0, 0, 3, 3, 0, 3, 0, 4, 1, 0, 1, 0, 4, 1, 0, 0, 1, 3, 0, 1, 4, 4, 3, 0, 4, 1, 1, 4, 1, 0, 1, 1, 0, 1, 0, 1, 1, 1, 1, 0, 1, 4, 3, 3, 1, 1, 1, 4, 0, 3, 1, 0, 1, 0, 4, 0, 0, 0, 1, 4, 0, 1, 0, 0, 0, 0, 0, 4, 0, 4, 0, 0, 1, 1, 1, 1, 0, 0, 1, 1, 1, 0, 4, 1, 0, 4, 3, 1, 0, 1, 0, 0, 1, 1, 1, 3, 1, 0, 1, 3, 1, 0, 0, 0, 0, 1, 1, 0, 1, 0, 3, 1, 0, 0, 1, 0, 0, 0, 3, 4, 4, 0, 0, 3, 1, 1, 3, 1, 0, 0, 1, 4, 4, 0, 0, 4, 0, 0, 0, 1, 1, 0, 0, 3, 1, 0, 1, 0, 3, 0, 3, 3, 1, 1, 3, 4, 1, 0, 0, 0, 0, 4, 1, 0, 4, 0, 0, 0, 0, 1, 1, 1, 4, 4, 0, 4, 3, 0, 0, 0, 0, 1, 1, 4, 1, 1, 1, 0, 0, 0, 1, 0, 1, 3, 0, 4, 4, 4, 3, 4, 0, 1, 0, 1, 1, 3, 4, 0, 0, 1, 0, 0, 0, 3, 1, 0, 1, 0, 1, 0, 1, 0, 0, 1, 1, 1, 1, 3, 4, 3, 0, 4, 0, 1, 1, 0, 4, 1, 0, 1, 0, 4, 3, 0, 0, 4, 0, 4, 1, 0, 0, 0, 1, 0, 0, 1, 4, 1, 0, 1, 1, 0, 0, 0, 0, 1, 0, 0, 1, 0, 1, 0, 3, 1, 0, 1, 0, 3, 4, 3, 4, 0, 0, 0, 1, 1, 1, 0, 1, 1, 1, 1, 0, 0, 0, 1, 1, 3, 0, 0, 3, 4, 1, 0, 3, 4, 0, 4, 3, 0, 0, 4, 1, 4, 1, 1, 0, 0, 3, 0, 4, 1, 4, 1, 0, 3, 4, 4, 4, 0, 0, 3, 4, 3, 1, 3, 0, 4, 4, 0, 1, 0, 4, 1, 3, 0, 0, 0, 4, 4, 0, 0, 0, 0, 0, 0, 0, 0, 1, 0, 3, 3, 0, 1, 0, 1, 0, 1, 0, 1, 0, 0, 0, 3, 4, 1, 0, 1, 1, 4, 1, 0, 0, 3, 0, 0, 3, 0, 0, 1, 1, 3, 1, 0, 0, 4, 0, 0, 3, 0, 0, 0, 0, 1, 0, 0, 0, 0, 0, 1, 3, 3, 0, 3, 4, 1, 1, 4, 0, 1, 0, 0, 1, 0, 3, 1, 1, 0, 0, 1, 1, 1, 1, 1, 1, 1, 1, 1, 1, 1, 1, 0, 4, 1, 0, 0, 0, 4, 0, 3, 3, 3, 0, 1, 1, 0, 1, 4, 0, 1, 0, 4, 1, 1, 1, 1, 1, 0, 1, 4, 1, 4, 4, 1, 1, 0, 0, 0, 0, 0, 0, 1, 0, 1, 0, 0, 4, 0, 4, 0, 1, 0, 1, 0, 3, 0, 1, 4, 0, 1, 1, 0, 0, 1, 0, 3, 0, 0, 1, 1, 1, 1, 0, 0, 0, 0, 3, 1, 4, 0, 1, 0, 4, 1, 3, 1, 3, 0, 4, 3, 0, 4, 1, 1, 4, 1, 1, 1, 0, 3, 3, 3, 0, 0, 0, 0, 1, 1, 0, 3, 1, 0, 0, 0, 0, 0, 1, 0, 4, 0, 4, 0, 0, 3, 0, 0, 0, 1, 0, 1, 3, 0, 0, 0, 0, 4, 0, 0, 3, 0, 3, 0, 1, 4, 1, 0, 1, 0, 0, 0, 1, 0, 1, 1, 0, 0, 0, 0, 3, 1, 0, 0, 1, 3, 0, 0, 1, 0, 1, 1, 1, 1, 1, 1, 1, 1, 1, 1, 1, 1, 1, 1, 1, 1, 1, 1, 1, 1, 1, 1, 1, 1, 1, 1, 1, 1, 1, 1, 1, 1, 1, 1, 1, 1, 1, 1, 1, 1, 1, 1, 1, 1, 1, 1, 1, 1, 1, 1, 1, 1, 1, 1, 1, 1, 1, 1, 1, 1, 1, 1, 1, 1, 1, 1, 1, 1, 1, 1, 1, 1, 1, 1, 1, 1, 1, 1, 1, 1, 1, 1, 1, 1, 1, 1, 1, 1, 1, 1, 1, 1, 1, 1, 1, 1, 1, 1, 1, 1]\n"
     ]
    }
   ],
   "source": [
    "from sklearn.preprocessing import LabelEncoder\n",
    "label_encode = LabelEncoder()\n",
    "# If housing_categorical is a DataFrame or a 2D array, convert it to a 1D array\n",
    "housing_categorical = housing_categorical.values.ravel() if hasattr(housing_categorical, 'values') else housing_categorical.ravel()\n",
    "housing_cat_label = label_encode.fit_transform(housing_categorical)\n",
    "print(housing_cat_label.tolist())\n"
   ]
  }
 ],
 "metadata": {
  "colab": {
   "provenance": []
  },
  "kernelspec": {
   "display_name": "Python 3",
   "name": "python3"
  },
  "language_info": {
   "name": "python"
  }
 },
 "nbformat": 4,
 "nbformat_minor": 0
}
