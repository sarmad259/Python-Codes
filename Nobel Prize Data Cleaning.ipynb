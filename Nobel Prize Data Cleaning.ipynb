{
 "cells": [
  {
   "cell_type": "code",
   "execution_count": null,
   "metadata": {},
   "outputs": [],
   "source": [
    "import pandas as pd\n",
    "\n",
    "# Load the Nobel Prize dataset\n",
    "file = pd.read_csv(\"nobel.csv\")\n",
    "\n",
    "# Drop rows with missing values\n",
    "file = file.dropna()\n",
    "top_gender = file['sex'].mode()[0]\n",
    "top_country = file['birth_country'].mode()[0]\n",
    "print(f\"Top Gender is: {top_gender}\")\n",
    "print(f\"Top country is : {top_country}\")\n",
    "file['year'] = file['year'].astype(int)\n",
    "file['decade'] = (file['year'] // 10) * 10\n",
    "file['usa_born_winner'] = file['birth_country'] == 'United States of America'\n",
    "us_winners_by_decade = file[file['usa_born_winner']].groupby('decade').size()\n",
    "total_winners_by_decade = file.groupby('decade').size()\n",
    "prop_usa_winners = us_winners_by_decade / total_winners_by_decade\n",
    "max_decade_usa = prop_usa_winners.idxmax()\n",
    "print(f\"Decade with the highest proportion of US-born winners: {max_decade_usa}\")\n",
    "file['female_winner'] = file['sex'] == 'Female'\n",
    "prop_female_winners = file.groupby(['decade', 'category'])['female_winner'].mean()\n",
    "max_female_decade_category = prop_female_winners.idxmax()\n",
    "max_female_dict = {max_female_decade_category[0]: max_female_decade_category[1]}\n",
    "print(f\"Decade and Category with the highest proportion of female winners: {max_female_dict}\")\n",
    "nobel_women = file[file['female_winner']]\n",
    "first_women = nobel_women[nobel_women['year'] == nobel_women['year'].min()]\n",
    "first_woman_name = first_women['full_name'].values[0]\n",
    "first_woman_category = first_women['category'].values[0]\n",
    "print(f\"\\n The first woman to win a Nobel Prize was {first_woman_name}, in the category of {first_woman_category}.\")\n",
    "counts = file['full_name'].value_counts()\n",
    "repeats = counts[counts >= 2].index\n",
    "repeat_list = list(repeats)\n",
    "\n",
    "print(\"\\n The repeat winners are :\", repeat_list)"
   ]
  }
 ],
 "metadata": {
  "kernelspec": {
   "display_name": "Python 3",
   "language": "python",
   "name": "python3"
  },
  "language_info": {
   "codemirror_mode": {
    "name": "ipython",
    "version": 3
   },
   "file_extension": ".py",
   "mimetype": "text/x-python",
   "name": "python",
   "nbconvert_exporter": "python",
   "pygments_lexer": "ipython3",
   "version": "3.12.0"
  }
 },
 "nbformat": 4,
 "nbformat_minor": 2
}
