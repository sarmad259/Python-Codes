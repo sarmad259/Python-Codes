{
 "cells": [
  {
   "cell_type": "code",
   "execution_count": 3,
   "metadata": {},
   "outputs": [],
   "source": [
    "import numpy as np"
   ]
  },
  {
   "cell_type": "markdown",
   "metadata": {},
   "source": [
    "TASK :"
   ]
  },
  {
   "cell_type": "code",
   "execution_count": 4,
   "metadata": {},
   "outputs": [
    {
     "name": "stdout",
     "output_type": "stream",
     "text": [
      "Type of height in meter is :\n",
      "<class 'numpy.ndarray'>\n",
      "[72 73 75 71 68 74]\n",
      " \n",
      "Type of weight in kg is :\n",
      "<class 'numpy.ndarray'>\n",
      "[ 68.02935   72.56464   74.832285  79.821104 113.38225  317.4703  ]\n",
      " \n",
      "BMI RESULTS ARE: [20.34060636 21.10628954 20.62049311 24.54333637 38.00666933 89.86120328]\n",
      "light weight is: [ True False  True False False False]\n"
     ]
    }
   ],
   "source": [
    "baseball=[72, 73, 75, 71, 68, 74 ]\n",
    "np_height_in=np.array(baseball)\n",
    "print(\"Type of height in meter is :\")\n",
    "print (type(np_height_in))\n",
    "print(np_height_in)\n",
    "np_height_m=np_height_in*0.0254\n",
    "weight_pounds=[150, 160, 165, 176, 250, 700] \n",
    "np_weight_kg=np.array(weight_pounds)*0.453529\n",
    "print(\" \")\n",
    "print(\"Type of weight in kg is :\")\n",
    "print (type(np_weight_kg))\n",
    "print(np_weight_kg)\n",
    "BMI= np_weight_kg/np_height_m**2\n",
    "print(\" \")\n",
    "print (f\"BMI RESULTS ARE: {BMI}\")\n",
    "light =  BMI < 21\n",
    "print(f\"light weight is: {light}\")\n"
   ]
  },
  {
   "cell_type": "markdown",
   "metadata": {},
   "source": [
    "**QUESTION NO:4**\n",
    "\n",
    "np.array([4, 3, 0]) + np.array([0, 2, 2])"
   ]
  },
  {
   "cell_type": "markdown",
   "metadata": {},
   "source": [
    "**QUESTION NO : 5**"
   ]
  },
  {
   "cell_type": "code",
   "execution_count": 8,
   "metadata": {},
   "outputs": [
    {
     "name": "stdout",
     "output_type": "stream",
     "text": [
      "Median height of goalkeepers: 1.8288\n",
      "Median height of other players: 1.8541999999999998\n"
     ]
    }
   ],
   "source": [
    "positions = ['GK', 'DEF', 'MID', 'MID', 'DEF', 'ATT']\n",
    "np_positions=np.array(positions)\n",
    "np_heights=np.array(np_height_m)\n",
    "\n",
    "\n",
    "# Heights of the goalkeepers: gk_heights\n",
    "gk_heights = np_heights[np_positions == 'GK']\n",
    "\n",
    "\n",
    "# Heights of the other players: other_heights\n",
    "other_heights=np_heights[np_positions!='GK']\n",
    "\n",
    "\n",
    "# Print out the median height of goalkeepers. Replace 'None'\n",
    "print(\"Median height of goalkeepers: \" + str(np.median(gk_heights)))\n",
    "\n",
    "\n",
    "# Print out the median height of other players. Replace 'None'\n",
    "print(\"Median height of other players: \" + str(np.median(other_heights)))\n"
   ]
  }
 ],
 "metadata": {
  "kernelspec": {
   "display_name": "Python 3",
   "language": "python",
   "name": "python3"
  },
  "language_info": {
   "codemirror_mode": {
    "name": "ipython",
    "version": 3
   },
   "file_extension": ".py",
   "mimetype": "text/x-python",
   "name": "python",
   "nbconvert_exporter": "python",
   "pygments_lexer": "ipython3",
   "version": "3.12.0"
  }
 },
 "nbformat": 4,
 "nbformat_minor": 2
}
