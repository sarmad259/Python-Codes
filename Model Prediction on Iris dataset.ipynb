{
 "cells": [
  {
   "cell_type": "markdown",
   "metadata": {},
   "source": [
    "Using Manual Method Low accuracy bc of less perceptrons lead to low prediction:"
   ]
  },
  {
   "cell_type": "code",
   "execution_count": 12,
   "metadata": {},
   "outputs": [
    {
     "name": "stdout",
     "output_type": "stream",
     "text": [
      "Missing values:\n",
      " sepal length (cm)    0\n",
      "sepal width (cm)     0\n",
      "petal length (cm)    0\n",
      "petal width (cm)     0\n",
      "dtype: int64\n",
      "epoch=0, lrate=0.001, error=nan\n",
      "epoch=1, lrate=0.001, error=nan\n",
      "epoch=2, lrate=0.001, error=nan\n",
      "epoch=3, lrate=0.001, error=nan\n",
      "epoch=4, lrate=0.001, error=nan\n",
      "Accuracy Got in percenatge: 60.0\n",
      "Precision in points: 80.0\n",
      "Recall in points: 50.0\n",
      "F1 Score in points: 37.49999999999999\n"
     ]
    }
   ],
   "source": [
    "from sklearn.datasets import load_iris\n",
    "from sklearn.model_selection import train_test_split\n",
    "from sklearn.metrics import accuracy_score, precision_score, recall_score, f1_score\n",
    "import pandas as pd\n",
    "\n",
    "iris = load_iris()\n",
    "data = pd.DataFrame(iris.data, columns=iris.feature_names)\n",
    "missing_values = data.isnull().sum()\n",
    "print(\"Missing values:\\n\", missing_values)#to find missing values\n",
    "X = data\n",
    "Y = iris.target#we got automatic values bc we using sklearn to get dataset\n",
    "column_names = [\"sepal_length\", \"sepal_width\", \"petal_length\", \"petal_width\"]\n",
    "iris_df = pd.DataFrame(X, columns=column_names)\n",
    "iris_df[\"target\"] = Y\n",
    "\n",
    "iris_df = iris_df[iris_df[\"target\"] != 2]\n",
    "X = iris_df.drop(\"target\", axis=1)\n",
    "Y = iris_df[\"target\"]\n",
    "\n",
    "X_train, X_test, Y_train, Y_test = train_test_split(X, Y, test_size=0.2, random_state=42)\n",
    "\n",
    "def predict(row, weights):\n",
    "    activation = weights[0]\n",
    "    for i in range(len(row)-1):\n",
    "        activation += weights[i + 1] * row[i]\n",
    "    return 1.0 if activation >= 0.0 else 0.0\n",
    "\n",
    "def train_weights(train, l_rate, n_epoch):\n",
    "    weights = [0.0 for i in range(len(train[0]))]\n",
    "    for epoch in range(n_epoch):\n",
    "        sum_error = 0.0\n",
    "        for row in train:\n",
    "            prediction = predict(row, weights)\n",
    "            error = row[-1] - prediction\n",
    "            sum_error += error**2\n",
    "            weights[0] = weights[0] + l_rate * error\n",
    "            for i in range(len(row)-1):\n",
    "                weights[i + 1] = weights[i + 1] + l_rate * error * row[i]\n",
    "        print('epoch=%d, lrate=%.3f, error=%.3f' % (epoch, l_rate, sum_error))\n",
    "    return weights\n",
    "\n",
    "l_rate = 0.0005\n",
    "n_epoch = 5\n",
    "\n",
    "weights = train_weights(X_train.values, l_rate, n_epoch)\n",
    "\n",
    "Y_pred = [predict(row, weights) for row in X_test.values]\n",
    "\n",
    "accuracy = accuracy_score(Y_test, Y_pred)\n",
    "precision = precision_score(Y_test, Y_pred, average='macro', zero_division=1)\n",
    "recall = recall_score(Y_test, Y_pred, average='macro', zero_division=1)\n",
    "f1 = f1_score(Y_test, Y_pred, average='macro', zero_division=1)\n",
    "print(\"Accuracy Got in percenatge:\", accuracy*100)\n",
    "print(\"Precision in points:\", precision*100)\n",
    "print(\"Recall in points:\", recall*100)\n",
    "print(\"F1 Score in points:\", f1*100)\n"
   ]
  },
  {
   "cell_type": "markdown",
   "metadata": {},
   "source": [
    "Using solver to predict weights"
   ]
  },
  {
   "cell_type": "code",
   "execution_count": 12,
   "metadata": {},
   "outputs": [
    {
     "name": "stdout",
     "output_type": "stream",
     "text": [
      "Accuracy: 100.0\n",
      "Precision: 100.0\n",
      "Recall: 100.0\n",
      "F1 Score: 100.0\n"
     ]
    }
   ],
   "source": [
    "from sklearn.datasets import load_iris\n",
    "from sklearn.model_selection import train_test_split\n",
    "from sklearn.neural_network import MLPClassifier\n",
    "from sklearn.metrics import accuracy_score, precision_score, recall_score, f1_score\n",
    "import pandas as pd\n",
    "\n",
    "iris = load_iris()\n",
    "data = pd.DataFrame(iris.data, columns=iris.feature_names)#converting to dataframe and adding features  \n",
    "X = data\n",
    "Y = iris.target\n",
    "\n",
    "X_train, X_test, Y_train, Y_test = train_test_split(X, Y, test_size=0.2, random_state=42)#training and testing split\n",
    "\n",
    "model = MLPClassifier(hidden_layer_sizes=(), activation='relu', solver='adam', max_iter=5000, random_state=42)#model implementation\n",
    "\n",
    "model.fit(X_train, Y_train)#traning\n",
    "\n",
    "Y_pred = model.predict(X_test)#predict\n",
    "accuracy = accuracy_score(Y_test, Y_pred)\n",
    "precision = precision_score(Y_test, Y_pred, average='macro')\n",
    "recall = recall_score(Y_test, Y_pred, average='macro')\n",
    "f1 = f1_score(Y_test, Y_pred, average='macro')\n",
    "accuracy= accuracy\n",
    "print(\"Accuracy:\", accuracy*100)\n",
    "print(\"Precision:\", precision*100)\n",
    "print(\"Recall:\", recall*100)\n",
    "print(\"F1 Score:\", f1*100)\n"
   ]
  }
 ],
 "metadata": {
  "kernelspec": {
   "display_name": "Python 3",
   "language": "python",
   "name": "python3"
  },
  "language_info": {
   "codemirror_mode": {
    "name": "ipython",
    "version": 3
   },
   "file_extension": ".py",
   "mimetype": "text/x-python",
   "name": "python",
   "nbconvert_exporter": "python",
   "pygments_lexer": "ipython3",
   "version": "3.12.0"
  }
 },
 "nbformat": 4,
 "nbformat_minor": 2
}
