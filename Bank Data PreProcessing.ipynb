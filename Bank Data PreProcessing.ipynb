{
 "cells": [
  {
   "cell_type": "code",
   "execution_count": 5,
   "metadata": {},
   "outputs": [],
   "source": [
    "import pandas as pd\n",
    "import numpy as np\n",
    "\n",
    "# Load the dataset\n",
    "marketing = pd.read_csv(\"bank.csv\")\n",
    "\n",
    "# Split into the three tables\n",
    "client = marketing.loc[:, [\"age\", \"job\", \"marital\", \"education\", \"default\", \"balance\", \"housing\", \"loan\"]].copy()\n",
    "campaign = marketing.loc[:, [\"contact\", \"day\", \"month\", \"duration\", \"campaign\", \"pdays\", \"previous\", \"poutcome\", \"deposit\"]].copy()\n",
    "economics = marketing.loc[:, [\"balance\", \"housing\", \"loan\"]].copy()\n",
    "\n",
    "# Clean education column\n",
    "client.loc[:, \"education\"] = client[\"education\"].str.replace(\".\", \"_\")\n",
    "client.loc[:, \"education\"] = client[\"education\"].replace(\"unknown\", np.NaN)\n",
    "\n",
    "# Clean job column\n",
    "client.loc[:, \"job\"] = client[\"job\"].str.replace(\".\", \"_\")\n",
    "\n",
    "# Clean and convert client columns to bool data type\n",
    "for col in [\"default\", \"housing\", \"loan\"]:\n",
    "    client.loc[:, col] = client[col].map({\"yes\": 1, \"no\": 0, \"unknown\": 0})\n",
    "    client.loc[:, col] = client[col].astype(bool)\n",
    "\n",
    "# Editing the campaign dataset\n",
    "# Change campaign_outcome to binary values\n",
    "campaign.loc[:, \"deposit\"] = campaign[\"deposit\"].map({\"yes\": 1, \"no\": 0})\n",
    "\n",
    "# Convert previous_outcome to binary values\n",
    "campaign.loc[:, \"poutcome\"] = campaign[\"poutcome\"].map({\"success\": 1, \"failure\": 0, \"unknown\": 0})\n",
    "\n",
    "# Add year column (assuming a hypothetical year)\n",
    "campaign.loc[:, \"year\"] = \"2022\"\n",
    "\n",
    "# Convert day to string\n",
    "campaign.loc[:, \"day\"] = campaign[\"day\"].astype(str)\n",
    "\n",
    "# Add last_contact_date column\n",
    "campaign.loc[:, \"last_contact_date\"] = campaign[\"year\"] + \"-\" + campaign[\"month\"] + \"-\" + campaign[\"day\"]\n",
    "\n",
    "# Convert to datetime\n",
    "campaign.loc[:, \"last_contact_date\"] = pd.to_datetime(campaign[\"last_contact_date\"], format=\"%Y-%b-%d\")\n",
    "\n",
    "# Clean and convert outcome columns to bool\n",
    "for col in [\"deposit\", \"poutcome\"]:\n",
    "    campaign.loc[:, col] = campaign[col].astype(bool)\n",
    "\n",
    "# Drop unnecessary columns\n",
    "campaign.drop(columns=[\"month\", \"day\", \"year\"], inplace=True)\n",
    "\n",
    "# Save tables to individual csv files\n",
    "client.to_csv(\"client.csv\", index=False)\n",
    "campaign.to_csv(\"campaign.csv\", index=False)\n",
    "economics.to_csv(\"economics.csv\", index=False)\n"
   ]
  }
 ],
 "metadata": {
  "kernelspec": {
   "display_name": "Python 3",
   "language": "python",
   "name": "python3"
  },
  "language_info": {
   "codemirror_mode": {
    "name": "ipython",
    "version": 3
   },
   "file_extension": ".py",
   "mimetype": "text/x-python",
   "name": "python",
   "nbconvert_exporter": "python",
   "pygments_lexer": "ipython3",
   "version": "3.12.0"
  }
 },
 "nbformat": 4,
 "nbformat_minor": 2
}
