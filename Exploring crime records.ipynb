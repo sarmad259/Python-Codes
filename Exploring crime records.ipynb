{
 "cells": [
  {
   "cell_type": "code",
   "execution_count": 12,
   "metadata": {},
   "outputs": [
    {
     "name": "stdout",
     "output_type": "stream",
     "text": [
      "Index(['DR_NO', 'Date Rptd', 'DATE OCC', 'TIME OCC', 'AREA ', 'AREA NAME',\n",
      "       'Rpt Dist No', 'Part 1-2', 'Crm Cd', 'Crm Cd Desc', 'Mocodes',\n",
      "       'Vict Age', 'Vict Sex', 'Vict Descent', 'Premis Cd', 'Premis Desc',\n",
      "       'Weapon Used Cd', 'Weapon Desc', 'Status', 'Status Desc', 'Crm Cd 1',\n",
      "       'Crm Cd 2', 'Crm Cd 3', 'Crm Cd 4', 'LOCATION', 'Cross Street', 'LAT',\n",
      "       'LON'],\n",
      "      dtype='object')\n",
      "       DR_NO       Date Rptd        DATE OCC  TIME OCC  AREA   AREA NAME  \\\n",
      "0    1307355  2/20/2010 0:00  2/20/2010 0:00      1350     13     Newton   \n",
      "1   11401303  9/13/2010 0:00  9/12/2010 0:00        45     14    Pacific   \n",
      "2   70309629   8/9/2010 0:00   8/9/2010 0:00      1515     13     Newton   \n",
      "3   90631215   1/5/2010 0:00   1/5/2010 0:00       150      6  Hollywood   \n",
      "4  100100501   1/3/2010 0:00   1/2/2010 0:00      2100      1    Central   \n",
      "\n",
      "   Rpt Dist No  Part 1-2  Crm Cd  \\\n",
      "0         1385         2     900   \n",
      "1         1485         2     740   \n",
      "2         1324         2     946   \n",
      "3          646         2     900   \n",
      "4          176         1     122   \n",
      "\n",
      "                                         Crm Cd Desc  ... Status  \\\n",
      "0                           VIOLATION OF COURT ORDER  ...     AA   \n",
      "1  VANDALISM - FELONY ($400 & OVER, ALL CHURCH VA...  ...     IC   \n",
      "2                          OTHER MISCELLANEOUS CRIME  ...     IC   \n",
      "3                           VIOLATION OF COURT ORDER  ...     IC   \n",
      "4                                    RAPE, ATTEMPTED  ...     IC   \n",
      "\n",
      "    Status Desc Crm Cd 1 Crm Cd 2  Crm Cd 3 Crm Cd 4  \\\n",
      "0  Adult Arrest      900      NaN       NaN      NaN   \n",
      "1   Invest Cont      740      NaN       NaN      NaN   \n",
      "2   Invest Cont      946      NaN       NaN      NaN   \n",
      "3   Invest Cont      900    998.0       NaN      NaN   \n",
      "4   Invest Cont      122      NaN       NaN      NaN   \n",
      "\n",
      "                                  LOCATION                     Cross Street  \\\n",
      "0   300 E  GAGE                         AV                              NaN   \n",
      "1          SEPULVEDA                    BL  MANCHESTER                   AV   \n",
      "2  1300 E  21ST                         ST                              NaN   \n",
      "3          CAHUENGA                     BL  HOLLYWOOD                    BL   \n",
      "4          8TH                          ST  SAN PEDRO                    ST   \n",
      "\n",
      "       LAT       LON  \n",
      "0  33.9825 -118.2695  \n",
      "1  33.9599 -118.3962  \n",
      "2  34.0224 -118.2524  \n",
      "3  34.1016 -118.3295  \n",
      "4  34.0387 -118.2488  \n",
      "\n",
      "[5 rows x 28 columns]\n",
      "The peak crime hour is 20\n"
     ]
    },
    {
     "data": {
      "image/png": "[encoded data removed]",
      "text/plain": [
       "<Figure size 640x480 with 1 Axes>"
      ]
     },
     "metadata": {},
     "output_type": "display_data"
    },
    {
     "name": "stdout",
     "output_type": "stream",
     "text": [
      "The area with the largest volume of night crime is Central\n",
      "Age Bracket\n",
      "18-25    31\n",
      "26-34    30\n",
      "35-44    25\n",
      "45-54    21\n",
      "55-64    12\n",
      "0-17      4\n",
      "65+       2\n",
      "Name: count, dtype: int64\n"
     ]
    }
   ],
   "source": [
    "import pandas as pd\n",
    "import pandas as pd\n",
    "import numpy as np\n",
    "import matplotlib.pyplot as plt\n",
    "import seaborn as sns\n",
    "\n",
    "# Try different encodings if UTF-8 fails\n",
    "encodings = ['latin1', 'iso-8859-1', 'cp1252']\n",
    "\n",
    "# Load the file\n",
    "file = pd.read_csv('file2.csv')\n",
    "\n",
    "# Print column names and first few rows to inspect the data\n",
    "print(file.columns)\n",
    "print(file.head())\n",
    "# Ensure 'TIME OCC' column is treated as string and extract the first two digits\n",
    "file[\"TIME OCC\"] = file[\"TIME OCC\"].astype(str).str.zfill(4)  # Ensure all times are 4 digits\n",
    "file[\"HOUR OCC\"] = file[\"TIME OCC\"].str[:2].astype(int)\n",
    "# Find the peak crime hour\n",
    "peak_crime_hour = file['HOUR OCC'].mode()[0]\n",
    "print(f\"The peak crime hour is {peak_crime_hour}\")\n",
    "\n",
    "sns.countplot(data=file, x=\"HOUR OCC\")\n",
    "plt.show()\n",
    "\n",
    "# Midday has the largest volume of crime\n",
    "peak_crime_hour = 12\n",
    "\n",
    "## Which area has the largest frequency of night file (file committed between 10pm and 3:59am)? \n",
    "## Save as a string variable called peak_night_crime_location\n",
    "# Filter for the night-time hours\n",
    "# 0 = midnight; 3 = file between 3am and 3:59am, i.e., don't include 4\n",
    "night_time = file[file[\"HOUR OCC\"].isin([22,23,0,1,2,3])]\n",
    "\n",
    "# Group by \"AREA NAME\" and count occurrences, filtering for the largest value and saving the \"AREA NAME\"\n",
    "peak_night_crime_location = night_time.groupby(\"AREA NAME\", as_index=False)[\"HOUR OCC\"].count().sort_values(\"HOUR OCC\",\n",
    "ascending=False).iloc[0][\"AREA NAME\"]\n",
    "# Print the peak night crime location\n",
    "print(f\"The area with the largest volume of night crime is {peak_night_crime_location}\")\n",
    "\n",
    "## Identify the number of file committed against victims by age group (0-17, 18-25, 26-34, 35-44, 45-54, 55-64, 65+) \n",
    "## Save as a pandas Series called victim_ages\n",
    "# Create bins and labels for victim age ranges\n",
    "age_bins = [0, 17, 25, 34, 44, 54, 64, np.inf]\n",
    "age_labels = [\"0-17\", \"18-25\", \"26-34\", \"35-44\", \"45-54\", \"55-64\", \"65+\"]\n",
    "\n",
    "# Add a new column using pd.cut() to bin values into discrete intervals\n",
    "file[\"Age Bracket\"] = pd.cut(file[\"Vict Age\"],bins=age_bins, labels=age_labels)\n",
    "\n",
    "# Find the category with the largest frequency\n",
    "victim_ages = file[\"Age Bracket\"].value_counts()\n",
    "print(victim_ages)"
   ]
  }
 ],
 "metadata": {
  "kernelspec": {
   "display_name": "Python 3",
   "language": "python",
   "name": "python3"
  },
  "language_info": {
   "codemirror_mode": {
    "name": "ipython",
    "version": 3
   },
   "file_extension": ".py",
   "mimetype": "text/x-python",
   "name": "python",
   "nbconvert_exporter": "python",
   "pygments_lexer": "ipython3",
   "version": "3.12.0"
  }
 },
 "nbformat": 4,
 "nbformat_minor": 2
}
